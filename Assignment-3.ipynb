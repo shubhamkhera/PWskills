{
 "cells": [
  {
   "cell_type": "markdown",
   "id": "f6836b6f-4085-4fe6-8c98-94ded456ec63",
   "metadata": {},
   "source": [
    "### Q1. Which keyword is used to create a function? Create a function to return a list of odd numbers in the range of 1 to 25."
   ]
  },
  {
   "cell_type": "markdown",
   "id": "ac2e31d2-9089-4b50-ac96-371a8ed369ce",
   "metadata": {},
   "source": [
    "**A1. \"def\" keyword is used to declare a function**\n",
    "\n",
    "\n",
    "**function returning liast of odd numbers from 1 to 25:**"
   ]
  },
  {
   "cell_type": "code",
   "execution_count": 1,
   "id": "182255f3-6c99-4b16-b032-ba34e71b489d",
   "metadata": {},
   "outputs": [
    {
     "data": {
      "text/plain": [
       "[1, 3, 5, 7, 9, 11, 13, 15, 17, 19, 21, 23, 25]"
      ]
     },
     "execution_count": 1,
     "metadata": {},
     "output_type": "execute_result"
    }
   ],
   "source": [
    "oddList = []\n",
    "def odd_num():\n",
    "    for i in range(1,26):\n",
    "        if i%2 != 0:\n",
    "            oddList.append(i)\n",
    "    return oddList\n",
    "odd_num()"
   ]
  },
  {
   "cell_type": "markdown",
   "id": "b85f2458-414e-4a16-b1ea-c9d07c1f650b",
   "metadata": {},
   "source": [
    "### Q2. Why *args and **kwargs is used in some functions? Create a function each for *args and **kwargs to demonstrate their use."
   ]
  },
  {
   "cell_type": "markdown",
   "id": "aef9bb72-2148-4fcd-83c1-7291094adb20",
   "metadata": {},
   "source": [
    "### In Python, *args and **kwargs are special syntaxes used in function definitions to handle a variable number of positional and keyword arguments, respectively. They allow you to pass an arbitrary number of arguments to a function without knowing in advance how many arguments will be passed.\n",
    "\n",
    "#### Here are examples demonstrating the use of *args and **kwargs:"
   ]
  },
  {
   "cell_type": "code",
   "execution_count": 2,
   "id": "aa84a237-fd78-4a19-9a6c-7cab9b334544",
   "metadata": {},
   "outputs": [
    {
     "name": "stdout",
     "output_type": "stream",
     "text": [
      "Below is output for *args:\n",
      "First\n",
      "Second\n",
      "Third\n",
      "Fourth\n",
      "Below is output for *kwargs:\n",
      "key = First, value = 1 ==> First == 1\n",
      "key = Second, value = 2 ==> Second == 2\n",
      "key = Third, value = 3 ==> Third == 3\n",
      "key = Fourth, value = 4 ==> Fourth == 4\n"
     ]
    }
   ],
   "source": [
    "def funArgs(*args):\n",
    "    for arg in args:\n",
    "        print(f\"{arg}\" )\n",
    "        \n",
    "def funKwargs(**kwargs):\n",
    "    for key, value in kwargs.items():\n",
    "        print(f\"key = {key}, value = {value} ==> {key} == {value}\")\n",
    "\n",
    "print(\"Below is output for *args:\")\n",
    "funArgs(\"First\", \"Second\", \"Third\", \"Fourth\")\n",
    "print(\"Below is output for *kwargs:\")\n",
    "funKwargs(First = \"1\", Second = \"2\", Third = \"3\", Fourth = \"4\")"
   ]
  },
  {
   "cell_type": "markdown",
   "id": "9c74e08d-8b19-4b2b-b39a-d0ac2987272b",
   "metadata": {},
   "source": [
    "### Q3. What is an iterator in python? Name the method used to initialise the iterator object and the method used for iteration. Use these methods to print the first five elements of the given list [2, 4, 6, 8, 10, 12, 14, 16, 18, 20]."
   ]
  },
  {
   "cell_type": "markdown",
   "id": "7cd81433-0f2d-4ef4-a35f-8dfdbf5886c0",
   "metadata": {},
   "source": [
    "#### An iterator is an object that allows you to traverse through a sequence of items, one at a time, without having to store the entire sequence in memory."
   ]
  },
  {
   "cell_type": "code",
   "execution_count": 3,
   "id": "cde8e608-f7ed-418c-9442-8307931cb231",
   "metadata": {},
   "outputs": [
    {
     "name": "stdout",
     "output_type": "stream",
     "text": [
      "2\n",
      "4\n",
      "6\n",
      "8\n",
      "10\n",
      "12\n",
      "14\n",
      "16\n",
      "18\n",
      "20\n"
     ]
    }
   ],
   "source": [
    "my_list = [2, 4, 6, 8, 10, 12, 14, 16, 18, 20]\n",
    "\n",
    "my_iterator = iter(my_list)\n",
    "\n",
    "for _ in range(len(my_list)):\n",
    "    element = next(my_iterator)\n",
    "    print(element)"
   ]
  },
  {
   "cell_type": "markdown",
   "id": "4a4bed17-2876-407b-852e-3d49b464a534",
   "metadata": {},
   "source": [
    "### Q4. What is a generator function in python? Why yield keyword is used? Give an example of a generator function."
   ]
  },
  {
   "cell_type": "markdown",
   "id": "ada5f135-e6a0-4c13-919d-416e71dcfba7",
   "metadata": {},
   "source": [
    "#### A generator function in Python is a special type of function that generates values one at a time using the yield keyword instead of returning a value with return. The yield keyword is used in generator functions to yield a value to the caller and pause the function's execution state. When the generator function is later invoked again (usually with the next() function in a loop), it resumes its execution from where it was paused and continues to generate the next value. "
   ]
  },
  {
   "cell_type": "code",
   "execution_count": 4,
   "id": "38f2f86b-bf3b-4495-803d-ff35d780ffd8",
   "metadata": {},
   "outputs": [
    {
     "name": "stdout",
     "output_type": "stream",
     "text": [
      "0\n",
      "2\n",
      "4\n",
      "6\n",
      "8\n",
      "10\n",
      "12\n",
      "14\n"
     ]
    }
   ],
   "source": [
    "def even_numbers(length):\n",
    "    num = 0\n",
    "    while num < length:\n",
    "        yield num\n",
    "        num += 2\n",
    "\n",
    "even_gen = even_numbers(15)\n",
    "\n",
    "for num in even_gen:\n",
    "    print(num)"
   ]
  },
  {
   "cell_type": "markdown",
   "id": "621cf44c-74cf-4720-85b0-e3b15d6447c1",
   "metadata": {},
   "source": [
    "### Q5. Create a generator function for prime numbers less than 1000. Use the next() method to print the first 20 prime numbers."
   ]
  },
  {
   "cell_type": "code",
   "execution_count": 6,
   "id": "cb979eec-00ff-434b-93d4-3658d4624e1d",
   "metadata": {},
   "outputs": [
    {
     "name": "stdin",
     "output_type": "stream",
     "text": [
      "Enter the count of prime numbers required: 20\n"
     ]
    },
    {
     "name": "stdout",
     "output_type": "stream",
     "text": [
      "2\n",
      "3\n",
      "5\n",
      "7\n",
      "11\n",
      "13\n",
      "17\n",
      "19\n",
      "23\n",
      "29\n",
      "31\n",
      "37\n",
      "41\n",
      "43\n",
      "47\n",
      "53\n",
      "59\n",
      "61\n",
      "67\n",
      "71\n"
     ]
    }
   ],
   "source": [
    "def is_prime(n):\n",
    "    if n <= 1:\n",
    "        return False\n",
    "    if n <= 3:\n",
    "        return True\n",
    "    if n % 2 == 0 or n % 3 == 0:\n",
    "        return False\n",
    "    i = 5\n",
    "    while i * i <= n:\n",
    "        if n % i == 0 or n % (i + 2) == 0:\n",
    "            return False\n",
    "        i += 6\n",
    "    return True\n",
    "\n",
    "def prime_generator(limit):\n",
    "    num = 2\n",
    "    count = 0\n",
    "    while count < limit:\n",
    "        if is_prime(num):\n",
    "            yield num\n",
    "            count += 1\n",
    "        num += 1\n",
    "\n",
    "length = int(input(\"Enter the count of prime numbers required:\"))\n",
    "        \n",
    "prime_gen = prime_generator(length)\n",
    "\n",
    "for _ in range(20):\n",
    "    prime = next(prime_gen)\n",
    "    print(prime)\n"
   ]
  },
  {
   "cell_type": "markdown",
   "id": "e672019b-33c1-4182-9efd-e8756117e6b2",
   "metadata": {},
   "source": [
    "### Q6. Write a python program to print the first 10 Fibonacci numbers using a while loop."
   ]
  },
  {
   "cell_type": "code",
   "execution_count": 7,
   "id": "f763fb60-e189-45c0-b771-9bf1e29ece6f",
   "metadata": {},
   "outputs": [
    {
     "name": "stdout",
     "output_type": "stream",
     "text": [
      "0\n",
      "1\n",
      "1\n",
      "2\n",
      "3\n",
      "5\n",
      "8\n",
      "13\n",
      "21\n",
      "34\n"
     ]
    }
   ],
   "source": [
    "def fibbonacci():\n",
    "    a = 0\n",
    "    b = 1\n",
    "    i = 0\n",
    "    \n",
    "    while i < 10:\n",
    "        print(a)\n",
    "        c = a + b\n",
    "        a = b\n",
    "        b = c\n",
    "        i += 1\n",
    "        \n",
    "fibbonacci()"
   ]
  },
  {
   "cell_type": "markdown",
   "id": "4c3f0d3d-0ae9-4598-b602-cca1f2f51222",
   "metadata": {},
   "source": [
    "### Q7. Write a List Comprehension to iterate through the given string: ‘pwskills’. Expected output: ['p', 'w', 's', 'k', 'i', 'l', 'l', 's']"
   ]
  },
  {
   "cell_type": "code",
   "execution_count": 8,
   "id": "0238111a-ce7b-47bd-85bf-1e47023020f4",
   "metadata": {},
   "outputs": [
    {
     "name": "stdout",
     "output_type": "stream",
     "text": [
      "p\n",
      "w\n",
      "s\n",
      "k\n",
      "i\n",
      "l\n",
      "l\n",
      "s\n"
     ]
    }
   ],
   "source": [
    "string = \"pwskills\"\n",
    "\n",
    "my_iterator = iter(string)\n",
    "\n",
    "for i in range(len(string)):\n",
    "    element = next(my_iterator)\n",
    "    print(element)"
   ]
  },
  {
   "cell_type": "markdown",
   "id": "a5209bd4-62b5-429a-aa70-fc822fe8683e",
   "metadata": {},
   "source": [
    "### Q8. Write a python program to check whether a given number is Palindrome or not using a while loop."
   ]
  },
  {
   "cell_type": "code",
   "execution_count": 9,
   "id": "c3a6fc1b-e88e-4a98-ae51-5d80ebb53871",
   "metadata": {},
   "outputs": [],
   "source": [
    "def palidromeCheck():\n",
    "    number = int(input(\"Enter a number to check Palindrome:\"))\n",
    "    numList1 = list(str(number))\n",
    "    numList2 = []\n",
    "    for i in range(1,len(numList1)+1):\n",
    "        numList2.append(numList1[-1])\n",
    "        numList1.pop()\n",
    "    newNum = int(\"\".join(numList2))\n",
    "\n",
    "    if newNum == number:\n",
    "        print(f\"Number {number} is Palindrome\")\n",
    "    else:\n",
    "        print(f\"Number {number} is not Palindrome\")"
   ]
  },
  {
   "cell_type": "code",
   "execution_count": 10,
   "id": "6ff6a5f5-c1f5-44b2-9983-4f0735a648f3",
   "metadata": {},
   "outputs": [
    {
     "name": "stdin",
     "output_type": "stream",
     "text": [
      "Enter a number to check Palindrome: 123454321\n"
     ]
    },
    {
     "name": "stdout",
     "output_type": "stream",
     "text": [
      "Number 123454321 is Palindrome\n"
     ]
    }
   ],
   "source": [
    "palidromeCheck()"
   ]
  },
  {
   "cell_type": "markdown",
   "id": "ef312ac8-d4f2-47ac-b4b2-3a7971cc2826",
   "metadata": {},
   "source": [
    "### Q9. Write a code to print odd numbers from 1 to 100 using list comprehension.\n",
    "**Note: Use a list comprehension to create a list from 1 to 100 and use another List comprehension to filter out odd numbers.**"
   ]
  },
  {
   "cell_type": "code",
   "execution_count": 11,
   "id": "91fdf547-1810-4b3a-b008-4286c5dd68f3",
   "metadata": {},
   "outputs": [
    {
     "name": "stdout",
     "output_type": "stream",
     "text": [
      "[1, 3, 5, 7, 9, 11, 13, 15, 17, 19, 21, 23, 25, 27, 29, 31, 33, 35, 37, 39, 41, 43, 45, 47, 49, 51, 53, 55, 57, 59, 61, 63, 65, 67, 69, 71, 73, 75, 77, 79, 81, 83, 85, 87, 89, 91, 93, 95, 97, 99]\n"
     ]
    }
   ],
   "source": [
    "odd_numbers = [num for num in range(1, 101) if num % 2 != 0]\n",
    "\n",
    "print(odd_numbers)"
   ]
  },
  {
   "cell_type": "code",
   "execution_count": null,
   "id": "7963f292-9aa9-4926-8107-09d9d443f982",
   "metadata": {},
   "outputs": [],
   "source": []
  }
 ],
 "metadata": {
  "kernelspec": {
   "display_name": "Python 3 (ipykernel)",
   "language": "python",
   "name": "python3"
  },
  "language_info": {
   "codemirror_mode": {
    "name": "ipython",
    "version": 3
   },
   "file_extension": ".py",
   "mimetype": "text/x-python",
   "name": "python",
   "nbconvert_exporter": "python",
   "pygments_lexer": "ipython3",
   "version": "3.10.8"
  }
 },
 "nbformat": 4,
 "nbformat_minor": 5
}
