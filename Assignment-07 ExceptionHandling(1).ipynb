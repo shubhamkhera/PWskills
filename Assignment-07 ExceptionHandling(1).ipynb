{
 "cells": [
  {
   "cell_type": "markdown",
   "id": "1f52d75a-170c-4337-8b43-2e7fb3562e87",
   "metadata": {},
   "source": [
    "### Q1. What is an Exception in python? Write the difference between Exceptions and Syntax errors."
   ]
  },
  {
   "cell_type": "markdown",
   "id": "4f95339c-3d28-4a3c-af79-23f8de87a9c4",
   "metadata": {},
   "source": [
    "In Python, an exception is a runtime error that occurs during the execution of a program. When an exceptional situation arises, such as attempting to divide by zero or accessing an index that doesn't exist in a list, Python raises an exception. Exception handling allows developers to anticipate and respond to these situations, preventing the program from terminating unexpectedly and help the program to run further."
   ]
  },
  {
   "cell_type": "markdown",
   "id": "d9321d4b-a60d-406b-b01a-e3c91dd21817",
   "metadata": {},
   "source": [
    "Exceptions occur during the runtime of a program when a specific condition or error is encountered. Whereas Syntax errors are detected by the Python interpreter during the parsing phase, before the program starts executing. These errors are typically due to incorrect syntax in the code."
   ]
  },
  {
   "cell_type": "markdown",
   "id": "3ae206d4-9cdd-4ccd-8a44-a5c06deb8b78",
   "metadata": {},
   "source": [
    "### Q2. What happens when an exception is not handled? Explain with an example."
   ]
  },
  {
   "cell_type": "markdown",
   "id": "522d6b9b-5de2-46a5-bfae-aec5d83c986a",
   "metadata": {},
   "source": [
    "When an exception is not handled in Python, it propagates up the call stack until it encounters an appropriate exception handler or reaches the top level of the program. If the exception is not caught and handled anywhere along the way, the program terminates, and an error message (including the exception type, message, and traceback) is displayed.\n",
    "\n",
    "Example:"
   ]
  },
  {
   "cell_type": "code",
   "execution_count": 1,
   "id": "9e835595-7964-4670-887c-e69492bb3d18",
   "metadata": {},
   "outputs": [
    {
     "ename": "ZeroDivisionError",
     "evalue": "division by zero",
     "output_type": "error",
     "traceback": [
      "\u001b[0;31m---------------------------------------------------------------------------\u001b[0m",
      "\u001b[0;31mZeroDivisionError\u001b[0m                         Traceback (most recent call last)",
      "Cell \u001b[0;32mIn[1], line 2\u001b[0m\n\u001b[1;32m      1\u001b[0m \u001b[38;5;66;03m# Code that may raise an error\u001b[39;00m\n\u001b[0;32m----> 2\u001b[0m \u001b[38;5;241;43m10\u001b[39;49m\u001b[38;5;241;43m/\u001b[39;49m\u001b[38;5;241;43m0\u001b[39;49m \u001b[38;5;66;03m# Attempting to divide by zero\u001b[39;00m\n",
      "\u001b[0;31mZeroDivisionError\u001b[0m: division by zero"
     ]
    }
   ],
   "source": [
    "# Code that may raise an error\n",
    "10/0 # Attempting to divide by zero"
   ]
  },
  {
   "cell_type": "code",
   "execution_count": null,
   "id": "7b7c636f-91de-4cd4-af4b-a6164da74d74",
   "metadata": {},
   "outputs": [],
   "source": [
    "# Code that may raise an error\n",
    "def zero():\n",
    "    result = 10 / 0 # Attempting to divide by zero\n",
    "    return result\n",
    "\n",
    "res = zero()\n",
    "print(\"Result:\", res)"
   ]
  },
  {
   "cell_type": "markdown",
   "id": "15dea5ec-33fd-4de9-9819-9883f7c8af1e",
   "metadata": {},
   "source": [
    "### Q3. Which Python statements are used to catch and handle exceptions? Explain with an example\n",
    "\n"
   ]
  },
  {
   "cell_type": "markdown",
   "id": "6f4984e2-21eb-44f3-9fbe-acc9b2f93cad",
   "metadata": {},
   "source": [
    "In Python, the try, except, else, and finally statements are used to catch and handle exceptions. These statements allow developers to implement error-handling mechanisms, preventing the program from terminating abruptly when an exception occurs."
   ]
  },
  {
   "cell_type": "code",
   "execution_count": 2,
   "id": "6f92e0a6-ceaa-4c83-b2dd-014e137795c5",
   "metadata": {},
   "outputs": [
    {
     "name": "stdout",
     "output_type": "stream",
     "text": [
      "Error: division by zero\n",
      "This block always run\n"
     ]
    }
   ],
   "source": [
    "try:\n",
    "    # Code that may raise an exception\n",
    "    result = 10 / 0  # Attempting to divide by zero\n",
    "except ZeroDivisionError as e:\n",
    "    # Handling the specific exception\n",
    "    print(\"Error: {}\".format(e))\n",
    "else:\n",
    "    print(\"Division successful!\")\n",
    "finally:\n",
    "    print(\"This block always run\")"
   ]
  },
  {
   "cell_type": "code",
   "execution_count": 3,
   "id": "3c6e0b82-31b0-41e2-be6b-59d8ee1394a9",
   "metadata": {},
   "outputs": [
    {
     "name": "stdout",
     "output_type": "stream",
     "text": [
      "Division successful!\n",
      "This block always run\n"
     ]
    }
   ],
   "source": [
    "try:\n",
    "    # No exception here\n",
    "    result = 10 / 5\n",
    "except ZeroDivisionError as e:\n",
    "    print(\"Error: {}\".format(e))\n",
    "else:\n",
    "    print(\"Division successful!\")\n",
    "finally:\n",
    "    print(\"This block always run\")"
   ]
  },
  {
   "cell_type": "markdown",
   "id": "382432ba-4502-4e6a-9b86-afe0c815466a",
   "metadata": {},
   "source": [
    "### Q4. Explain with an example:\n",
    "    a. try and else\n",
    "    b. finally\n",
    "    c. raise"
   ]
  },
  {
   "cell_type": "markdown",
   "id": "e8509b45-1d67-464d-9a45-18029db05320",
   "metadata": {},
   "source": [
    "#### a. try and else\n",
    "##### The try block is used to enclose code that might raise an exception, and the else block is executed only if no exceptions occur in the try block.\n",
    "\n"
   ]
  },
  {
   "cell_type": "code",
   "execution_count": 4,
   "id": "3ba3a838-ab6f-41bd-ad05-7cb9d9c5bd0a",
   "metadata": {},
   "outputs": [
    {
     "name": "stdout",
     "output_type": "stream",
     "text": [
      "Division successful! Result: 5.0\n"
     ]
    }
   ],
   "source": [
    "def divide_numbers(a, b):\n",
    "    try:\n",
    "        result = a / b\n",
    "    except ZeroDivisionError as e:\n",
    "        print(\"Error: {}\".format(e))\n",
    "    else:\n",
    "        print(\"Division successful! Result:\", result)\n",
    "\n",
    "# Example 1: Division by a non-zero number\n",
    "divide_numbers(10, 2)\n",
    "# Output: Division successful! Result: 5.0"
   ]
  },
  {
   "cell_type": "code",
   "execution_count": 5,
   "id": "0a9e2784-329a-43a2-ac53-3aa2a77030fd",
   "metadata": {},
   "outputs": [
    {
     "name": "stdout",
     "output_type": "stream",
     "text": [
      "Error: division by zero\n"
     ]
    }
   ],
   "source": [
    "# Example 2: Division by zero\n",
    "divide_numbers(10, 0)\n",
    "# Output: Error: division by zero"
   ]
  },
  {
   "cell_type": "markdown",
   "id": "82ddbcf9-3bea-4e77-a252-74ce8ca71fb5",
   "metadata": {},
   "source": [
    "#### b. finally\n",
    "##### The finally block contains code that is always executed, regardless of whether an exception occurs or not. It is often used for cleanup operations."
   ]
  },
  {
   "cell_type": "code",
   "execution_count": 6,
   "id": "4bdac3be-9383-48d1-9472-66efdaeda52f",
   "metadata": {},
   "outputs": [
    {
     "name": "stdout",
     "output_type": "stream",
     "text": [
      "Division successful! Result: 5.0\n",
      "This block always runs.\n"
     ]
    }
   ],
   "source": [
    "def divide_numbers(a, b):\n",
    "    try:\n",
    "        result = a / b\n",
    "        print(\"Division successful! Result:\", result)\n",
    "    except ZeroDivisionError as e:\n",
    "        print(\"Error: {}\".format(e))\n",
    "    finally:\n",
    "        print(\"This block always runs.\")\n",
    "\n",
    "# Example 1: Division by a non-zero number\n",
    "divide_numbers(10, 2)\n",
    "# Output: Division successful! Result: 5.0\n",
    "#         This block always runs."
   ]
  },
  {
   "cell_type": "code",
   "execution_count": 7,
   "id": "9bd405ec-4474-474d-9538-a7418345f2f8",
   "metadata": {},
   "outputs": [
    {
     "name": "stdout",
     "output_type": "stream",
     "text": [
      "Error: division by zero\n",
      "This block always runs.\n"
     ]
    }
   ],
   "source": [
    "# Example 2: Division by zero\n",
    "divide_numbers(10, 0)\n",
    "# Output: Error: division by zero\n",
    "#         This block always runs."
   ]
  },
  {
   "cell_type": "markdown",
   "id": "4f7778d3-eda1-4915-8a96-78daedb654d2",
   "metadata": {},
   "source": [
    "#### c. raise\n",
    "##### The raise statement is used to explicitly raise an exception. It can be used to interrupt the normal flow of the program and indicate that an error or exceptional situation has occurred."
   ]
  },
  {
   "cell_type": "code",
   "execution_count": 8,
   "id": "4421434d-e548-4538-9f6a-ad14fc853995",
   "metadata": {},
   "outputs": [
    {
     "name": "stdout",
     "output_type": "stream",
     "text": [
      "You are an adult.\n"
     ]
    }
   ],
   "source": [
    "def check_age(age):\n",
    "    if age < 0:\n",
    "        raise ValueError(\"Age cannot be negative\")\n",
    "    elif age < 18:\n",
    "        print(\"You are a minor.\")\n",
    "    else:\n",
    "        print(\"You are an adult.\")\n",
    "\n",
    "# Example 1: Valid age\n",
    "try:\n",
    "    check_age(25)\n",
    "except ValueError as e:\n",
    "    print(\"Error: {}\".format(e))\n",
    "# Output: You are an adult."
   ]
  },
  {
   "cell_type": "code",
   "execution_count": 9,
   "id": "de7b9223-3b7a-47c3-b18d-af2aa9642f59",
   "metadata": {},
   "outputs": [
    {
     "name": "stdout",
     "output_type": "stream",
     "text": [
      "Error: Age cannot be negative\n"
     ]
    }
   ],
   "source": [
    "# Example 2: Invalid age (negative)\n",
    "try:\n",
    "    check_age(-5)\n",
    "except ValueError as e:\n",
    "    print(\"Error: {}\".format(e))\n",
    "# Output: Error: Age cannot be negative"
   ]
  },
  {
   "cell_type": "code",
   "execution_count": null,
   "id": "3687e356-b12d-4141-acdd-4036a8d73fc6",
   "metadata": {},
   "outputs": [],
   "source": []
  },
  {
   "cell_type": "markdown",
   "id": "cb082ff2-f4ab-4dff-b612-937b87be0f25",
   "metadata": {},
   "source": [
    "### Q5. What are Custom Exceptions in python? Why do we need Custom Exceptions? Explain with an example."
   ]
  },
  {
   "cell_type": "code",
   "execution_count": 13,
   "id": "fc4308cf-4e9f-4943-98ca-67a35c5ccbf5",
   "metadata": {},
   "outputs": [
    {
     "name": "stdout",
     "output_type": "stream",
     "text": [
      "Processing positive value: 42\n"
     ]
    }
   ],
   "source": [
    "class NegativeValueError(Exception):\n",
    "    def __init__(self, value, message=\"Value cannot be negative\"):\n",
    "        self.value = value\n",
    "        self.message = message\n",
    "        super().__init__(self.message)\n",
    "def process_positive_value(value):\n",
    "    if value < 0:\n",
    "        raise NegativeValueError(value)\n",
    "    else:\n",
    "        print(\"Processing positive value:\", value)"
   ]
  },
  {
   "cell_type": "code",
   "execution_count": 15,
   "id": "000edd35-b426-41d4-b010-681a9d340387",
   "metadata": {},
   "outputs": [
    {
     "name": "stdout",
     "output_type": "stream",
     "text": [
      "Processing positive value: 42\n"
     ]
    }
   ],
   "source": [
    "# Example 1: Valid positive value\n",
    "try:\n",
    "    process_positive_value(42)\n",
    "except NegativeValueError as e:\n",
    "    print(f\"Error: {e}\")\n",
    "# Output: Processing positive value: 42"
   ]
  },
  {
   "cell_type": "code",
   "execution_count": 14,
   "id": "53abbd61-5e9e-4127-a4c3-b514897e0481",
   "metadata": {},
   "outputs": [
    {
     "name": "stdout",
     "output_type": "stream",
     "text": [
      "Error: Value cannot be negative\n"
     ]
    }
   ],
   "source": [
    "# Example 2: Invalid negative value\n",
    "try:\n",
    "    process_positive_value(-5)\n",
    "except NegativeValueError as e:\n",
    "    print(f\"Error: {e}\")\n",
    "# Output: Error: Value cannot be negative"
   ]
  },
  {
   "cell_type": "markdown",
   "id": "ae2d107e-99f0-4461-9735-1275b7fbf183",
   "metadata": {},
   "source": [
    "### Q6. Create custom exception class. Use this class to handle an exception."
   ]
  },
  {
   "cell_type": "code",
   "execution_count": 20,
   "id": "962d4839-e59d-47f7-b660-6082ec60d90c",
   "metadata": {},
   "outputs": [],
   "source": [
    "class NegativeValueError(Exception):\n",
    "    def __init__(self, value, message=\"Value cannot be negative\"):\n",
    "        self.value = value\n",
    "        self.message = message\n",
    "        super().__init__(self.message)\n",
    "def process_positive_value(value):\n",
    "    if value < 0:\n",
    "        raise NegativeValueError(value)\n",
    "    else:\n",
    "        print(\"Processing positive value:\", value)"
   ]
  },
  {
   "cell_type": "code",
   "execution_count": 21,
   "id": "7506396f-9c84-4c02-b12e-cd7f5549d252",
   "metadata": {},
   "outputs": [
    {
     "name": "stdout",
     "output_type": "stream",
     "text": [
      "Processing positive value: 42\n"
     ]
    }
   ],
   "source": [
    "# Example 1: Valid positive value\n",
    "try:\n",
    "    process_positive_value(42)\n",
    "except NegativeValueError as e:\n",
    "    print(f\"Error: {e}\")\n",
    "# Output: Processing positive value: 42"
   ]
  },
  {
   "cell_type": "code",
   "execution_count": 22,
   "id": "80e6321d-593f-427c-810f-4db8ec65ec6d",
   "metadata": {},
   "outputs": [
    {
     "name": "stdout",
     "output_type": "stream",
     "text": [
      "Error: Value cannot be negative\n"
     ]
    }
   ],
   "source": [
    "# Example 2: Invalid negative value\n",
    "try:\n",
    "    process_positive_value(-5)\n",
    "except NegativeValueError as e:\n",
    "    print(f\"Error: {e}\")\n",
    "# Output: Error: Value cannot be negative"
   ]
  },
  {
   "cell_type": "code",
   "execution_count": null,
   "id": "3adf5b1e-5cee-4051-b221-2df623020c9c",
   "metadata": {},
   "outputs": [],
   "source": []
  },
  {
   "cell_type": "code",
   "execution_count": null,
   "id": "4153c9d9-69a9-440c-a518-6a2fc8d9453b",
   "metadata": {},
   "outputs": [],
   "source": []
  }
 ],
 "metadata": {
  "kernelspec": {
   "display_name": "Python 3 (ipykernel)",
   "language": "python",
   "name": "python3"
  },
  "language_info": {
   "codemirror_mode": {
    "name": "ipython",
    "version": 3
   },
   "file_extension": ".py",
   "mimetype": "text/x-python",
   "name": "python",
   "nbconvert_exporter": "python",
   "pygments_lexer": "ipython3",
   "version": "3.10.8"
  }
 },
 "nbformat": 4,
 "nbformat_minor": 5
}
