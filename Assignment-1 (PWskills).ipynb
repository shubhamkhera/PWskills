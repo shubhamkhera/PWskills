{
 "cells": [
  {
   "cell_type": "markdown",
   "id": "7bd85f53-d347-4f8e-956e-888d15e34290",
   "metadata": {},
   "source": [
    "Q1. Create one variable containing following type of data:\n",
    "- (i) string\n",
    "- (ii) list\n",
    "- (iii) float\n",
    "- (iv) tuple"
   ]
  },
  {
   "cell_type": "code",
   "execution_count": 1,
   "id": "51f63909-2de5-4923-b109-a88b6d27f05a",
   "metadata": {},
   "outputs": [],
   "source": [
    "stringVar = str()\n",
    "listVar = []\n",
    "floatVar = float()\n",
    "tupleVar = ()"
   ]
  },
  {
   "cell_type": "code",
   "execution_count": 2,
   "id": "363c9922-131e-4ac9-9d4e-4293004b569f",
   "metadata": {},
   "outputs": [
    {
     "name": "stdout",
     "output_type": "stream",
     "text": [
      "Datatype of stringVar variable: <class 'str'>\n",
      "Datatype of listVar variable: <class 'list'>\n",
      "Datatype of floatVar variable: <class 'float'>\n",
      "Datatype of tupleVar variable: <class 'tuple'>\n"
     ]
    }
   ],
   "source": [
    "print(f\"Datatype of stringVar variable: {type(stringVar)}\")\n",
    "print(f\"Datatype of listVar variable: {type(listVar)}\")\n",
    "print(f\"Datatype of floatVar variable: {type(floatVar)}\")\n",
    "print(f\"Datatype of tupleVar variable: {type(tupleVar)}\")"
   ]
  },
  {
   "cell_type": "markdown",
   "id": "13479a6a-a3b8-4b8a-819b-d7f462b1b8ab",
   "metadata": {},
   "source": [
    "Q2. Given are some following variables containing data:\n",
    "- (i) var1 = ‘ ‘\n",
    "- (ii) var2 = ‘[ DS , ML , Python]’\n",
    "- (iii) var3 = [ ‘DS’ , ’ML’ , ‘Python’ ]\n",
    "- (iv) var4 = 1.\n",
    "\n",
    "\n",
    "What will be the data type of the above given variable.\n"
   ]
  },
  {
   "cell_type": "code",
   "execution_count": 3,
   "id": "fe62cf65-8830-4a72-9216-f788719fd08a",
   "metadata": {},
   "outputs": [
    {
     "name": "stdout",
     "output_type": "stream",
     "text": [
      "Datatype of var1 variable: <class 'str'>\n",
      "Datatype of var2 variable: <class 'str'>\n",
      "Datatype of var3 variable: <class 'list'>\n",
      "Datatype of var4 variable: <class 'int'>\n"
     ]
    }
   ],
   "source": [
    "var1 = ''\n",
    "var2 = '[ DS , ML , Python]'\n",
    "var3 = [ 'DS' , 'ML' , 'Python' ]\n",
    "var4 = 1\n",
    "print(f\"Datatype of var1 variable: {type(var1)}\")\n",
    "print(f\"Datatype of var2 variable: {type(var2)}\")\n",
    "print(f\"Datatype of var3 variable: {type(var3)}\")\n",
    "print(f\"Datatype of var4 variable: {type(var4)}\")"
   ]
  },
  {
   "cell_type": "markdown",
   "id": "43b1d5f4-f0b7-451a-90ed-50c11f9af1b5",
   "metadata": {},
   "source": [
    "Q3. Explain the use of the following operators using an example:\n",
    "- (i) /\n",
    "- (ii) %\n",
    "- (iii) //\n",
    "- (iv) **"
   ]
  },
  {
   "cell_type": "code",
   "execution_count": 4,
   "id": "cde55c50-d4df-4dc3-a645-49f5d662cb06",
   "metadata": {},
   "outputs": [
    {
     "name": "stdout",
     "output_type": "stream",
     "text": [
      "5.0\n",
      "10.5\n",
      "12\n",
      "16\n"
     ]
    }
   ],
   "source": [
    "# '/' the operator is to divide the numbers as shown in below example:\n",
    "print(10/2)\n",
    "# '%' Gives us the remier of a division\n",
    "print(21/2)\n",
    "# '//' Gives us an integer output after dividing the two numbers\n",
    "print(25//2)\n",
    "# '**' Use to provide the power to an numbers like squuare or cube of a number\n",
    "print(4**2)"
   ]
  },
  {
   "cell_type": "markdown",
   "id": "79a1e657-557d-4192-a1b8-56df20cbef96",
   "metadata": {},
   "source": [
    "Q4. Create a list of length 10 of your choice containing multiple types of data. Using for loop print the\n",
    "element and its data type"
   ]
  },
  {
   "cell_type": "code",
   "execution_count": 5,
   "id": "9e6328b1-6a2a-489d-8ede-d7acde2e1e08",
   "metadata": {},
   "outputs": [
    {
     "name": "stdout",
     "output_type": "stream",
     "text": [
      "1 has type of <class 'str'>\n",
      "test has type of <class 'str'>\n",
      "2 has type of <class 'int'>\n",
      "4 has type of <class 'int'>\n",
      "2.342 has type of <class 'float'>\n",
      "{1, 2, 3} has type of <class 'set'>\n",
      "(1, 2, 3) has type of <class 'tuple'>\n",
      "start has type of <class 'str'>\n",
      "90 has type of <class 'int'>\n",
      "11.23 has type of <class 'float'>\n"
     ]
    }
   ],
   "source": [
    "listVar = ['1', 'test', 2, 4, 2.342, {1,2, 3}, (1,2,3), 'start', 90, 11.23]\n",
    "for a in listVar:\n",
    "    print(f\"{a} has type of {type(a)}\")"
   ]
  },
  {
   "cell_type": "markdown",
   "id": "462b3251-1948-4e8d-b2b0-59a83d1ad763",
   "metadata": {},
   "source": [
    "Q5. Using a while loop, verify if the number A is purely divisible by number B and if so then how many\n",
    "times it can be divisible."
   ]
  },
  {
   "cell_type": "code",
   "execution_count": null,
   "id": "0a7e82ed-8f00-4e03-8d68-312bd931ec39",
   "metadata": {},
   "outputs": [],
   "source": [
    "count = 0\n",
    "A = int(input(\"Enter the value for A: \"))\n",
    "B = int(input(\"Enter the value for number B to check divisability of A: \"))\n",
    "\n",
    "while(A):\n",
    "    if A%B == 0:\n",
    "        A = A/B\n",
    "        count += 1\n",
    "        continue\n",
    "    else:\n",
    "        break\n",
    "print(count)"
   ]
  },
  {
   "cell_type": "markdown",
   "id": "96ebaaf2-90b5-4066-b96d-1934a373089d",
   "metadata": {},
   "source": [
    "Q6. Create a list containing 25 int type data. Using for loop and if-else condition print if the element is\n",
    "divisible by 3 or not."
   ]
  },
  {
   "cell_type": "code",
   "execution_count": null,
   "id": "a46bef86-adf2-42dd-9a2f-35c8660dc6c4",
   "metadata": {},
   "outputs": [],
   "source": [
    "import random\n",
    "\n",
    "random_list = [random.randint(1, 100) for _ in range(25)]\n",
    "print(random_list)\n",
    "\n",
    "divThree = []\n",
    "noDivThree = []\n",
    "\n",
    "for i in random_list:\n",
    "    if i % 3 == 0:\n",
    "        divThree.append(i)\n",
    "    else:\n",
    "        noDivThree.append(i)\n",
    "        \n",
    "print(f\"List of numbers divisible by Three:               {divThree}\")\n",
    "print(f\"List of numbers which are not divisible by Three: {noDivThree}\")"
   ]
  },
  {
   "cell_type": "markdown",
   "id": "2da665b0-4336-4628-bbb2-d11c86c13bac",
   "metadata": {},
   "source": [
    "Q7. What do you understand about mutable and immutable data types? Give examples for both showing\n",
    "this property."
   ]
  },
  {
   "cell_type": "markdown",
   "id": "ce9e9e96-8de7-407c-8c30-95142ba59fb3",
   "metadata": {},
   "source": [
    "Immutable Data Types:\n",
    "- Numbers (int, float, complex)\n",
    "- Strings (str)\n",
    "- Tuples (tuple)\n",
    "- Boolean (bool)\n",
    "- **Immutable data types cannot be modified after they are created. When you perform an operation that seems to modify an immutable object, such as concatenating strings or performing arithmetic operations on numbers, Python actually creates a new object with the modified value.**\n",
    "\n",
    "Mutable Data Types:\n",
    "- Lists (list)\n",
    "- Sets (set)\n",
    "- Dictionaries (dict)\n",
    "- **Mutable data types can be modified after they are created. You can change their values, add or remove elements, or modify existing elements in place. Any modifications made to a mutable object directly affect the original object without creating a new object.**\n",
    "\n",
    "### Example"
   ]
  },
  {
   "cell_type": "code",
   "execution_count": null,
   "id": "1daaf7a9-3d25-461a-8757-0640f114009f",
   "metadata": {},
   "outputs": [],
   "source": [
    "# Immutable example: string\n",
    "name = \"Krish\"\n",
    "name += \" Naik\"\n",
    "print(name) \n",
    "\n",
    "# Mutable example: Lists\n",
    "numbers = [1, 2, 3]\n",
    "numbers.append(4)\n",
    "print(numbers)  # Output: [1, 2, 3, 4]"
   ]
  },
  {
   "cell_type": "code",
   "execution_count": null,
   "id": "c1fbda85-c663-4a43-af7b-04731bd9d406",
   "metadata": {},
   "outputs": [],
   "source": []
  }
 ],
 "metadata": {
  "kernelspec": {
   "display_name": "Python 3 (ipykernel)",
   "language": "python",
   "name": "python3"
  },
  "language_info": {
   "codemirror_mode": {
    "name": "ipython",
    "version": 3
   },
   "file_extension": ".py",
   "mimetype": "text/x-python",
   "name": "python",
   "nbconvert_exporter": "python",
   "pygments_lexer": "ipython3",
   "version": "3.10.8"
  }
 },
 "nbformat": 4,
 "nbformat_minor": 5
}
