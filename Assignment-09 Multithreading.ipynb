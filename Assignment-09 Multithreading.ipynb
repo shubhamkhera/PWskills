{
 "cells": [
  {
   "cell_type": "markdown",
   "id": "4bbb14aa-1789-4b69-b1b1-3eff01759fb0",
   "metadata": {},
   "source": [
    "### Q1. What is multithreading in python? Why is it used? Name the module used to handle threads in python"
   ]
  },
  {
   "cell_type": "markdown",
   "id": "3755d545-37d1-4051-b570-a2f343945c73",
   "metadata": {},
   "source": [
    "<B>Ans1. Multithreading in Python means doing multiple things at the same time in a single program. It's like having different tasks running simultaneously, such as counting numbers and printing letters. Python's threading module helps manage these tasks. Multithreading is used to make programs more responsive and efficient, especially when dealing with tasks that can be done at the same time, like handling user interfaces or I/O operations. The threading module provides tools to create and control threads. However, for certain types of tasks, like heavy calculations, multiprocessing might be a better choice in Python. </B>"
   ]
  },
  {
   "cell_type": "code",
   "execution_count": null,
   "id": "30485b2d-98f0-4503-9732-05243020bb41",
   "metadata": {},
   "outputs": [],
   "source": []
  },
  {
   "cell_type": "markdown",
   "id": "e879a367-5eea-484c-b012-3c078258c802",
   "metadata": {},
   "source": [
    "### Q2. Why threading module used? rite the use of the following functions\n",
    "    1. activeCount()\n",
    "    2. currentThread()\n",
    "    3. enumerate()"
   ]
  },
  {
   "cell_type": "markdown",
   "id": "22f52fbf-b99c-46d0-ab0b-bb6e8ef79085",
   "metadata": {},
   "source": [
    "<B>Ans2. The threading module in Python helps deal with threads (doing multiple things at once). Here's a simple explanation of the mentioned functions:</B>\n",
    "\n",
    "1. activeCount(): Counts how many threads are currently doing stuff. \n",
    "    - Example: If you have two friends helping you, this tells you how many are actively helping.\n",
    "2. currentThread(): Tells you which thread is currently doing something. \n",
    "    - Example: If you and your friend are both working, this tells you if it's you or your friend doing the task.\n",
    "3. enumerate(): Gives you a list of all the threads that are currently doing things. \n",
    "    - Example: If you and two friends are working, this gives you a list of all three (including you and your two friends).</B>"
   ]
  },
  {
   "cell_type": "code",
   "execution_count": null,
   "id": "a959f1c8-ea81-43b7-bb96-1f2f9bb66d85",
   "metadata": {},
   "outputs": [],
   "source": []
  },
  {
   "cell_type": "markdown",
   "id": "15d7315f-9394-4510-a764-f0a2ebc55a97",
   "metadata": {},
   "source": [
    "### Q3. Explain the following functions\n",
    "    1. run()\n",
    "    2. start()\n",
    "    3. join()\n",
    "    4. isAlive()"
   ]
  },
  {
   "cell_type": "markdown",
   "id": "ccad2cd9-a38e-406a-8f58-89c681603f9a",
   "metadata": {},
   "source": [
    "<B>Ans3. These functions are related to working with threads in Python using the threading module. Here's a simple explanation of each:</B>\n",
    "\n",
    "1. run(): This method is meant to be overridden in a subclass. It represents the code to be executed when the thread is started.\n",
    "    - Example: In a custom thread class, you would define your specific task inside the run() method.\n",
    "2. start(): Initiates the execution of the thread by calling the run() method in a separate thread of control.\n",
    "    - Example: If you have a thread object my_thread, calling my_thread.start() will begin the execution of the code inside the run() method in a new thread.\n",
    "3. join(): Blocks the calling thread until the thread whose join() method is called completes its execution.\n",
    "    - Example: If you have a thread object my_thread, calling my_thread.join() will make the calling thread wait until my_thread finishes its task.\n",
    "4. is_alive(): Returns True if the thread is currently executing (alive), and False otherwise.\n",
    "    - Example: You can use this method to check if a thread is still running before proceeding with other tasks.\n",
    "\n",
    "Here's a simple example demonstrating the use of these functions:"
   ]
  },
  {
   "cell_type": "code",
   "execution_count": 3,
   "id": "34e91f0b-2d79-4015-94b9-46b2ae3035a5",
   "metadata": {},
   "outputs": [
    {
     "name": "stdout",
     "output_type": "stream",
     "text": [
      "Thread Thread-7: Count 0\n",
      "Thread Thread-7: Count 1\n",
      "Thread Thread-7: Count 2\n",
      "Thread Thread-7: Count 3\n",
      "Thread Thread-7: Count 4\n",
      "Thread has completed.\n"
     ]
    }
   ],
   "source": [
    "import threading\n",
    "import time\n",
    "\n",
    "class MyThread(threading.Thread):\n",
    "    def run(self):\n",
    "        for i in range(5):\n",
    "            time.sleep(1)\n",
    "            print(f\"Thread {self.name}: Count {i}\")\n",
    "\n",
    "# Creating an instance of MyThread\n",
    "my_thread = MyThread()\n",
    "\n",
    "# Starting the thread\n",
    "my_thread.start()\n",
    "\n",
    "# Waiting for the thread to finish\n",
    "my_thread.join()\n",
    "\n",
    "# Checking if the thread is alive\n",
    "if my_thread.is_alive():\n",
    "    print(\"Thread is still running.\")\n",
    "else:\n",
    "    print(\"Thread has completed.\")"
   ]
  },
  {
   "cell_type": "markdown",
   "id": "796313f8-f065-4447-a559-9f5e26b853db",
   "metadata": {},
   "source": [
    "### Q4. Write a python program to create two threads. Thread one must print the list of squares and thread two must print the list of cubes."
   ]
  },
  {
   "cell_type": "code",
   "execution_count": 5,
   "id": "f7546487-45cb-4e5d-81e8-187aefdc4d7d",
   "metadata": {},
   "outputs": [
    {
     "name": "stdout",
     "output_type": "stream",
     "text": [
      "Square of 1: 1\n",
      "Square of 2: 4\n",
      "Square of 3: 9\n",
      "Square of 4: 16\n",
      "Square of 5: 25\n",
      "Cube of 1: 1\n",
      "Cube of 2: 8\n",
      "Cube of 3: 27\n",
      "Cube of 4: 64\n",
      "Cube of 5: 125\n",
      "Execution completed.\n"
     ]
    }
   ],
   "source": [
    "import threading\n",
    "\n",
    "def print_squares():\n",
    "    for i in range(1, 6):\n",
    "        print(f\"Square of {i}: {i ** 2}\")\n",
    "\n",
    "def print_cubes():\n",
    "    for i in range(1, 6):\n",
    "        print(f\"Cube of {i}: {i ** 3}\")\n",
    "\n",
    "# Creating two thread objects\n",
    "thread_squares = threading.Thread(target=print_squares)\n",
    "thread_cubes = threading.Thread(target=print_cubes)\n",
    "\n",
    "# Starting both threads\n",
    "thread_squares.start()\n",
    "thread_cubes.start()\n",
    "\n",
    "# Waiting for both threads to finish\n",
    "thread_squares.join()\n",
    "thread_cubes.join()\n",
    "\n",
    "print(\"Execution completed.\")"
   ]
  },
  {
   "cell_type": "code",
   "execution_count": null,
   "id": "0ab296c2-baef-4486-ad0a-be5beb27137d",
   "metadata": {},
   "outputs": [],
   "source": []
  },
  {
   "cell_type": "markdown",
   "id": "d0e2c78a-1d95-46a1-8f8e-bd619556ba3e",
   "metadata": {},
   "source": [
    "### Q5. State advantages and disadvantages of multithreading"
   ]
  },
  {
   "cell_type": "markdown",
   "id": "985b3239-978e-4f27-9fbd-84f6194bede8",
   "metadata": {},
   "source": [
    "- Advantages of Multithreading:\n",
    "    1. Improved Performance: Multithreading can lead to improved performance by allowing multiple tasks to run concurrently. This is particularly beneficial for I/O-bound and parallelizable tasks.\n",
    "    2. Responsiveness: Multithreading enhances the responsiveness of applications, as threads can execute independently. User interfaces can remain responsive even when performing complex or time-consuming operations in the background.\n",
    "    3. Resource Sharing: Threads within the same process share the same resources, such as memory space, which can lead to more efficient resource utilization.\n",
    "    4. Parallelism for I/O Operations: In scenarios where tasks involve waiting for I/O operations (e.g., reading from files or network operations), multithreading allows other threads to continue executing, making better use of CPU time.\n",
    "    5. Simplified Code Structure: Multithreading can simplify the structure of a program, especially in scenarios where tasks can be naturally divided into concurrent units of execution.\n",
    "- Disadvantages of Multithreading:\n",
    "    1. Complexity and Debugging: Writing multithreaded code can be complex and error-prone. Issues such as race conditions, deadlocks, and thread synchronization can be challenging to identify and debug.\n",
    "    2. Resource Contention: Threads within the same process share resources, leading to potential contention issues. If not properly managed, this can result in bottlenecks and performance degradation.\n",
    "    3. Global Interpreter Lock (GIL) in CPython: In the CPython implementation, the Global Interpreter Lock restricts true parallel execution of threads. This can limit the performance benefits of multithreading, particularly for CPU-bound tasks.\n",
    "    4. Increased Memory Overhead: Each thread comes with its own stack and thread-specific data, leading to increased memory overhead. A large number of threads may consume a significant amount of memory.\n",
    "    5. Difficulty in Achieving True Parallelism: Achieving true parallelism (simultaneous execution on multiple processors) can be challenging due to the limitations imposed by the GIL and the nature of Python's multithreading.\n",
    "    6. Portability Issues: Multithreading behavior can vary across different platforms, and code that relies heavily on threads might face portability issues."
   ]
  },
  {
   "cell_type": "code",
   "execution_count": null,
   "id": "45ba9106-d6ce-4c3d-b42f-4fe26471e36c",
   "metadata": {},
   "outputs": [],
   "source": []
  },
  {
   "cell_type": "markdown",
   "id": "75bc7046-de56-420f-97cc-7d6c3346fa99",
   "metadata": {},
   "source": [
    "### Q6. Explain deadlocks and race conditions."
   ]
  },
  {
   "cell_type": "markdown",
   "id": "fc3846fd-b602-4e5e-88bd-7be4985a0f8e",
   "metadata": {},
   "source": [
    "- Deadlocks: A deadlock is a situation in multithreading or multiprocessing where two or more threads or processes cannot proceed because each is waiting for the other to release a resource. In other words, they are stuck in a circular waiting state, and none of them can make progress.\n",
    "\n",
    "- Race Conditions: A race condition occurs in a program when the behavior of the program depends on the relative timing of events, such as the order of execution of threads. When multiple threads access shared data concurrently and at least one of them modifies the data, the final outcome becomes dependent on the order of execution, leading to unpredictable results."
   ]
  },
  {
   "cell_type": "code",
   "execution_count": null,
   "id": "23d55404-0b6f-479e-9733-b8af268e8bc0",
   "metadata": {},
   "outputs": [],
   "source": []
  },
  {
   "cell_type": "code",
   "execution_count": null,
   "id": "57cf5a20-ff41-44a2-9163-1c6462435f86",
   "metadata": {},
   "outputs": [],
   "source": []
  }
 ],
 "metadata": {
  "kernelspec": {
   "display_name": "Python 3 (ipykernel)",
   "language": "python",
   "name": "python3"
  },
  "language_info": {
   "codemirror_mode": {
    "name": "ipython",
    "version": 3
   },
   "file_extension": ".py",
   "mimetype": "text/x-python",
   "name": "python",
   "nbconvert_exporter": "python",
   "pygments_lexer": "ipython3",
   "version": "3.10.8"
  }
 },
 "nbformat": 4,
 "nbformat_minor": 5
}
