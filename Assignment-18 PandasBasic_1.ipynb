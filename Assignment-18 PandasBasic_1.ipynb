{
 "cells": [
  {
   "cell_type": "code",
   "execution_count": 2,
   "id": "c06c31ae-9c0a-4c3c-bb7b-13a6833edfd5",
   "metadata": {},
   "outputs": [],
   "source": [
    "import pandas as pd\n",
    "import numpy as np"
   ]
  },
  {
   "cell_type": "code",
   "execution_count": 3,
   "id": "1439b8c3-11d7-4663-9cd9-c4b05bbb0c22",
   "metadata": {},
   "outputs": [],
   "source": [
    "dataframe = pd.DataFrame"
   ]
  },
  {
   "cell_type": "markdown",
   "id": "df076ffd-3084-46a0-8a71-b509691886c4",
   "metadata": {},
   "source": [
    "### Q1. Create a Pandas Series that contains the following data: 4, 8, 15, 16, 23, and 42. Then, print the series."
   ]
  },
  {
   "cell_type": "code",
   "execution_count": 4,
   "id": "4e7a9f96-edb0-4bb8-b5c3-646016d92a7b",
   "metadata": {},
   "outputs": [],
   "source": [
    "panda_series = pd.Series(np.array([4,8,15,16,23,42]))"
   ]
  },
  {
   "cell_type": "code",
   "execution_count": 5,
   "id": "6de84f6b-326d-428a-aaab-0f0b85923f86",
   "metadata": {},
   "outputs": [
    {
     "data": {
      "text/plain": [
       "0     4\n",
       "1     8\n",
       "2    15\n",
       "3    16\n",
       "4    23\n",
       "5    42\n",
       "dtype: int64"
      ]
     },
     "execution_count": 5,
     "metadata": {},
     "output_type": "execute_result"
    }
   ],
   "source": [
    "panda_series"
   ]
  },
  {
   "cell_type": "markdown",
   "id": "2b6428c3-09a4-40c3-a8b8-98d7cd957dce",
   "metadata": {},
   "source": [
    "### Q2. Create a variable of list type containing 10 elements in it, and apply pandas.Series function on the variable print it."
   ]
  },
  {
   "cell_type": "code",
   "execution_count": 6,
   "id": "86d81aee-1048-4fff-9cc4-2b98e59a94e7",
   "metadata": {},
   "outputs": [
    {
     "name": "stdout",
     "output_type": "stream",
     "text": [
      "0               1\n",
      "1               2\n",
      "2               3\n",
      "3               4\n",
      "4         shubham\n",
      "5           khera\n",
      "6            1.56\n",
      "7              90\n",
      "8            test\n",
      "9    Data Science\n",
      "dtype: object\n"
     ]
    }
   ],
   "source": [
    "data_list = [1,2,3,4,\"shubham\", \"khera\", 1.56, 90, \"test\", \"Data Science\"]\n",
    "series = np.array(data_list)\n",
    "pd_ser = pd.Series(series)\n",
    "print(pd_ser)"
   ]
  },
  {
   "cell_type": "code",
   "execution_count": null,
   "id": "daaac051-8804-431c-b54f-403c8d1db482",
   "metadata": {},
   "outputs": [],
   "source": []
  },
  {
   "cell_type": "markdown",
   "id": "0391e753-1b0a-415a-bf3d-ea408f6ad6f5",
   "metadata": {},
   "source": [
    "### Q3. Create a Pandas DataFrame that contains the following data:\n",
    "\n",
    "<img src = \"1.jpg\"/>\n",
    "\n",
    "##### Then, print the DataFrame."
   ]
  },
  {
   "cell_type": "code",
   "execution_count": 7,
   "id": "96621ecf-167f-46eb-abcf-c41154d6784e",
   "metadata": {},
   "outputs": [],
   "source": [
    "data = {\"Name\": [\"Alice\", \"Bob\", \"Claire\"], \"Age\" : [25, 30, 27], \"Gender\" : [\"Female\", \"Male\", \"Female\"]}\n",
    "dataframe = pd.DataFrame(data)"
   ]
  },
  {
   "cell_type": "code",
   "execution_count": 8,
   "id": "3546c299-7b94-4845-9395-54cd56ef1b8f",
   "metadata": {},
   "outputs": [
    {
     "data": {
      "text/html": [
       "<div>\n",
       "<style scoped>\n",
       "    .dataframe tbody tr th:only-of-type {\n",
       "        vertical-align: middle;\n",
       "    }\n",
       "\n",
       "    .dataframe tbody tr th {\n",
       "        vertical-align: top;\n",
       "    }\n",
       "\n",
       "    .dataframe thead th {\n",
       "        text-align: right;\n",
       "    }\n",
       "</style>\n",
       "<table border=\"1\" class=\"dataframe\">\n",
       "  <thead>\n",
       "    <tr style=\"text-align: right;\">\n",
       "      <th></th>\n",
       "      <th>Name</th>\n",
       "      <th>Age</th>\n",
       "      <th>Gender</th>\n",
       "    </tr>\n",
       "  </thead>\n",
       "  <tbody>\n",
       "    <tr>\n",
       "      <th>0</th>\n",
       "      <td>Alice</td>\n",
       "      <td>25</td>\n",
       "      <td>Female</td>\n",
       "    </tr>\n",
       "    <tr>\n",
       "      <th>1</th>\n",
       "      <td>Bob</td>\n",
       "      <td>30</td>\n",
       "      <td>Male</td>\n",
       "    </tr>\n",
       "    <tr>\n",
       "      <th>2</th>\n",
       "      <td>Claire</td>\n",
       "      <td>27</td>\n",
       "      <td>Female</td>\n",
       "    </tr>\n",
       "  </tbody>\n",
       "</table>\n",
       "</div>"
      ],
      "text/plain": [
       "     Name  Age  Gender\n",
       "0   Alice   25  Female\n",
       "1     Bob   30    Male\n",
       "2  Claire   27  Female"
      ]
     },
     "execution_count": 8,
     "metadata": {},
     "output_type": "execute_result"
    }
   ],
   "source": [
    "dataframe"
   ]
  },
  {
   "cell_type": "markdown",
   "id": "ee40cd4a-715d-412c-974d-60dde8b10a5f",
   "metadata": {},
   "source": [
    "### Q4. What is ‘DataFrame’ in pandas and how is it different from pandas.series? Explain with an example."
   ]
  },
  {
   "cell_type": "markdown",
   "id": "7fae7563-47d7-453e-99a6-5714fde7de45",
   "metadata": {},
   "source": [
    "<h4> In pandas, a DataFrame is a two-dimensional, tabular data structure that is widely used for data manipulation and analysis. It is essentially a container for storing and working with labeled data in rows and columns. Each column in a DataFrame is a pandas Series. </h4>"
   ]
  },
  {
   "cell_type": "code",
   "execution_count": 9,
   "id": "4a71daff-4ceb-442e-8214-2fdeb041e26a",
   "metadata": {},
   "outputs": [
    {
     "name": "stdout",
     "output_type": "stream",
     "text": [
      "DataFrame:\n",
      "      Name  Age           City\n",
      "0    Alice   25       New York\n",
      "1      Bob   30  San Francisco\n",
      "2  Charlie   27    Los Angeles\n",
      "\n",
      "DataFrame Columns:\n",
      "Index(['Name', 'Age', 'City'], dtype='object')\n",
      "\n",
      "Series (Age column):\n",
      "0    25\n",
      "1    30\n",
      "2    27\n",
      "Name: Age, dtype: int64\n"
     ]
    }
   ],
   "source": [
    "# Creating a DataFrame\n",
    "data1 = {'Name': ['Alice', 'Bob', 'Charlie'],\n",
    "        'Age': [25, 30, 27],\n",
    "        'City': ['New York', 'San Francisco', 'Los Angeles']}\n",
    "\n",
    "df1 = pd.DataFrame(data1)\n",
    "\n",
    "# Displaying the DataFrame\n",
    "print(\"DataFrame:\")\n",
    "print(df1)\n",
    "print(\"\\nDataFrame Columns:\")\n",
    "print(df1.columns)\n",
    "\n",
    "# Accessing a specific column as a Series\n",
    "age_series = df1['Age']\n",
    "\n",
    "# Displaying the Series\n",
    "print(\"\\nSeries (Age column):\")\n",
    "print(age_series)"
   ]
  },
  {
   "cell_type": "markdown",
   "id": "3b163a47-8f98-4271-97b3-a1edcefa2f72",
   "metadata": {},
   "source": [
    "- In this example, we create a DataFrame named df with three columns: 'Name', 'Age', and 'City'. Each column in the DataFrame is a Series. We then access the 'Age' column as a separate Series (age_series). The key distinction is that the DataFrame is a 2D structure, while a Series is a 1D structure representing a single column."
   ]
  },
  {
   "cell_type": "markdown",
   "id": "339e837e-8a8c-4965-a444-f597985e5bf0",
   "metadata": {},
   "source": [
    "### Q5. What are some common functions you can use to manipulate data in a Pandas DataFrame? Can you give an example of when you might use one of these functions?"
   ]
  },
  {
   "cell_type": "markdown",
   "id": "20e0ce3d-8341-4e7b-a509-57d2f3fcac00",
   "metadata": {},
   "source": [
    "Pandas provides a rich set of functions for manipulating and analyzing data in a DataFrame. Here are some common functions:"
   ]
  },
  {
   "cell_type": "markdown",
   "id": "34401129-5f64-4ead-acca-967c7d87a2f4",
   "metadata": {},
   "source": [
    "#### 1. head() and tail(): Display the first or last n rows of the DataFrame."
   ]
  },
  {
   "cell_type": "code",
   "execution_count": 10,
   "id": "3ce4ae23-f553-4e4e-a33d-4be80d10913f",
   "metadata": {},
   "outputs": [
    {
     "data": {
      "text/html": [
       "<div>\n",
       "<style scoped>\n",
       "    .dataframe tbody tr th:only-of-type {\n",
       "        vertical-align: middle;\n",
       "    }\n",
       "\n",
       "    .dataframe tbody tr th {\n",
       "        vertical-align: top;\n",
       "    }\n",
       "\n",
       "    .dataframe thead th {\n",
       "        text-align: right;\n",
       "    }\n",
       "</style>\n",
       "<table border=\"1\" class=\"dataframe\">\n",
       "  <thead>\n",
       "    <tr style=\"text-align: right;\">\n",
       "      <th></th>\n",
       "      <th>Name</th>\n",
       "      <th>Age</th>\n",
       "      <th>City</th>\n",
       "    </tr>\n",
       "  </thead>\n",
       "  <tbody>\n",
       "    <tr>\n",
       "      <th>0</th>\n",
       "      <td>Alice</td>\n",
       "      <td>25</td>\n",
       "      <td>New York</td>\n",
       "    </tr>\n",
       "  </tbody>\n",
       "</table>\n",
       "</div>"
      ],
      "text/plain": [
       "    Name  Age      City\n",
       "0  Alice   25  New York"
      ]
     },
     "execution_count": 10,
     "metadata": {},
     "output_type": "execute_result"
    }
   ],
   "source": [
    "df1.head(1)"
   ]
  },
  {
   "cell_type": "code",
   "execution_count": 11,
   "id": "6f2a0efc-2f46-4e04-8763-423d5efd5bac",
   "metadata": {},
   "outputs": [
    {
     "data": {
      "text/html": [
       "<div>\n",
       "<style scoped>\n",
       "    .dataframe tbody tr th:only-of-type {\n",
       "        vertical-align: middle;\n",
       "    }\n",
       "\n",
       "    .dataframe tbody tr th {\n",
       "        vertical-align: top;\n",
       "    }\n",
       "\n",
       "    .dataframe thead th {\n",
       "        text-align: right;\n",
       "    }\n",
       "</style>\n",
       "<table border=\"1\" class=\"dataframe\">\n",
       "  <thead>\n",
       "    <tr style=\"text-align: right;\">\n",
       "      <th></th>\n",
       "      <th>Name</th>\n",
       "      <th>Age</th>\n",
       "      <th>City</th>\n",
       "    </tr>\n",
       "  </thead>\n",
       "  <tbody>\n",
       "    <tr>\n",
       "      <th>2</th>\n",
       "      <td>Charlie</td>\n",
       "      <td>27</td>\n",
       "      <td>Los Angeles</td>\n",
       "    </tr>\n",
       "  </tbody>\n",
       "</table>\n",
       "</div>"
      ],
      "text/plain": [
       "      Name  Age         City\n",
       "2  Charlie   27  Los Angeles"
      ]
     },
     "execution_count": 11,
     "metadata": {},
     "output_type": "execute_result"
    }
   ],
   "source": [
    "df1.tail(1)"
   ]
  },
  {
   "cell_type": "markdown",
   "id": "4aacd0f0-bdac-408a-8828-09049bb0054b",
   "metadata": {},
   "source": [
    "#### 2. info(): Display a concise summary of the DataFrame, including data types, non-null counts, and memory usage."
   ]
  },
  {
   "cell_type": "code",
   "execution_count": 12,
   "id": "361698e4-ea1a-4bfa-95c9-796f366aec77",
   "metadata": {},
   "outputs": [
    {
     "name": "stdout",
     "output_type": "stream",
     "text": [
      "<class 'pandas.core.frame.DataFrame'>\n",
      "RangeIndex: 3 entries, 0 to 2\n",
      "Data columns (total 3 columns):\n",
      " #   Column  Non-Null Count  Dtype \n",
      "---  ------  --------------  ----- \n",
      " 0   Name    3 non-null      object\n",
      " 1   Age     3 non-null      int64 \n",
      " 2   City    3 non-null      object\n",
      "dtypes: int64(1), object(2)\n",
      "memory usage: 200.0+ bytes\n"
     ]
    }
   ],
   "source": [
    "df1.info()"
   ]
  },
  {
   "cell_type": "markdown",
   "id": "93bf15c6-54ae-41a5-baee-ce1ead0e6add",
   "metadata": {},
   "source": [
    "#### 3. describe(): Generate descriptive statistics (count, mean, std deviation, min, 25%, 50%, 75%, max) of numerical columns."
   ]
  },
  {
   "cell_type": "code",
   "execution_count": 13,
   "id": "b698b7ac-c569-4158-88cc-89960b9e6f39",
   "metadata": {},
   "outputs": [
    {
     "data": {
      "text/html": [
       "<div>\n",
       "<style scoped>\n",
       "    .dataframe tbody tr th:only-of-type {\n",
       "        vertical-align: middle;\n",
       "    }\n",
       "\n",
       "    .dataframe tbody tr th {\n",
       "        vertical-align: top;\n",
       "    }\n",
       "\n",
       "    .dataframe thead th {\n",
       "        text-align: right;\n",
       "    }\n",
       "</style>\n",
       "<table border=\"1\" class=\"dataframe\">\n",
       "  <thead>\n",
       "    <tr style=\"text-align: right;\">\n",
       "      <th></th>\n",
       "      <th>Age</th>\n",
       "    </tr>\n",
       "  </thead>\n",
       "  <tbody>\n",
       "    <tr>\n",
       "      <th>count</th>\n",
       "      <td>3.000000</td>\n",
       "    </tr>\n",
       "    <tr>\n",
       "      <th>mean</th>\n",
       "      <td>27.333333</td>\n",
       "    </tr>\n",
       "    <tr>\n",
       "      <th>std</th>\n",
       "      <td>2.516611</td>\n",
       "    </tr>\n",
       "    <tr>\n",
       "      <th>min</th>\n",
       "      <td>25.000000</td>\n",
       "    </tr>\n",
       "    <tr>\n",
       "      <th>25%</th>\n",
       "      <td>26.000000</td>\n",
       "    </tr>\n",
       "    <tr>\n",
       "      <th>50%</th>\n",
       "      <td>27.000000</td>\n",
       "    </tr>\n",
       "    <tr>\n",
       "      <th>75%</th>\n",
       "      <td>28.500000</td>\n",
       "    </tr>\n",
       "    <tr>\n",
       "      <th>max</th>\n",
       "      <td>30.000000</td>\n",
       "    </tr>\n",
       "  </tbody>\n",
       "</table>\n",
       "</div>"
      ],
      "text/plain": [
       "             Age\n",
       "count   3.000000\n",
       "mean   27.333333\n",
       "std     2.516611\n",
       "min    25.000000\n",
       "25%    26.000000\n",
       "50%    27.000000\n",
       "75%    28.500000\n",
       "max    30.000000"
      ]
     },
     "execution_count": 13,
     "metadata": {},
     "output_type": "execute_result"
    }
   ],
   "source": [
    "df1.describe()"
   ]
  },
  {
   "cell_type": "markdown",
   "id": "dcdf839d-5424-40e7-876d-9e95bb844904",
   "metadata": {},
   "source": [
    "#### 4. shape: Return the dimensions (rows, columns) of the DataFrame."
   ]
  },
  {
   "cell_type": "code",
   "execution_count": 14,
   "id": "0c0da129-5823-4d9f-8c23-107e12339961",
   "metadata": {},
   "outputs": [
    {
     "data": {
      "text/plain": [
       "(3, 3)"
      ]
     },
     "execution_count": 14,
     "metadata": {},
     "output_type": "execute_result"
    }
   ],
   "source": [
    "df1.shape"
   ]
  },
  {
   "cell_type": "markdown",
   "id": "4daf9847-a695-4010-a9cf-7538d8bedb56",
   "metadata": {},
   "source": [
    "#### 5. columns and index: Access the column names and index of the DataFrame."
   ]
  },
  {
   "cell_type": "code",
   "execution_count": 15,
   "id": "fffa70fb-c6f8-47d6-bc25-161c3484c147",
   "metadata": {},
   "outputs": [
    {
     "data": {
      "text/plain": [
       "Index(['Name', 'Age', 'City'], dtype='object')"
      ]
     },
     "execution_count": 15,
     "metadata": {},
     "output_type": "execute_result"
    }
   ],
   "source": [
    "df1.columns"
   ]
  },
  {
   "cell_type": "code",
   "execution_count": 16,
   "id": "524724b4-90d1-4e52-ab39-16d65484ed85",
   "metadata": {},
   "outputs": [
    {
     "data": {
      "text/plain": [
       "RangeIndex(start=0, stop=3, step=1)"
      ]
     },
     "execution_count": 16,
     "metadata": {},
     "output_type": "execute_result"
    }
   ],
   "source": [
    "df1.index"
   ]
  },
  {
   "cell_type": "markdown",
   "id": "df809c49-e3af-4e5d-b056-c7addeb8c402",
   "metadata": {},
   "source": [
    "#### 6. loc[] and iloc[]: Access a group of rows and columns by labels (loc[]) or integer-based indexing (iloc[])."
   ]
  },
  {
   "cell_type": "code",
   "execution_count": 17,
   "id": "9a6fe97a-b87a-4040-9357-69d948914401",
   "metadata": {},
   "outputs": [
    {
     "data": {
      "text/html": [
       "<div>\n",
       "<style scoped>\n",
       "    .dataframe tbody tr th:only-of-type {\n",
       "        vertical-align: middle;\n",
       "    }\n",
       "\n",
       "    .dataframe tbody tr th {\n",
       "        vertical-align: top;\n",
       "    }\n",
       "\n",
       "    .dataframe thead th {\n",
       "        text-align: right;\n",
       "    }\n",
       "</style>\n",
       "<table border=\"1\" class=\"dataframe\">\n",
       "  <thead>\n",
       "    <tr style=\"text-align: right;\">\n",
       "      <th></th>\n",
       "      <th>Name</th>\n",
       "      <th>Age</th>\n",
       "    </tr>\n",
       "  </thead>\n",
       "  <tbody>\n",
       "    <tr>\n",
       "      <th>1</th>\n",
       "      <td>Bob</td>\n",
       "      <td>30</td>\n",
       "    </tr>\n",
       "    <tr>\n",
       "      <th>2</th>\n",
       "      <td>Charlie</td>\n",
       "      <td>27</td>\n",
       "    </tr>\n",
       "  </tbody>\n",
       "</table>\n",
       "</div>"
      ],
      "text/plain": [
       "      Name  Age\n",
       "1      Bob   30\n",
       "2  Charlie   27"
      ]
     },
     "execution_count": 17,
     "metadata": {},
     "output_type": "execute_result"
    }
   ],
   "source": [
    "df1.loc[1:3, ['Name', 'Age']]"
   ]
  },
  {
   "cell_type": "code",
   "execution_count": 24,
   "id": "09a43bff-ff7a-4793-8c76-76e75d11b343",
   "metadata": {},
   "outputs": [
    {
     "data": {
      "text/html": [
       "<div>\n",
       "<style scoped>\n",
       "    .dataframe tbody tr th:only-of-type {\n",
       "        vertical-align: middle;\n",
       "    }\n",
       "\n",
       "    .dataframe tbody tr th {\n",
       "        vertical-align: top;\n",
       "    }\n",
       "\n",
       "    .dataframe thead th {\n",
       "        text-align: right;\n",
       "    }\n",
       "</style>\n",
       "<table border=\"1\" class=\"dataframe\">\n",
       "  <thead>\n",
       "    <tr style=\"text-align: right;\">\n",
       "      <th></th>\n",
       "      <th>Name</th>\n",
       "      <th>Age</th>\n",
       "      <th>City</th>\n",
       "    </tr>\n",
       "  </thead>\n",
       "  <tbody>\n",
       "    <tr>\n",
       "      <th>1</th>\n",
       "      <td>Bob</td>\n",
       "      <td>30</td>\n",
       "      <td>San Francisco</td>\n",
       "    </tr>\n",
       "  </tbody>\n",
       "</table>\n",
       "</div>"
      ],
      "text/plain": [
       "  Name  Age           City\n",
       "1  Bob   30  San Francisco"
      ]
     },
     "execution_count": 24,
     "metadata": {},
     "output_type": "execute_result"
    }
   ],
   "source": [
    "df1.iloc[1:2]"
   ]
  },
  {
   "cell_type": "markdown",
   "id": "2b746aab-c8ee-4da6-9fb8-f5d88014ce94",
   "metadata": {},
   "source": [
    "#### 7. sort_values(): Sort the DataFrame by one or more columns."
   ]
  },
  {
   "cell_type": "code",
   "execution_count": 25,
   "id": "fae1c34a-6aea-442e-9e82-6565cf1d08b5",
   "metadata": {},
   "outputs": [
    {
     "data": {
      "text/html": [
       "<div>\n",
       "<style scoped>\n",
       "    .dataframe tbody tr th:only-of-type {\n",
       "        vertical-align: middle;\n",
       "    }\n",
       "\n",
       "    .dataframe tbody tr th {\n",
       "        vertical-align: top;\n",
       "    }\n",
       "\n",
       "    .dataframe thead th {\n",
       "        text-align: right;\n",
       "    }\n",
       "</style>\n",
       "<table border=\"1\" class=\"dataframe\">\n",
       "  <thead>\n",
       "    <tr style=\"text-align: right;\">\n",
       "      <th></th>\n",
       "      <th>Name</th>\n",
       "      <th>Age</th>\n",
       "      <th>City</th>\n",
       "    </tr>\n",
       "  </thead>\n",
       "  <tbody>\n",
       "    <tr>\n",
       "      <th>1</th>\n",
       "      <td>Bob</td>\n",
       "      <td>30</td>\n",
       "      <td>San Francisco</td>\n",
       "    </tr>\n",
       "    <tr>\n",
       "      <th>2</th>\n",
       "      <td>Charlie</td>\n",
       "      <td>27</td>\n",
       "      <td>Los Angeles</td>\n",
       "    </tr>\n",
       "    <tr>\n",
       "      <th>0</th>\n",
       "      <td>Alice</td>\n",
       "      <td>25</td>\n",
       "      <td>New York</td>\n",
       "    </tr>\n",
       "  </tbody>\n",
       "</table>\n",
       "</div>"
      ],
      "text/plain": [
       "      Name  Age           City\n",
       "1      Bob   30  San Francisco\n",
       "2  Charlie   27    Los Angeles\n",
       "0    Alice   25       New York"
      ]
     },
     "execution_count": 25,
     "metadata": {},
     "output_type": "execute_result"
    }
   ],
   "source": [
    "df1.sort_values(by='Age', ascending=False)"
   ]
  },
  {
   "cell_type": "code",
   "execution_count": null,
   "id": "315cfa8d-74e5-4561-b597-9819667049e1",
   "metadata": {},
   "outputs": [],
   "source": []
  },
  {
   "cell_type": "markdown",
   "id": "e9735890-f23f-4a91-8c17-f5768aa42007",
   "metadata": {},
   "source": [
    "### Q6. Which of the following is mutable in nature Series, DataFrame, Panel?"
   ]
  },
  {
   "cell_type": "markdown",
   "id": "7169053b-baa2-45e8-a614-436a31e935f4",
   "metadata": {},
   "source": [
    "- Series and DataFrame are mutable, meaning their contents can be modified after creation.\n",
    "- Panel is deprecated, and it's recommended to use other structures for handling three-dimensional data."
   ]
  },
  {
   "cell_type": "code",
   "execution_count": null,
   "id": "6b551a27-5068-448a-9500-e4c131e4d79b",
   "metadata": {},
   "outputs": [],
   "source": []
  },
  {
   "cell_type": "markdown",
   "id": "84420979-3f22-40e0-8fbf-262481a6c65b",
   "metadata": {},
   "source": [
    "### Q7. Create a DataFrame using multiple Series. Explain with an example."
   ]
  },
  {
   "cell_type": "code",
   "execution_count": 26,
   "id": "1a6ecc8f-e13c-41da-8c17-63da65daeb80",
   "metadata": {},
   "outputs": [
    {
     "name": "stdout",
     "output_type": "stream",
     "text": [
      "      Name  Age  Gender           City\n",
      "0    Alice   25  Female       New York\n",
      "1      Bob   30    Male  San Francisco\n",
      "2  Charlie   22  Female    Los Angeles\n"
     ]
    }
   ],
   "source": [
    "# Creating multiple Series\n",
    "names = pd.Series(['Alice', 'Bob', 'Charlie'])\n",
    "ages = pd.Series([25, 30, 22])\n",
    "gender = pd.Series([\"Female\", \"Male\", \"Female\"])\n",
    "cities = pd.Series(['New York', 'San Francisco', 'Los Angeles'])\n",
    "\n",
    "# Creating a DataFrame using the Series\n",
    "data = {'Name': names, 'Age': ages, 'Gender': gender, 'City': cities}\n",
    "df = pd.DataFrame(data)\n",
    "\n",
    "# Displaying the DataFrame\n",
    "print(df)"
   ]
  },
  {
   "cell_type": "markdown",
   "id": "41582500-6846-46fb-b8b9-c98da857b323",
   "metadata": {},
   "source": [
    "#### In this example, four Series (names, ages, gender and cities) are created, each representing a column of the DataFrame. The Series are then combined into a dictionary (data), where keys are the column names ('Name', 'Age', 'Gender', 'City') and values are the corresponding Series. Finally, a DataFrame (df) is created using this dictionary. The resulting DataFrame has columns 'Name', 'Age', 'Gender' and 'City', with each column populated by the values from the respective Series."
   ]
  },
  {
   "cell_type": "markdown",
   "id": "ba73a5e5-5b63-4f98-9548-94c3c26218a8",
   "metadata": {},
   "source": []
  },
  {
   "cell_type": "markdown",
   "id": "e758a90a-2a53-4679-a298-e3fd77ff272e",
   "metadata": {},
   "source": []
  }
 ],
 "metadata": {
  "kernelspec": {
   "display_name": "Python 3 (ipykernel)",
   "language": "python",
   "name": "python3"
  },
  "language_info": {
   "codemirror_mode": {
    "name": "ipython",
    "version": 3
   },
   "file_extension": ".py",
   "mimetype": "text/x-python",
   "name": "python",
   "nbconvert_exporter": "python",
   "pygments_lexer": "ipython3",
   "version": "3.10.8"
  }
 },
 "nbformat": 4,
 "nbformat_minor": 5
}
