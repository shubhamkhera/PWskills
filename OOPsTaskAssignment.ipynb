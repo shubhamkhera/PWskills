{
 "cells": [
  {
   "cell_type": "markdown",
   "id": "741a68d7-f7c7-4c96-ac7c-023bc09e8b8b",
   "metadata": {},
   "source": [
    "### Q1, Create a vehicle class with an init method having instance variables as name_of_vehicle, max_speed and average_of_vehicle."
   ]
  },
  {
   "cell_type": "code",
   "execution_count": 6,
   "id": "82d15d17-1a8b-422e-a467-a25af428eaf7",
   "metadata": {},
   "outputs": [],
   "source": [
    "class vehicle:\n",
    "    def __init__(self, name_of_vehicle, max_speed, average_of_vehicle):\n",
    "        self.name_of_vehicle = name_of_vehicle \n",
    "        self.max_speed = max_speed\n",
    "        self.average_of_vehicle = average_of_vehicle"
   ]
  },
  {
   "cell_type": "code",
   "execution_count": null,
   "id": "a0920fdd-1042-4428-8f55-04a3b7d3071d",
   "metadata": {},
   "outputs": [],
   "source": []
  },
  {
   "cell_type": "markdown",
   "id": "57f46c61-9fb2-4230-bdb6-c9f1eb3f4e1c",
   "metadata": {},
   "source": [
    "### Q2. Create a child class car from the vehicle class created in Que 1, which will inherit the vehicle class. Create a method named seating_capacity which takes capacity as an argument and returns the name of the vehicle and its seating capacity.\n"
   ]
  },
  {
   "cell_type": "code",
   "execution_count": 7,
   "id": "325d7486-30e1-4f4f-96ae-4f5a85d9407e",
   "metadata": {},
   "outputs": [],
   "source": [
    "class car(vehicle):\n",
    "    def seating_capacity(self, capacity):\n",
    "        print(\"Vehicle Name: \", self.name_of_vehicle)\n",
    "        print(\"Car capacity: \",capacity)"
   ]
  },
  {
   "cell_type": "code",
   "execution_count": 8,
   "id": "4def72de-9a04-46af-a805-1b17b65ce97f",
   "metadata": {},
   "outputs": [],
   "source": [
    "r = car(\"Maruti Alto\", \"120kmph\", \"12\")"
   ]
  },
  {
   "cell_type": "code",
   "execution_count": 9,
   "id": "76b311ef-53da-4c93-83a9-3d4d42a10e71",
   "metadata": {},
   "outputs": [
    {
     "name": "stdout",
     "output_type": "stream",
     "text": [
      "Vehicle Name:  Maruti Alto\n",
      "Car capacity:  5\n"
     ]
    }
   ],
   "source": [
    "r.seating_capacity(5)"
   ]
  },
  {
   "cell_type": "code",
   "execution_count": null,
   "id": "3aa0fc47-0fab-4560-a8f6-5e5b56cf6fbc",
   "metadata": {},
   "outputs": [],
   "source": []
  },
  {
   "cell_type": "markdown",
   "id": "370c1cb3-9ad5-4650-b01b-750db78b8bc8",
   "metadata": {},
   "source": [
    "### Q3. What is multiple inheritance? Write a python code to demonstrate multiple inheritance."
   ]
  },
  {
   "cell_type": "markdown",
   "id": "047868b7-288d-472e-bc1b-c99cad26cf36",
   "metadata": {},
   "source": [
    "When a class is derived from more than one base class it is called multiple Inheritance. The derived class inherits all the features of the base case."
   ]
  },
  {
   "cell_type": "code",
   "execution_count": 10,
   "id": "54c61e1d-8279-4890-be17-8c773f5e9686",
   "metadata": {},
   "outputs": [],
   "source": [
    "class class1:\n",
    "    def statistic(self):\n",
    "        print(\"In Class 1\")\n",
    "    \n",
    "class class2:\n",
    "    def data_analytics(self):\n",
    "        print(\"In Class 2\")\n",
    "    \n",
    "class class3(class2, class1):\n",
    "    def machine_learning(self):\n",
    "        print(\"In Class 3\")"
   ]
  },
  {
   "cell_type": "code",
   "execution_count": 11,
   "id": "a5236118-10a8-4ab3-bb96-b3adf224dcd9",
   "metadata": {},
   "outputs": [],
   "source": [
    "obj = class3()"
   ]
  },
  {
   "cell_type": "code",
   "execution_count": 12,
   "id": "7157860e-df34-447c-91ca-cadaae938313",
   "metadata": {},
   "outputs": [
    {
     "name": "stdout",
     "output_type": "stream",
     "text": [
      "In Class 1\n",
      "In Class 2\n",
      "In Class 3\n"
     ]
    }
   ],
   "source": [
    "obj.statistic()\n",
    "obj.data_analytics()\n",
    "obj.machine_learning()"
   ]
  },
  {
   "cell_type": "code",
   "execution_count": null,
   "id": "9e657bac-eaff-43dd-8211-940cf799864c",
   "metadata": {},
   "outputs": [],
   "source": []
  },
  {
   "cell_type": "markdown",
   "id": "41dc9396-5bcc-484f-83b8-082a8ce09168",
   "metadata": {},
   "source": [
    "### Q4. What are getter and setter in python? Create a class and create a getter and a setter method in this class."
   ]
  },
  {
   "cell_type": "markdown",
   "id": "0865693b-2271-4300-9ad4-ed8c3ba3d5a5",
   "metadata": {},
   "source": [
    "In Python, the concepts of getters and setters differ from those in other object-oriented programming languages. Unlike some languages where private variables are strictly hidden, Python relies on conventions, and direct access to private variables is allowed. The primary purpose of employing getters and setters in Python is to promote data encapsulation. These are commonly utilized for:\n",
    "\n",
    "1. Introducing validation logic when retrieving or setting a value.\n",
    "2. Preventing external users from directly accessing or modifying class fields, particularly private variables"
   ]
  },
  {
   "cell_type": "code",
   "execution_count": 22,
   "id": "875ba394-c643-46eb-99df-be1023503c24",
   "metadata": {},
   "outputs": [],
   "source": [
    "class vehicle_avg:\n",
    "    def __init__(self, milage=0):\n",
    "        self.__milage = milage\n",
    "        \n",
    "    def get_milage(self):\n",
    "        return self.__milage\n",
    "    \n",
    "    def set_milage(self, value):\n",
    "        self.__milage = 0 if value < 0 else value"
   ]
  },
  {
   "cell_type": "code",
   "execution_count": 23,
   "id": "982b0341-1a10-4e36-8803-969f576860a7",
   "metadata": {},
   "outputs": [],
   "source": [
    "alto = vehicle_avg()"
   ]
  },
  {
   "cell_type": "code",
   "execution_count": 28,
   "id": "0e188312-fae7-4b74-9af4-c05bb600b2a9",
   "metadata": {},
   "outputs": [],
   "source": [
    "alto.set_milage(19)"
   ]
  },
  {
   "cell_type": "code",
   "execution_count": 29,
   "id": "20722812-cef1-4d37-8aae-98c415974030",
   "metadata": {},
   "outputs": [
    {
     "data": {
      "text/plain": [
       "19"
      ]
     },
     "execution_count": 29,
     "metadata": {},
     "output_type": "execute_result"
    }
   ],
   "source": [
    "alto.get_milage()"
   ]
  },
  {
   "cell_type": "code",
   "execution_count": null,
   "id": "cc091447-ef47-4ecf-bbc2-4700af7b80d5",
   "metadata": {},
   "outputs": [],
   "source": []
  },
  {
   "cell_type": "code",
   "execution_count": null,
   "id": "2f3c374d-e4d4-46d1-be72-78ae210d8f09",
   "metadata": {},
   "outputs": [],
   "source": []
  },
  {
   "cell_type": "markdown",
   "id": "5b6d3ab8-94d6-47ae-b9ad-6c6f6474f212",
   "metadata": {},
   "source": [
    "### Q5.What is method overriding in python? Write a python code to demonstrate method overriding."
   ]
  },
  {
   "cell_type": "markdown",
   "id": "1f059c13-e03d-4d16-8195-780a9b779b10",
   "metadata": {},
   "source": [
    "Method overriding empowers subclasses to customize the implementation of a method already present in their superclass. In Python, developers can leverage this powerful capability to adjust the behavior of a method within a subclass to meet the specific needs of that subclass.\n",
    "\n",
    "When a method is overridden, the version defined in the subclass takes precedence over the one in the superclass. This concept of polymorphism allows objects of the subclass to be used interchangeably with objects of the superclass, promoting code extensibility and flexibility.\n",
    "\n",
    "Method Overriding proves particularly valuable in situations where a subclass aims to enhance or modify the functionality inherited from its superclass while preserving the overall structure and interface. This approach facilitates the efficient reuse of existing code and the creation of specialized classes that build upon the foundation of more general ones."
   ]
  },
  {
   "cell_type": "code",
   "execution_count": 30,
   "id": "0c0c3d8c-5784-4b4f-930e-8d84a3f5a348",
   "metadata": {},
   "outputs": [],
   "source": [
    "class vehicle_cat: \n",
    "    def category(self): \n",
    "        pass\n",
    "\n",
    "class veh_shape(vehicle_cat):\n",
    "    def category(self): \n",
    "        return \"Hatchback\" "
   ]
  },
  {
   "cell_type": "code",
   "execution_count": 31,
   "id": "4b63ea19-f028-41ca-ad71-e7669e9c0e22",
   "metadata": {},
   "outputs": [],
   "source": [
    "v_obj1 = vehicle_cat()\n",
    "v_obj2 = veh_shape()"
   ]
  },
  {
   "cell_type": "code",
   "execution_count": 32,
   "id": "0801afd1-d16e-428d-b598-a73d60f9a43a",
   "metadata": {},
   "outputs": [],
   "source": [
    "v_obj1.category()"
   ]
  },
  {
   "cell_type": "code",
   "execution_count": null,
   "id": "1ecd6a98-d252-406d-b2d0-36c2dda9a224",
   "metadata": {},
   "outputs": [],
   "source": [
    "v"
   ]
  }
 ],
 "metadata": {
  "kernelspec": {
   "display_name": "Python 3 (ipykernel)",
   "language": "python",
   "name": "python3"
  },
  "language_info": {
   "codemirror_mode": {
    "name": "ipython",
    "version": 3
   },
   "file_extension": ".py",
   "mimetype": "text/x-python",
   "name": "python",
   "nbconvert_exporter": "python",
   "pygments_lexer": "ipython3",
   "version": "3.10.8"
  }
 },
 "nbformat": 4,
 "nbformat_minor": 5
}
