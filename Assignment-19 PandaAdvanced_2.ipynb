{
 "cells": [
  {
   "cell_type": "markdown",
   "id": "e63df89a-ef54-4b83-8397-e737f34d1e16",
   "metadata": {},
   "source": [
    "### Q1. List any five functions of the pandas library with execution."
   ]
  },
  {
   "cell_type": "code",
   "execution_count": 1,
   "id": "5d67637f-fee8-4ec7-afce-24e80521a37d",
   "metadata": {},
   "outputs": [
    {
     "name": "stdout",
     "output_type": "stream",
     "text": [
      "DataFrame:\n",
      "      Name  Age           City\n",
      "0    Alice   25       New York\n",
      "1      Bob   30  San Francisco\n",
      "2  Charlie   27    Los Angeles\n",
      "\n",
      "DataFrame Columns:\n",
      "Index(['Name', 'Age', 'City'], dtype='object')\n",
      "\n",
      "Series (Age column):\n",
      "0    25\n",
      "1    30\n",
      "2    27\n",
      "Name: Age, dtype: int64\n"
     ]
    }
   ],
   "source": [
    "import pandas as pd\n",
    "# Creating a DataFrame\n",
    "data1 = {'Name': ['Alice', 'Bob', 'Charlie'],\n",
    "        'Age': [25, 30, 27],\n",
    "        'City': ['New York', 'San Francisco', 'Los Angeles']}\n",
    "\n",
    "df1 = pd.DataFrame(data1)\n",
    "\n",
    "# Displaying the DataFrame\n",
    "print(\"DataFrame:\")\n",
    "print(df1)\n",
    "print(\"\\nDataFrame Columns:\")\n",
    "print(df1.columns)\n",
    "\n",
    "# Accessing a specific column as a Series\n",
    "age_series = df1['Age']\n",
    "\n",
    "# Displaying the Series\n",
    "print(\"\\nSeries (Age column):\")\n",
    "print(age_series)"
   ]
  },
  {
   "cell_type": "markdown",
   "id": "83fb60f6-5e0b-4145-b270-244f61e0e0b4",
   "metadata": {},
   "source": [
    "#### 1. head() and tail(): Display the first or last n rows of the DataFrame."
   ]
  },
  {
   "cell_type": "code",
   "execution_count": 2,
   "id": "7efdf48b-dc2c-4e0f-a362-b7fe1b783eda",
   "metadata": {},
   "outputs": [
    {
     "data": {
      "text/html": [
       "<div>\n",
       "<style scoped>\n",
       "    .dataframe tbody tr th:only-of-type {\n",
       "        vertical-align: middle;\n",
       "    }\n",
       "\n",
       "    .dataframe tbody tr th {\n",
       "        vertical-align: top;\n",
       "    }\n",
       "\n",
       "    .dataframe thead th {\n",
       "        text-align: right;\n",
       "    }\n",
       "</style>\n",
       "<table border=\"1\" class=\"dataframe\">\n",
       "  <thead>\n",
       "    <tr style=\"text-align: right;\">\n",
       "      <th></th>\n",
       "      <th>Name</th>\n",
       "      <th>Age</th>\n",
       "      <th>City</th>\n",
       "    </tr>\n",
       "  </thead>\n",
       "  <tbody>\n",
       "    <tr>\n",
       "      <th>0</th>\n",
       "      <td>Alice</td>\n",
       "      <td>25</td>\n",
       "      <td>New York</td>\n",
       "    </tr>\n",
       "  </tbody>\n",
       "</table>\n",
       "</div>"
      ],
      "text/plain": [
       "    Name  Age      City\n",
       "0  Alice   25  New York"
      ]
     },
     "execution_count": 2,
     "metadata": {},
     "output_type": "execute_result"
    }
   ],
   "source": [
    "df1.head(1)"
   ]
  },
  {
   "cell_type": "code",
   "execution_count": 3,
   "id": "6e7946cf-abe0-49a9-a738-7ce3f95d308c",
   "metadata": {},
   "outputs": [
    {
     "data": {
      "text/html": [
       "<div>\n",
       "<style scoped>\n",
       "    .dataframe tbody tr th:only-of-type {\n",
       "        vertical-align: middle;\n",
       "    }\n",
       "\n",
       "    .dataframe tbody tr th {\n",
       "        vertical-align: top;\n",
       "    }\n",
       "\n",
       "    .dataframe thead th {\n",
       "        text-align: right;\n",
       "    }\n",
       "</style>\n",
       "<table border=\"1\" class=\"dataframe\">\n",
       "  <thead>\n",
       "    <tr style=\"text-align: right;\">\n",
       "      <th></th>\n",
       "      <th>Name</th>\n",
       "      <th>Age</th>\n",
       "      <th>City</th>\n",
       "    </tr>\n",
       "  </thead>\n",
       "  <tbody>\n",
       "    <tr>\n",
       "      <th>2</th>\n",
       "      <td>Charlie</td>\n",
       "      <td>27</td>\n",
       "      <td>Los Angeles</td>\n",
       "    </tr>\n",
       "  </tbody>\n",
       "</table>\n",
       "</div>"
      ],
      "text/plain": [
       "      Name  Age         City\n",
       "2  Charlie   27  Los Angeles"
      ]
     },
     "execution_count": 3,
     "metadata": {},
     "output_type": "execute_result"
    }
   ],
   "source": [
    "df1.tail(1)"
   ]
  },
  {
   "cell_type": "markdown",
   "id": "8f465e99-d285-4d05-9b84-0e40392876fe",
   "metadata": {},
   "source": [
    "#### 2. info(): Display a concise summary of the DataFrame, including data types, non-null counts, and memory usage."
   ]
  },
  {
   "cell_type": "code",
   "execution_count": 4,
   "id": "7cb732f2-ba77-4464-89c3-59e56fb20f24",
   "metadata": {},
   "outputs": [
    {
     "name": "stdout",
     "output_type": "stream",
     "text": [
      "<class 'pandas.core.frame.DataFrame'>\n",
      "RangeIndex: 3 entries, 0 to 2\n",
      "Data columns (total 3 columns):\n",
      " #   Column  Non-Null Count  Dtype \n",
      "---  ------  --------------  ----- \n",
      " 0   Name    3 non-null      object\n",
      " 1   Age     3 non-null      int64 \n",
      " 2   City    3 non-null      object\n",
      "dtypes: int64(1), object(2)\n",
      "memory usage: 200.0+ bytes\n"
     ]
    }
   ],
   "source": [
    "df1.info()"
   ]
  },
  {
   "cell_type": "markdown",
   "id": "7d73169f-40cb-470a-82db-220245cee4c3",
   "metadata": {},
   "source": [
    "#### 3. describe(): Generate descriptive statistics (count, mean, std deviation, min, 25%, 50%, 75%, max) of numerical columns."
   ]
  },
  {
   "cell_type": "code",
   "execution_count": 5,
   "id": "40084e75-b690-4f39-93da-9566d8c2e207",
   "metadata": {},
   "outputs": [
    {
     "data": {
      "text/html": [
       "<div>\n",
       "<style scoped>\n",
       "    .dataframe tbody tr th:only-of-type {\n",
       "        vertical-align: middle;\n",
       "    }\n",
       "\n",
       "    .dataframe tbody tr th {\n",
       "        vertical-align: top;\n",
       "    }\n",
       "\n",
       "    .dataframe thead th {\n",
       "        text-align: right;\n",
       "    }\n",
       "</style>\n",
       "<table border=\"1\" class=\"dataframe\">\n",
       "  <thead>\n",
       "    <tr style=\"text-align: right;\">\n",
       "      <th></th>\n",
       "      <th>Age</th>\n",
       "    </tr>\n",
       "  </thead>\n",
       "  <tbody>\n",
       "    <tr>\n",
       "      <th>count</th>\n",
       "      <td>3.000000</td>\n",
       "    </tr>\n",
       "    <tr>\n",
       "      <th>mean</th>\n",
       "      <td>27.333333</td>\n",
       "    </tr>\n",
       "    <tr>\n",
       "      <th>std</th>\n",
       "      <td>2.516611</td>\n",
       "    </tr>\n",
       "    <tr>\n",
       "      <th>min</th>\n",
       "      <td>25.000000</td>\n",
       "    </tr>\n",
       "    <tr>\n",
       "      <th>25%</th>\n",
       "      <td>26.000000</td>\n",
       "    </tr>\n",
       "    <tr>\n",
       "      <th>50%</th>\n",
       "      <td>27.000000</td>\n",
       "    </tr>\n",
       "    <tr>\n",
       "      <th>75%</th>\n",
       "      <td>28.500000</td>\n",
       "    </tr>\n",
       "    <tr>\n",
       "      <th>max</th>\n",
       "      <td>30.000000</td>\n",
       "    </tr>\n",
       "  </tbody>\n",
       "</table>\n",
       "</div>"
      ],
      "text/plain": [
       "             Age\n",
       "count   3.000000\n",
       "mean   27.333333\n",
       "std     2.516611\n",
       "min    25.000000\n",
       "25%    26.000000\n",
       "50%    27.000000\n",
       "75%    28.500000\n",
       "max    30.000000"
      ]
     },
     "execution_count": 5,
     "metadata": {},
     "output_type": "execute_result"
    }
   ],
   "source": [
    "df1.describe()"
   ]
  },
  {
   "cell_type": "markdown",
   "id": "207eefb8-73b4-4a5b-b04b-7cd0bd701ed2",
   "metadata": {},
   "source": [
    "#### 4. shape: Return the dimensions (rows, columns) of the DataFrame."
   ]
  },
  {
   "cell_type": "code",
   "execution_count": 6,
   "id": "71eb84fb-df0f-45ee-af29-8913d4c9211c",
   "metadata": {},
   "outputs": [
    {
     "data": {
      "text/plain": [
       "(3, 3)"
      ]
     },
     "execution_count": 6,
     "metadata": {},
     "output_type": "execute_result"
    }
   ],
   "source": [
    "df1.shape"
   ]
  },
  {
   "cell_type": "markdown",
   "id": "984de2a5-e109-45d8-9758-494ef2c5544b",
   "metadata": {},
   "source": [
    "#### 5. columns and index: Access the column names and index of the DataFrame."
   ]
  },
  {
   "cell_type": "code",
   "execution_count": 7,
   "id": "aa231e66-0a9a-4fa6-8633-fa3c1cc83b2d",
   "metadata": {},
   "outputs": [
    {
     "data": {
      "text/plain": [
       "Index(['Name', 'Age', 'City'], dtype='object')"
      ]
     },
     "execution_count": 7,
     "metadata": {},
     "output_type": "execute_result"
    }
   ],
   "source": [
    "df1.columns"
   ]
  },
  {
   "cell_type": "code",
   "execution_count": 8,
   "id": "158ee3e3-46cd-447c-a451-2937af3b7781",
   "metadata": {},
   "outputs": [
    {
     "data": {
      "text/plain": [
       "RangeIndex(start=0, stop=3, step=1)"
      ]
     },
     "execution_count": 8,
     "metadata": {},
     "output_type": "execute_result"
    }
   ],
   "source": [
    "df1.index"
   ]
  },
  {
   "cell_type": "markdown",
   "id": "6ab89f53-54fd-431a-89b3-0f209c4d62f1",
   "metadata": {},
   "source": [
    "#### 6. loc[] and iloc[]: Access a group of rows and columns by labels (loc[]) or integer-based indexing (iloc[])."
   ]
  },
  {
   "cell_type": "code",
   "execution_count": 9,
   "id": "65506193-9d68-464e-bf21-9d419ea58f3b",
   "metadata": {},
   "outputs": [
    {
     "data": {
      "text/html": [
       "<div>\n",
       "<style scoped>\n",
       "    .dataframe tbody tr th:only-of-type {\n",
       "        vertical-align: middle;\n",
       "    }\n",
       "\n",
       "    .dataframe tbody tr th {\n",
       "        vertical-align: top;\n",
       "    }\n",
       "\n",
       "    .dataframe thead th {\n",
       "        text-align: right;\n",
       "    }\n",
       "</style>\n",
       "<table border=\"1\" class=\"dataframe\">\n",
       "  <thead>\n",
       "    <tr style=\"text-align: right;\">\n",
       "      <th></th>\n",
       "      <th>Name</th>\n",
       "      <th>Age</th>\n",
       "    </tr>\n",
       "  </thead>\n",
       "  <tbody>\n",
       "    <tr>\n",
       "      <th>1</th>\n",
       "      <td>Bob</td>\n",
       "      <td>30</td>\n",
       "    </tr>\n",
       "    <tr>\n",
       "      <th>2</th>\n",
       "      <td>Charlie</td>\n",
       "      <td>27</td>\n",
       "    </tr>\n",
       "  </tbody>\n",
       "</table>\n",
       "</div>"
      ],
      "text/plain": [
       "      Name  Age\n",
       "1      Bob   30\n",
       "2  Charlie   27"
      ]
     },
     "execution_count": 9,
     "metadata": {},
     "output_type": "execute_result"
    }
   ],
   "source": [
    "df1.loc[1:3, ['Name', 'Age']]"
   ]
  },
  {
   "cell_type": "code",
   "execution_count": 10,
   "id": "7a6241ab-dacd-4383-b888-fa27086bdc73",
   "metadata": {},
   "outputs": [
    {
     "data": {
      "text/html": [
       "<div>\n",
       "<style scoped>\n",
       "    .dataframe tbody tr th:only-of-type {\n",
       "        vertical-align: middle;\n",
       "    }\n",
       "\n",
       "    .dataframe tbody tr th {\n",
       "        vertical-align: top;\n",
       "    }\n",
       "\n",
       "    .dataframe thead th {\n",
       "        text-align: right;\n",
       "    }\n",
       "</style>\n",
       "<table border=\"1\" class=\"dataframe\">\n",
       "  <thead>\n",
       "    <tr style=\"text-align: right;\">\n",
       "      <th></th>\n",
       "      <th>Name</th>\n",
       "      <th>Age</th>\n",
       "      <th>City</th>\n",
       "    </tr>\n",
       "  </thead>\n",
       "  <tbody>\n",
       "    <tr>\n",
       "      <th>1</th>\n",
       "      <td>Bob</td>\n",
       "      <td>30</td>\n",
       "      <td>San Francisco</td>\n",
       "    </tr>\n",
       "  </tbody>\n",
       "</table>\n",
       "</div>"
      ],
      "text/plain": [
       "  Name  Age           City\n",
       "1  Bob   30  San Francisco"
      ]
     },
     "execution_count": 10,
     "metadata": {},
     "output_type": "execute_result"
    }
   ],
   "source": [
    "df1.iloc[1:2]"
   ]
  },
  {
   "cell_type": "markdown",
   "id": "9df49392-5a8c-431e-8e49-468e2b03efad",
   "metadata": {},
   "source": [
    "#### 7. sort_values(): Sort the DataFrame by one or more columns."
   ]
  },
  {
   "cell_type": "code",
   "execution_count": 11,
   "id": "c2e2dc6c-2164-4190-a51e-561acba6bdc5",
   "metadata": {},
   "outputs": [
    {
     "data": {
      "text/html": [
       "<div>\n",
       "<style scoped>\n",
       "    .dataframe tbody tr th:only-of-type {\n",
       "        vertical-align: middle;\n",
       "    }\n",
       "\n",
       "    .dataframe tbody tr th {\n",
       "        vertical-align: top;\n",
       "    }\n",
       "\n",
       "    .dataframe thead th {\n",
       "        text-align: right;\n",
       "    }\n",
       "</style>\n",
       "<table border=\"1\" class=\"dataframe\">\n",
       "  <thead>\n",
       "    <tr style=\"text-align: right;\">\n",
       "      <th></th>\n",
       "      <th>Name</th>\n",
       "      <th>Age</th>\n",
       "      <th>City</th>\n",
       "    </tr>\n",
       "  </thead>\n",
       "  <tbody>\n",
       "    <tr>\n",
       "      <th>1</th>\n",
       "      <td>Bob</td>\n",
       "      <td>30</td>\n",
       "      <td>San Francisco</td>\n",
       "    </tr>\n",
       "    <tr>\n",
       "      <th>2</th>\n",
       "      <td>Charlie</td>\n",
       "      <td>27</td>\n",
       "      <td>Los Angeles</td>\n",
       "    </tr>\n",
       "    <tr>\n",
       "      <th>0</th>\n",
       "      <td>Alice</td>\n",
       "      <td>25</td>\n",
       "      <td>New York</td>\n",
       "    </tr>\n",
       "  </tbody>\n",
       "</table>\n",
       "</div>"
      ],
      "text/plain": [
       "      Name  Age           City\n",
       "1      Bob   30  San Francisco\n",
       "2  Charlie   27    Los Angeles\n",
       "0    Alice   25       New York"
      ]
     },
     "execution_count": 11,
     "metadata": {},
     "output_type": "execute_result"
    }
   ],
   "source": [
    "df1.sort_values(by='Age', ascending=False)"
   ]
  },
  {
   "cell_type": "markdown",
   "id": "dcf9ca4a-9beb-4b57-bf9b-14e2ccb47fdd",
   "metadata": {},
   "source": [
    "### Q2. Given a Pandas DataFrame df with columns 'A', 'B', and 'C', write a Python function to re-index the DataFrame with a new index that starts from 1 and increments by 2 for each row."
   ]
  },
  {
   "cell_type": "code",
   "execution_count": 12,
   "id": "037ccfe3-f897-4e11-8d0c-d7028e18c99f",
   "metadata": {},
   "outputs": [],
   "source": [
    "data_frame = pd.DataFrame({'A': [10, 20, 30], 'B': [40, 50, 60], 'C': [70, 80, 90]})"
   ]
  },
  {
   "cell_type": "code",
   "execution_count": 13,
   "id": "77093fcb-e681-4846-9ef3-b559e48ff617",
   "metadata": {},
   "outputs": [
    {
     "name": "stdout",
     "output_type": "stream",
     "text": [
      "    A   B   C\n",
      "1  10  40  70\n",
      "3  20  50  80\n",
      "5  30  60  90\n"
     ]
    }
   ],
   "source": [
    "def reindex_with_custom_index(df):\n",
    "    # Create a new index starting from 1 and incrementing by 2\n",
    "    new_index = range(1, len(df) * 2, 2)\n",
    "\n",
    "    # Set the new index and create a new DataFrame\n",
    "    df_reindexed = df.reset_index(drop=True)\n",
    "    df_reindexed.index = new_index\n",
    "\n",
    "    return df_reindexed\n",
    "\n",
    "# Re-index the DataFrame using the custom index\n",
    "df_reindexed = reindex_with_custom_index(data_frame)\n",
    "\n",
    "# Display the re-indexed DataFrame\n",
    "print(df_reindexed)"
   ]
  },
  {
   "cell_type": "markdown",
   "id": "c516e6cc-a6fb-496a-b44f-ea9093cb189f",
   "metadata": {},
   "source": [
    "### Q3. You have a Pandas DataFrame df with a column named 'Values'. Write a Python function that iterates over the DataFrame and calculates the sum of the first three values in the 'Values' column. The function should print the sum to the console. \n",
    "#### For example, if the 'Values' column of df contains the values [10, 20, 30, 40, 50], your function should calculate and print the sum of the first three values, which is 60."
   ]
  },
  {
   "cell_type": "code",
   "execution_count": 14,
   "id": "ce3b3105-e2d9-48d2-b91e-d96c8c3b3a49",
   "metadata": {},
   "outputs": [],
   "source": [
    "data_frame3 = pd.DataFrame({'Values': [10, 20, 30, 40, 50, 60, 70, 80, 90, 100], \n",
    "                            'Name': [\"Alpha1\", \"Alpha2\", \"Alpha3\", \"Alpha4\", \"Alpha5\", \"Alpha6\", \"Alpha7\", \"Alpha8\", \"Alpha9\", \"Alpha10\"]\n",
    "                           })"
   ]
  },
  {
   "cell_type": "code",
   "execution_count": 15,
   "id": "c10e1ea2-ff7b-4ada-b748-0825353670ca",
   "metadata": {},
   "outputs": [
    {
     "data": {
      "text/plain": [
       "60"
      ]
     },
     "execution_count": 15,
     "metadata": {},
     "output_type": "execute_result"
    }
   ],
   "source": [
    "data_frame3[\"Values\"].iloc[0:3].sum()"
   ]
  },
  {
   "cell_type": "markdown",
   "id": "92a994bd-aefd-47cf-a5df-559fe24c34f0",
   "metadata": {},
   "source": [
    "### Q4. Given a Pandas DataFrame df with a column 'Text', write a Python function to create a new column 'Word_Count' that contains the number of words in each row of the 'Text' column."
   ]
  },
  {
   "cell_type": "code",
   "execution_count": 16,
   "id": "4efea31e-556d-43e1-a00c-969171eef3d6",
   "metadata": {},
   "outputs": [],
   "source": [
    "data_frame4 = pd.DataFrame({'Values': [10, 20, 30, 40, 50, 60, 70, 80, 90, 100], \n",
    "                            'Name': [\"Alpha1\", \"Alpha2\", \"Alpha3\", \"Alpha4\", \"Alpha5\", \"Alpha6\", \"Alpha7\", \"Alpha8\", \"Alpha9\", \"Alpha10\"]\n",
    "                           })"
   ]
  },
  {
   "cell_type": "code",
   "execution_count": 17,
   "id": "0cf62d34-8634-4e6d-9f88-11ffa68a9585",
   "metadata": {},
   "outputs": [],
   "source": [
    "def word_count(n):\n",
    "    return len(str(n).split())"
   ]
  },
  {
   "cell_type": "code",
   "execution_count": 18,
   "id": "4c0ed83f-7e31-40c9-8b60-e880da5b7423",
   "metadata": {},
   "outputs": [],
   "source": [
    "data_frame4[\"Text\"] = [\n",
    "    'This is a sample text for the first row.',\n",
    "    'Another example in the second row.',\n",
    "    'Adding more text to the third row.',\n",
    "    'Short Text 1',\n",
    "    'Short Text 2',\n",
    "    'Short Text 3',\n",
    "    'Short Te xt 4',\n",
    "    'Sho rtT ex t 5',\n",
    "    'Shor t T e  xt 6',\n",
    "    'please refer to the above text'\n",
    "]"
   ]
  },
  {
   "cell_type": "code",
   "execution_count": 19,
   "id": "e6fa0f12-0e5a-40d8-9080-fe425cbc9fc9",
   "metadata": {},
   "outputs": [],
   "source": [
    "data_frame4[\"Word_Count\"] = data_frame4[\"Text\"].apply(word_count)"
   ]
  },
  {
   "cell_type": "code",
   "execution_count": 20,
   "id": "6ade5c0c-ff68-4cb4-8d47-6bafa41c9346",
   "metadata": {},
   "outputs": [
    {
     "data": {
      "text/html": [
       "<div>\n",
       "<style scoped>\n",
       "    .dataframe tbody tr th:only-of-type {\n",
       "        vertical-align: middle;\n",
       "    }\n",
       "\n",
       "    .dataframe tbody tr th {\n",
       "        vertical-align: top;\n",
       "    }\n",
       "\n",
       "    .dataframe thead th {\n",
       "        text-align: right;\n",
       "    }\n",
       "</style>\n",
       "<table border=\"1\" class=\"dataframe\">\n",
       "  <thead>\n",
       "    <tr style=\"text-align: right;\">\n",
       "      <th></th>\n",
       "      <th>Values</th>\n",
       "      <th>Name</th>\n",
       "      <th>Text</th>\n",
       "      <th>Word_Count</th>\n",
       "    </tr>\n",
       "  </thead>\n",
       "  <tbody>\n",
       "    <tr>\n",
       "      <th>0</th>\n",
       "      <td>10</td>\n",
       "      <td>Alpha1</td>\n",
       "      <td>This is a sample text for the first row.</td>\n",
       "      <td>9</td>\n",
       "    </tr>\n",
       "    <tr>\n",
       "      <th>1</th>\n",
       "      <td>20</td>\n",
       "      <td>Alpha2</td>\n",
       "      <td>Another example in the second row.</td>\n",
       "      <td>6</td>\n",
       "    </tr>\n",
       "    <tr>\n",
       "      <th>2</th>\n",
       "      <td>30</td>\n",
       "      <td>Alpha3</td>\n",
       "      <td>Adding more text to the third row.</td>\n",
       "      <td>7</td>\n",
       "    </tr>\n",
       "    <tr>\n",
       "      <th>3</th>\n",
       "      <td>40</td>\n",
       "      <td>Alpha4</td>\n",
       "      <td>Short Text 1</td>\n",
       "      <td>3</td>\n",
       "    </tr>\n",
       "    <tr>\n",
       "      <th>4</th>\n",
       "      <td>50</td>\n",
       "      <td>Alpha5</td>\n",
       "      <td>Short Text 2</td>\n",
       "      <td>3</td>\n",
       "    </tr>\n",
       "    <tr>\n",
       "      <th>5</th>\n",
       "      <td>60</td>\n",
       "      <td>Alpha6</td>\n",
       "      <td>Short Text 3</td>\n",
       "      <td>3</td>\n",
       "    </tr>\n",
       "    <tr>\n",
       "      <th>6</th>\n",
       "      <td>70</td>\n",
       "      <td>Alpha7</td>\n",
       "      <td>Short Te xt 4</td>\n",
       "      <td>4</td>\n",
       "    </tr>\n",
       "    <tr>\n",
       "      <th>7</th>\n",
       "      <td>80</td>\n",
       "      <td>Alpha8</td>\n",
       "      <td>Sho rtT ex t 5</td>\n",
       "      <td>5</td>\n",
       "    </tr>\n",
       "    <tr>\n",
       "      <th>8</th>\n",
       "      <td>90</td>\n",
       "      <td>Alpha9</td>\n",
       "      <td>Shor t T e  xt 6</td>\n",
       "      <td>6</td>\n",
       "    </tr>\n",
       "    <tr>\n",
       "      <th>9</th>\n",
       "      <td>100</td>\n",
       "      <td>Alpha10</td>\n",
       "      <td>please refer to the above text</td>\n",
       "      <td>6</td>\n",
       "    </tr>\n",
       "  </tbody>\n",
       "</table>\n",
       "</div>"
      ],
      "text/plain": [
       "   Values     Name                                      Text  Word_Count\n",
       "0      10   Alpha1  This is a sample text for the first row.           9\n",
       "1      20   Alpha2        Another example in the second row.           6\n",
       "2      30   Alpha3        Adding more text to the third row.           7\n",
       "3      40   Alpha4                              Short Text 1           3\n",
       "4      50   Alpha5                              Short Text 2           3\n",
       "5      60   Alpha6                              Short Text 3           3\n",
       "6      70   Alpha7                             Short Te xt 4           4\n",
       "7      80   Alpha8                            Sho rtT ex t 5           5\n",
       "8      90   Alpha9                          Shor t T e  xt 6           6\n",
       "9     100  Alpha10            please refer to the above text           6"
      ]
     },
     "execution_count": 20,
     "metadata": {},
     "output_type": "execute_result"
    }
   ],
   "source": [
    "data_frame4"
   ]
  },
  {
   "cell_type": "code",
   "execution_count": null,
   "id": "3153c6ef-cfa1-4186-98cf-5ad9425fafbd",
   "metadata": {},
   "outputs": [],
   "source": []
  },
  {
   "cell_type": "code",
   "execution_count": null,
   "id": "1f67b7ab-b8bc-4384-8b66-6e08cd2d1632",
   "metadata": {},
   "outputs": [],
   "source": []
  },
  {
   "cell_type": "markdown",
   "id": "74355dfc-517b-45ef-a74a-908ba84eb20b",
   "metadata": {},
   "source": [
    "### Q5. How are DataFrame.size() and DataFrame.shape() different?"
   ]
  },
  {
   "cell_type": "code",
   "execution_count": 21,
   "id": "cc7bf138-b50b-416e-8cf4-292a4d8afeb7",
   "metadata": {},
   "outputs": [
    {
     "data": {
      "text/plain": [
       "(10, 4)"
      ]
     },
     "execution_count": 21,
     "metadata": {},
     "output_type": "execute_result"
    }
   ],
   "source": [
    "data_frame4.shape"
   ]
  },
  {
   "cell_type": "code",
   "execution_count": 22,
   "id": "3002c3f2-43f4-40b5-b5bd-5647d82d4044",
   "metadata": {},
   "outputs": [
    {
     "data": {
      "text/plain": [
       "40"
      ]
     },
     "execution_count": 22,
     "metadata": {},
     "output_type": "execute_result"
    }
   ],
   "source": [
    "data_frame4.size"
   ]
  },
  {
   "cell_type": "markdown",
   "id": "4095d767-f1cb-4688-8893-51107872eb73",
   "metadata": {},
   "source": [
    "As we can clearly see in above example that the shape will tell us about the shape of datatframe which means the number of columns and number of rows and size tells us about the total values in a dataframe i.e., no. of coulumns * number of rows."
   ]
  },
  {
   "cell_type": "markdown",
   "id": "97c78fb6-4e83-4f7c-b525-7718790fb75f",
   "metadata": {},
   "source": [
    "### Q6. Which function of pandas do we use to read an excel file?"
   ]
  },
  {
   "cell_type": "code",
   "execution_count": null,
   "id": "a545a91c-47f1-4150-980f-041d1d9f99f7",
   "metadata": {},
   "outputs": [],
   "source": [
    "pd.read_excel(\"test.xls\")"
   ]
  },
  {
   "cell_type": "markdown",
   "id": "d810c27a-5725-464a-b139-1114374d6161",
   "metadata": {},
   "source": [
    "### Q7. You have a Pandas DataFrame df that contains a column named 'Email' that contains email addresses in the format 'username@domain.com'. Write a Python function that creates a new column 'Username' in df that contains only the username part of each email address.\n",
    "### The username is the part of the email address that appears before the '@' symbol. For example, if the email address is 'john.doe@example.com', the 'Username' column should contain 'john.doe'. Your function should extract the username from each email address and store it in the new 'Username' column."
   ]
  },
  {
   "cell_type": "code",
   "execution_count": 23,
   "id": "7604877f-4d98-46e0-872c-df96ea1d196d",
   "metadata": {},
   "outputs": [],
   "source": [
    "s = \"username@gmail.com\"\n",
    "j = s.split('@')[0]"
   ]
  },
  {
   "cell_type": "code",
   "execution_count": 24,
   "id": "238fc120-0eff-47cc-ad47-289eae36efb5",
   "metadata": {},
   "outputs": [
    {
     "data": {
      "text/plain": [
       "'username'"
      ]
     },
     "execution_count": 24,
     "metadata": {},
     "output_type": "execute_result"
    }
   ],
   "source": [
    "j"
   ]
  },
  {
   "cell_type": "code",
   "execution_count": 25,
   "id": "8ba29aa2-3ed6-41ad-a78f-9721d7261f52",
   "metadata": {},
   "outputs": [],
   "source": [
    "def split_username(n):\n",
    "    return n.split('@')[0]\n",
    "def first_username(n):\n",
    "    return n.split('.')[0]\n",
    "def last_username(n):\n",
    "    return n.split('.')[1]"
   ]
  },
  {
   "cell_type": "code",
   "execution_count": 26,
   "id": "85ce2f36-4019-4c1e-a92a-e2f2ed315d1e",
   "metadata": {},
   "outputs": [],
   "source": [
    "data_frame7 = pd.DataFrame({\"Email\": [\"john.doe@example.com\", \n",
    "                                      \"alice.smith@gmail.com\", \n",
    "                                      \"bob.jones@hotmail.com\",\n",
    "                                      \"emma.white@yahoo.com\",\n",
    "                                      \"david.miller@outlook.com\",\n",
    "                                      \"olivia.jackson@gmail.com\",\n",
    "                                      \"charlie.brown@example.com\",\n",
    "                                      \"sophie.martin@yahoo.com\",\n",
    "                                      \"lucas.wilson@hotmail.com\",\n",
    "                                      \"mia.johnson@outlook.com\"]})"
   ]
  },
  {
   "cell_type": "code",
   "execution_count": 27,
   "id": "3a4a8012-6d9d-4fc8-9904-daa763c66c59",
   "metadata": {},
   "outputs": [],
   "source": [
    "data_frame7[\"Username\"] = data_frame7[\"Email\"].apply(split_username)\n",
    "data_frame7[\"First_name\"] = data_frame7[\"Username\"].apply(first_username)\n",
    "data_frame7[\"Last_name\"] = data_frame7[\"Username\"].apply(last_username)"
   ]
  },
  {
   "cell_type": "code",
   "execution_count": 28,
   "id": "359e1a88-378d-484d-821b-0a8bf505ebc0",
   "metadata": {},
   "outputs": [
    {
     "data": {
      "text/html": [
       "<div>\n",
       "<style scoped>\n",
       "    .dataframe tbody tr th:only-of-type {\n",
       "        vertical-align: middle;\n",
       "    }\n",
       "\n",
       "    .dataframe tbody tr th {\n",
       "        vertical-align: top;\n",
       "    }\n",
       "\n",
       "    .dataframe thead th {\n",
       "        text-align: right;\n",
       "    }\n",
       "</style>\n",
       "<table border=\"1\" class=\"dataframe\">\n",
       "  <thead>\n",
       "    <tr style=\"text-align: right;\">\n",
       "      <th></th>\n",
       "      <th>Email</th>\n",
       "      <th>Username</th>\n",
       "      <th>First_name</th>\n",
       "      <th>Last_name</th>\n",
       "    </tr>\n",
       "  </thead>\n",
       "  <tbody>\n",
       "    <tr>\n",
       "      <th>0</th>\n",
       "      <td>john.doe@example.com</td>\n",
       "      <td>john.doe</td>\n",
       "      <td>john</td>\n",
       "      <td>doe</td>\n",
       "    </tr>\n",
       "    <tr>\n",
       "      <th>1</th>\n",
       "      <td>alice.smith@gmail.com</td>\n",
       "      <td>alice.smith</td>\n",
       "      <td>alice</td>\n",
       "      <td>smith</td>\n",
       "    </tr>\n",
       "    <tr>\n",
       "      <th>2</th>\n",
       "      <td>bob.jones@hotmail.com</td>\n",
       "      <td>bob.jones</td>\n",
       "      <td>bob</td>\n",
       "      <td>jones</td>\n",
       "    </tr>\n",
       "    <tr>\n",
       "      <th>3</th>\n",
       "      <td>emma.white@yahoo.com</td>\n",
       "      <td>emma.white</td>\n",
       "      <td>emma</td>\n",
       "      <td>white</td>\n",
       "    </tr>\n",
       "    <tr>\n",
       "      <th>4</th>\n",
       "      <td>david.miller@outlook.com</td>\n",
       "      <td>david.miller</td>\n",
       "      <td>david</td>\n",
       "      <td>miller</td>\n",
       "    </tr>\n",
       "    <tr>\n",
       "      <th>5</th>\n",
       "      <td>olivia.jackson@gmail.com</td>\n",
       "      <td>olivia.jackson</td>\n",
       "      <td>olivia</td>\n",
       "      <td>jackson</td>\n",
       "    </tr>\n",
       "    <tr>\n",
       "      <th>6</th>\n",
       "      <td>charlie.brown@example.com</td>\n",
       "      <td>charlie.brown</td>\n",
       "      <td>charlie</td>\n",
       "      <td>brown</td>\n",
       "    </tr>\n",
       "    <tr>\n",
       "      <th>7</th>\n",
       "      <td>sophie.martin@yahoo.com</td>\n",
       "      <td>sophie.martin</td>\n",
       "      <td>sophie</td>\n",
       "      <td>martin</td>\n",
       "    </tr>\n",
       "    <tr>\n",
       "      <th>8</th>\n",
       "      <td>lucas.wilson@hotmail.com</td>\n",
       "      <td>lucas.wilson</td>\n",
       "      <td>lucas</td>\n",
       "      <td>wilson</td>\n",
       "    </tr>\n",
       "    <tr>\n",
       "      <th>9</th>\n",
       "      <td>mia.johnson@outlook.com</td>\n",
       "      <td>mia.johnson</td>\n",
       "      <td>mia</td>\n",
       "      <td>johnson</td>\n",
       "    </tr>\n",
       "  </tbody>\n",
       "</table>\n",
       "</div>"
      ],
      "text/plain": [
       "                       Email        Username First_name Last_name\n",
       "0       john.doe@example.com        john.doe       john       doe\n",
       "1      alice.smith@gmail.com     alice.smith      alice     smith\n",
       "2      bob.jones@hotmail.com       bob.jones        bob     jones\n",
       "3       emma.white@yahoo.com      emma.white       emma     white\n",
       "4   david.miller@outlook.com    david.miller      david    miller\n",
       "5   olivia.jackson@gmail.com  olivia.jackson     olivia   jackson\n",
       "6  charlie.brown@example.com   charlie.brown    charlie     brown\n",
       "7    sophie.martin@yahoo.com   sophie.martin     sophie    martin\n",
       "8   lucas.wilson@hotmail.com    lucas.wilson      lucas    wilson\n",
       "9    mia.johnson@outlook.com     mia.johnson        mia   johnson"
      ]
     },
     "execution_count": 28,
     "metadata": {},
     "output_type": "execute_result"
    }
   ],
   "source": [
    "data_frame7"
   ]
  },
  {
   "cell_type": "code",
   "execution_count": null,
   "id": "510da591-94b7-45c8-8ee7-2c296e50cc5e",
   "metadata": {},
   "outputs": [],
   "source": []
  },
  {
   "cell_type": "markdown",
   "id": "00bff444-5289-4987-a930-a13959957c05",
   "metadata": {},
   "source": [
    "### Q8. You have a Pandas DataFrame df with columns 'A', 'B', and 'C'. Write a Python function that selects all rows where the value in column 'A' is greater than 5 and the value in column 'B' is less than 10. The function should return a new DataFrame that contains only the selected rows.\n",
    "#### For example, if df contains the following values:"
   ]
  },
  {
   "cell_type": "markdown",
   "id": "9d7d0820-a736-4ff8-85ad-073b9d63ab79",
   "metadata": {},
   "source": [
    "_  A   B   C\n",
    "\n",
    "0  3   5   1\n",
    "\n",
    "1  8   2   7\n",
    "\n",
    "2  6   9   4\n",
    "\n",
    "3  2   3   5\n",
    "\n",
    "4  9   1   2"
   ]
  },
  {
   "cell_type": "markdown",
   "id": "6ab691eb-0c00-4bb8-8672-48aa4c8b0580",
   "metadata": {},
   "source": [
    "#### Your function should select the following rows:   A   B   C\n",
    "\n",
    "1  8   2   7\n",
    "\n",
    "4  9   1   2\n",
    "\n",
    "\n",
    "#### The function should return a new DataFrame that contains only the selected rows"
   ]
  },
  {
   "cell_type": "markdown",
   "id": "ba3f15a4-26bc-468a-9580-980501226e7c",
   "metadata": {},
   "source": [
    "#### There are several ways to perform the abobe scenario please refer to the following:"
   ]
  },
  {
   "cell_type": "code",
   "execution_count": 29,
   "id": "cd9e4ebc-f87e-4b5d-9d80-1dbf3536e6b7",
   "metadata": {},
   "outputs": [],
   "source": [
    "data_frame8 = pd.DataFrame({'A': [3, 8, 6, 2, 9], 'B': [5, 2, 9, 3, 1], 'C': [1, 7, 4, 5, 2]})"
   ]
  },
  {
   "cell_type": "code",
   "execution_count": 30,
   "id": "f1b7962d-1213-4694-84e5-fd877e870154",
   "metadata": {},
   "outputs": [
    {
     "data": {
      "text/html": [
       "<div>\n",
       "<style scoped>\n",
       "    .dataframe tbody tr th:only-of-type {\n",
       "        vertical-align: middle;\n",
       "    }\n",
       "\n",
       "    .dataframe tbody tr th {\n",
       "        vertical-align: top;\n",
       "    }\n",
       "\n",
       "    .dataframe thead th {\n",
       "        text-align: right;\n",
       "    }\n",
       "</style>\n",
       "<table border=\"1\" class=\"dataframe\">\n",
       "  <thead>\n",
       "    <tr style=\"text-align: right;\">\n",
       "      <th></th>\n",
       "      <th>A</th>\n",
       "      <th>B</th>\n",
       "      <th>C</th>\n",
       "    </tr>\n",
       "  </thead>\n",
       "  <tbody>\n",
       "    <tr>\n",
       "      <th>0</th>\n",
       "      <td>3</td>\n",
       "      <td>5</td>\n",
       "      <td>1</td>\n",
       "    </tr>\n",
       "    <tr>\n",
       "      <th>1</th>\n",
       "      <td>8</td>\n",
       "      <td>2</td>\n",
       "      <td>7</td>\n",
       "    </tr>\n",
       "    <tr>\n",
       "      <th>2</th>\n",
       "      <td>6</td>\n",
       "      <td>9</td>\n",
       "      <td>4</td>\n",
       "    </tr>\n",
       "    <tr>\n",
       "      <th>3</th>\n",
       "      <td>2</td>\n",
       "      <td>3</td>\n",
       "      <td>5</td>\n",
       "    </tr>\n",
       "    <tr>\n",
       "      <th>4</th>\n",
       "      <td>9</td>\n",
       "      <td>1</td>\n",
       "      <td>2</td>\n",
       "    </tr>\n",
       "  </tbody>\n",
       "</table>\n",
       "</div>"
      ],
      "text/plain": [
       "   A  B  C\n",
       "0  3  5  1\n",
       "1  8  2  7\n",
       "2  6  9  4\n",
       "3  2  3  5\n",
       "4  9  1  2"
      ]
     },
     "execution_count": 30,
     "metadata": {},
     "output_type": "execute_result"
    }
   ],
   "source": [
    "data_frame8"
   ]
  },
  {
   "cell_type": "code",
   "execution_count": 31,
   "id": "8bcd828d-f5e4-4dc8-84dd-b1b80a7b7ab7",
   "metadata": {},
   "outputs": [],
   "source": [
    "data_frame_result1 = data_frame8.where((data_frame8[\"A\"] > 5) & (data_frame8[\"B\"] < 10)).dropna()"
   ]
  },
  {
   "cell_type": "code",
   "execution_count": 32,
   "id": "afd4fcab-4bcc-4615-b7c2-2772474de4f2",
   "metadata": {},
   "outputs": [
    {
     "data": {
      "text/html": [
       "<div>\n",
       "<style scoped>\n",
       "    .dataframe tbody tr th:only-of-type {\n",
       "        vertical-align: middle;\n",
       "    }\n",
       "\n",
       "    .dataframe tbody tr th {\n",
       "        vertical-align: top;\n",
       "    }\n",
       "\n",
       "    .dataframe thead th {\n",
       "        text-align: right;\n",
       "    }\n",
       "</style>\n",
       "<table border=\"1\" class=\"dataframe\">\n",
       "  <thead>\n",
       "    <tr style=\"text-align: right;\">\n",
       "      <th></th>\n",
       "      <th>A</th>\n",
       "      <th>B</th>\n",
       "      <th>C</th>\n",
       "    </tr>\n",
       "  </thead>\n",
       "  <tbody>\n",
       "    <tr>\n",
       "      <th>1</th>\n",
       "      <td>8.0</td>\n",
       "      <td>2.0</td>\n",
       "      <td>7.0</td>\n",
       "    </tr>\n",
       "    <tr>\n",
       "      <th>2</th>\n",
       "      <td>6.0</td>\n",
       "      <td>9.0</td>\n",
       "      <td>4.0</td>\n",
       "    </tr>\n",
       "    <tr>\n",
       "      <th>4</th>\n",
       "      <td>9.0</td>\n",
       "      <td>1.0</td>\n",
       "      <td>2.0</td>\n",
       "    </tr>\n",
       "  </tbody>\n",
       "</table>\n",
       "</div>"
      ],
      "text/plain": [
       "     A    B    C\n",
       "1  8.0  2.0  7.0\n",
       "2  6.0  9.0  4.0\n",
       "4  9.0  1.0  2.0"
      ]
     },
     "execution_count": 32,
     "metadata": {},
     "output_type": "execute_result"
    }
   ],
   "source": [
    "data_frame_result1"
   ]
  },
  {
   "cell_type": "code",
   "execution_count": 33,
   "id": "90e5db71-c0aa-4513-8072-3a8347dbe780",
   "metadata": {},
   "outputs": [],
   "source": [
    "data_frame_result2 = data_frame8[(data_frame8[\"A\"] > 5) & (data_frame8[\"B\"] < 10)].dropna()"
   ]
  },
  {
   "cell_type": "code",
   "execution_count": 34,
   "id": "eb60c581-9084-41c6-83a5-f056f4216e98",
   "metadata": {},
   "outputs": [
    {
     "data": {
      "text/html": [
       "<div>\n",
       "<style scoped>\n",
       "    .dataframe tbody tr th:only-of-type {\n",
       "        vertical-align: middle;\n",
       "    }\n",
       "\n",
       "    .dataframe tbody tr th {\n",
       "        vertical-align: top;\n",
       "    }\n",
       "\n",
       "    .dataframe thead th {\n",
       "        text-align: right;\n",
       "    }\n",
       "</style>\n",
       "<table border=\"1\" class=\"dataframe\">\n",
       "  <thead>\n",
       "    <tr style=\"text-align: right;\">\n",
       "      <th></th>\n",
       "      <th>A</th>\n",
       "      <th>B</th>\n",
       "      <th>C</th>\n",
       "    </tr>\n",
       "  </thead>\n",
       "  <tbody>\n",
       "    <tr>\n",
       "      <th>1</th>\n",
       "      <td>8</td>\n",
       "      <td>2</td>\n",
       "      <td>7</td>\n",
       "    </tr>\n",
       "    <tr>\n",
       "      <th>2</th>\n",
       "      <td>6</td>\n",
       "      <td>9</td>\n",
       "      <td>4</td>\n",
       "    </tr>\n",
       "    <tr>\n",
       "      <th>4</th>\n",
       "      <td>9</td>\n",
       "      <td>1</td>\n",
       "      <td>2</td>\n",
       "    </tr>\n",
       "  </tbody>\n",
       "</table>\n",
       "</div>"
      ],
      "text/plain": [
       "   A  B  C\n",
       "1  8  2  7\n",
       "2  6  9  4\n",
       "4  9  1  2"
      ]
     },
     "execution_count": 34,
     "metadata": {},
     "output_type": "execute_result"
    }
   ],
   "source": [
    "data_frame_result2"
   ]
  },
  {
   "cell_type": "code",
   "execution_count": 35,
   "id": "5512f312-4128-474f-a738-21e70897cd72",
   "metadata": {},
   "outputs": [],
   "source": [
    "data_frame_result3 = data_frame8.query(\"A > 5 and B < 10\").dropna()"
   ]
  },
  {
   "cell_type": "code",
   "execution_count": 36,
   "id": "44908fb1-1c62-40c4-b476-3366d8782143",
   "metadata": {},
   "outputs": [
    {
     "data": {
      "text/html": [
       "<div>\n",
       "<style scoped>\n",
       "    .dataframe tbody tr th:only-of-type {\n",
       "        vertical-align: middle;\n",
       "    }\n",
       "\n",
       "    .dataframe tbody tr th {\n",
       "        vertical-align: top;\n",
       "    }\n",
       "\n",
       "    .dataframe thead th {\n",
       "        text-align: right;\n",
       "    }\n",
       "</style>\n",
       "<table border=\"1\" class=\"dataframe\">\n",
       "  <thead>\n",
       "    <tr style=\"text-align: right;\">\n",
       "      <th></th>\n",
       "      <th>A</th>\n",
       "      <th>B</th>\n",
       "      <th>C</th>\n",
       "    </tr>\n",
       "  </thead>\n",
       "  <tbody>\n",
       "    <tr>\n",
       "      <th>1</th>\n",
       "      <td>8</td>\n",
       "      <td>2</td>\n",
       "      <td>7</td>\n",
       "    </tr>\n",
       "    <tr>\n",
       "      <th>2</th>\n",
       "      <td>6</td>\n",
       "      <td>9</td>\n",
       "      <td>4</td>\n",
       "    </tr>\n",
       "    <tr>\n",
       "      <th>4</th>\n",
       "      <td>9</td>\n",
       "      <td>1</td>\n",
       "      <td>2</td>\n",
       "    </tr>\n",
       "  </tbody>\n",
       "</table>\n",
       "</div>"
      ],
      "text/plain": [
       "   A  B  C\n",
       "1  8  2  7\n",
       "2  6  9  4\n",
       "4  9  1  2"
      ]
     },
     "execution_count": 36,
     "metadata": {},
     "output_type": "execute_result"
    }
   ],
   "source": [
    "data_frame_result3"
   ]
  },
  {
   "cell_type": "code",
   "execution_count": null,
   "id": "a6247376-bde5-4f7a-9a95-8e4835b744d4",
   "metadata": {},
   "outputs": [],
   "source": []
  },
  {
   "cell_type": "code",
   "execution_count": null,
   "id": "f51c2f4b-49de-4b90-b90c-303d019a569a",
   "metadata": {},
   "outputs": [],
   "source": []
  },
  {
   "cell_type": "markdown",
   "id": "6f06ae01-43f5-416c-8daf-7d8c602d32d0",
   "metadata": {},
   "source": [
    "### Q9. Given a Pandas DataFrame df with a column 'Values', write a Python function to calculate the mean, median, and standard deviation of the values in the 'Values' column."
   ]
  },
  {
   "cell_type": "code",
   "execution_count": 37,
   "id": "efaab80e-d397-4f7a-b7cb-6fb7f2e1517f",
   "metadata": {},
   "outputs": [],
   "source": [
    "data_frame9 = pd.DataFrame({'Values': [10, 20, 30, 40, 50, 60, 70, 80, 90, 100, 60], \n",
    "                            'Name': [\"Alpha1\", \"Alpha2\", \"Alpha3\", \"Alpha4\", \"Alpha5\", \"Alpha6\", \"Alpha7\", \"Alpha8\", \"Alpha9\", \"Alpha10\", \"Alpha11\"]\n",
    "                           })"
   ]
  },
  {
   "cell_type": "code",
   "execution_count": 38,
   "id": "d091ce2e-96f9-4a3b-92a5-e99ff74be75a",
   "metadata": {},
   "outputs": [
    {
     "data": {
      "text/plain": [
       "55.45454545454545"
      ]
     },
     "execution_count": 38,
     "metadata": {},
     "output_type": "execute_result"
    }
   ],
   "source": [
    "# Calculating Mean\n",
    "data_frame9[\"Values\"].mean()"
   ]
  },
  {
   "cell_type": "code",
   "execution_count": 39,
   "id": "197dbdee-b5eb-4fbe-8927-c06665d0fa4a",
   "metadata": {},
   "outputs": [
    {
     "data": {
      "text/plain": [
       "60.0"
      ]
     },
     "execution_count": 39,
     "metadata": {},
     "output_type": "execute_result"
    }
   ],
   "source": [
    "# Calculating Median\n",
    "data_frame9[\"Values\"].median()"
   ]
  },
  {
   "cell_type": "code",
   "execution_count": 40,
   "id": "dca0e159-0c4e-4171-96cf-39bfa986e915",
   "metadata": {},
   "outputs": [
    {
     "data": {
      "text/plain": [
       "0    60\n",
       "Name: Values, dtype: int64"
      ]
     },
     "execution_count": 40,
     "metadata": {},
     "output_type": "execute_result"
    }
   ],
   "source": [
    "# Calculating Mode\n",
    "data_frame9[\"Values\"].mode()"
   ]
  },
  {
   "cell_type": "code",
   "execution_count": 41,
   "id": "46496bc3-252b-4ded-b9b3-60ae507dadd3",
   "metadata": {},
   "outputs": [
    {
     "data": {
      "text/plain": [
       "28.762349126466138"
      ]
     },
     "execution_count": 41,
     "metadata": {},
     "output_type": "execute_result"
    }
   ],
   "source": [
    "# Calculating Standard Deviation\n",
    "data_frame9[\"Values\"].std()"
   ]
  },
  {
   "cell_type": "code",
   "execution_count": null,
   "id": "39874698-7137-4f49-b687-2c73194e9de7",
   "metadata": {},
   "outputs": [],
   "source": []
  },
  {
   "cell_type": "code",
   "execution_count": null,
   "id": "a829a0d6-16ee-443c-90ba-489932aa3a30",
   "metadata": {},
   "outputs": [],
   "source": []
  },
  {
   "cell_type": "markdown",
   "id": "ab8ef867-c279-4197-a1a5-ca4be9f3bb91",
   "metadata": {},
   "source": [
    "### Q10. Given a Pandas DataFrame df with a column 'Sales' and a column 'Date', write a Python function to create a new column 'MovingAverage' that contains the moving average of the sales for the past 7 days for each row in the DataFrame. The moving average should be calculated using a window of size 7 and should include the current day."
   ]
  },
  {
   "cell_type": "code",
   "execution_count": 48,
   "id": "02530657-f8db-4975-a123-de96dde8af06",
   "metadata": {},
   "outputs": [
    {
     "name": "stdout",
     "output_type": "stream",
     "text": [
      "        Date  Sales  MovingAverage\n",
      "0 2023-01-01     10           10.0\n",
      "1 2023-01-02     15           12.5\n",
      "2 2023-01-03     20           15.0\n"
     ]
    }
   ],
   "source": [
    "def add_moving_average_column(df):\n",
    "    # Sort the DataFrame by 'Date' if not already sorted\n",
    "    df.sort_values('Date', inplace=True)\n",
    "\n",
    "    # Calculate the 7-day moving average\n",
    "    df['MovingAverage'] = df['Sales'].rolling(window=7, min_periods=1).mean()\n",
    "\n",
    "    return df\n",
    "\n",
    "df10 = pd.DataFrame({'Date': ['2022-01-01', '2022-01-02', '2022-01-31'],'Sales': [10, 15, 20]})\n",
    "\n",
    "# Convert 'Date' column to datetime if it's not already in datetime format\n",
    "df10['Date'] = pd.to_datetime(df['Date'])\n",
    "\n",
    "# Add the 'MovingAverage' column to the DataFrame\n",
    "df_with_ma = add_moving_average_column(df10)\n",
    "\n",
    "# Display the DataFrame with the new 'MovingAverage' column\n",
    "print(df_with_ma)"
   ]
  },
  {
   "cell_type": "code",
   "execution_count": null,
   "id": "b1f0680e-1cc7-405f-ad3d-b5b3f4b3dafa",
   "metadata": {},
   "outputs": [],
   "source": []
  },
  {
   "cell_type": "markdown",
   "id": "e8e1055e-ec18-4384-96f5-3d53fbfa9c64",
   "metadata": {},
   "source": [
    "### Q11. You have a Pandas DataFrame df with a column 'Date'. Write a Python function that creates a new column 'Weekday' in the DataFrame. The 'Weekday' column should contain the weekday name (e.g. Monday, Tuesday) corresponding to each date in the 'Date' column.\n",
    "\n",
    "#### For example, if df contains the following values:\n",
    "\n",
    "         Date\n",
    "\n",
    "0  2023-01-01\n",
    "\n",
    "1  2023-01-02\n",
    "\n",
    "2  2023-01-03\n",
    "\n",
    "3  2023-01-04\n",
    "\n",
    "4  2023-01-05\n",
    "\n",
    "#### Your function should create the following DataFrame:\n",
    "\n",
    "\n",
    "         Date    Weekday\n",
    "\n",
    "0  2023-01-01    Sunday\n",
    "\n",
    "1  2023-01-02     Monday\n",
    "\n",
    "2  2023-01-03    Tuesday\n",
    "\n",
    "3  2023-01-04    Wednesday\n",
    "\n",
    "4  2023-01-05    Thursday\n",
    "\n",
    "#### The function should return the modified DataFrame"
   ]
  },
  {
   "cell_type": "code",
   "execution_count": 49,
   "id": "1dd52c26-3375-4683-891e-26ca130e6916",
   "metadata": {},
   "outputs": [
    {
     "name": "stdout",
     "output_type": "stream",
     "text": [
      "        Date    Weekday\n",
      "0 2023-01-01     Sunday\n",
      "1 2023-01-02     Monday\n",
      "2 2023-01-03    Tuesday\n",
      "3 2023-01-04  Wednesday\n",
      "4 2023-01-05   Thursday\n"
     ]
    }
   ],
   "source": [
    "def add_weekday_column(df):\n",
    "    # Convert 'Date' column to datetime if it's not already in datetime format\n",
    "    df['Date'] = pd.to_datetime(df['Date'])\n",
    "    \n",
    "    # Add the 'Weekday' column with weekday names\n",
    "    df['Weekday'] = df['Date'].dt.strftime('%A')\n",
    "\n",
    "    return df\n",
    "\n",
    "df11 = pd.DataFrame({'Date': ['2023-01-01', '2023-01-02', '2023-01-03', '2023-01-04', '2023-01-05']})\n",
    "\n",
    "# Add the 'Weekday' column to the DataFrame\n",
    "df_with_weekday = add_weekday_column(df11)\n",
    "\n",
    "# Display the DataFrame with the new 'Weekday' column\n",
    "print(df_with_weekday)"
   ]
  },
  {
   "cell_type": "code",
   "execution_count": null,
   "id": "a84e9a08-6417-42c1-af6c-8c27c4d89245",
   "metadata": {},
   "outputs": [],
   "source": []
  },
  {
   "cell_type": "markdown",
   "id": "f2260812-5fb9-499b-8c50-848acef7d2b5",
   "metadata": {},
   "source": [
    "### Q12. Given a Pandas DataFrame df with a column 'Date' that contains timestamps, write a Python function to select all rows where the date is between '2023-01-01' and '2023-01-31'."
   ]
  },
  {
   "cell_type": "code",
   "execution_count": 56,
   "id": "850c92d5-0a89-4bc2-8f4e-7b3d0a3a87c7",
   "metadata": {},
   "outputs": [
    {
     "name": "stdout",
     "output_type": "stream",
     "text": [
      "         Date\n",
      "0  2023-01-01\n",
      "2  2023-01-03\n",
      "5  2023-01-06\n",
      "7  2023-01-08\n",
      "8  2023-01-09\n",
      "9  2023-01-10\n",
      "11 2023-01-12\n",
      "12 2023-01-13\n",
      "14 2023-01-15\n",
      "16 2023-01-17\n",
      "18 2023-01-19\n",
      "19 2023-01-20\n",
      "24 2023-01-25\n",
      "27 2023-01-28\n",
      "28 2023-01-29\n",
      "30 2023-01-31\n"
     ]
    }
   ],
   "source": [
    "def select_rows_between_dates(df):\n",
    "    # Convert 'Date' column to datetime if it's not already in datetime format\n",
    "    df['Date'] = pd.to_datetime(df['Date'])\n",
    "    \n",
    "    # Define the start and end dates\n",
    "    start_date = '2023-01-01'\n",
    "    end_date = '2023-01-31'\n",
    "    \n",
    "    # Use boolean indexing to select rows between the specified dates\n",
    "    selected_rows = df[(df['Date'] >= start_date) & (df['Date'] <= end_date)]\n",
    "\n",
    "    return selected_rows\n",
    "\n",
    "df12 = pd.DataFrame({'Date': ['2023-01-01', '2024-01-02', '2023-01-03', '2024-01-04', '2020-01-05', '2023-01-06', '2020-01-07', '2023-01-08', '2023-01-09', '2023-01-10',\n",
    "                             '2021-01-11', '2023-01-12', '2023-01-13', '2025-01-14', '2023-01-15', '2024-01-16', '2023-01-17', '2021-01-18', '2023-01-19', '2023-01-20',\n",
    "                             '2021-01-21', '2024-01-22', '2022-01-23', '2029-01-24', '2023-01-25', '2025-01-26', '2026-01-27', '2023-01-28', '2023-01-29', '2020-01-30', '2023-01-31']})\n",
    "\n",
    "selected_rows = select_rows_between_dates(df12)\n",
    "\n",
    "# Display the selected rows\n",
    "print(selected_rows)"
   ]
  },
  {
   "cell_type": "code",
   "execution_count": null,
   "id": "e6b548fd-cc6c-4b59-b91e-87b5a6ade047",
   "metadata": {},
   "outputs": [],
   "source": []
  },
  {
   "cell_type": "markdown",
   "id": "caec9f8f-e68f-42d9-a912-c54005da193e",
   "metadata": {},
   "source": [
    "### Q13. To use the basic functions of pandas, what is the first and foremost necessary library that needs to be imported?"
   ]
  },
  {
   "cell_type": "markdown",
   "id": "469a0a52-38c6-4888-98cb-12b2336345d4",
   "metadata": {},
   "source": [
    "#### To use the basic functions of pandas, the first and foremost library that needs to be imported is the pandas library itself. You typically import it with the conventional alias pd. Here's the common import statement:"
   ]
  },
  {
   "cell_type": "code",
   "execution_count": 57,
   "id": "69cea39a-7bdd-4cb9-a893-aa59bdcedbb2",
   "metadata": {},
   "outputs": [],
   "source": [
    "import pandas as pd"
   ]
  },
  {
   "cell_type": "code",
   "execution_count": null,
   "id": "6b2ff3bf-6e58-4dce-b931-fe14b1dfc2b7",
   "metadata": {},
   "outputs": [],
   "source": []
  }
 ],
 "metadata": {
  "kernelspec": {
   "display_name": "Python 3 (ipykernel)",
   "language": "python",
   "name": "python3"
  },
  "language_info": {
   "codemirror_mode": {
    "name": "ipython",
    "version": 3
   },
   "file_extension": ".py",
   "mimetype": "text/x-python",
   "name": "python",
   "nbconvert_exporter": "python",
   "pygments_lexer": "ipython3",
   "version": "3.10.8"
  }
 },
 "nbformat": 4,
 "nbformat_minor": 5
}
