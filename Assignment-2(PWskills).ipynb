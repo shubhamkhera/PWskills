{
 "cells": [
  {
   "cell_type": "markdown",
   "id": "0455f493-5f78-4286-ba3b-d522ce2b7bee",
   "metadata": {},
   "source": [
    "Q1. How do you comment code in Python? What are the different types of comments?\n"
   ]
  },
  {
   "cell_type": "markdown",
   "id": "fb97962c-0928-497a-9655-cad1227bd647",
   "metadata": {},
   "source": [
    " A1. There are two type of comments in python i.e.,\n",
    " - **Singleline Comments:** The comments start with '#' and only represents a single line. \n",
    " - **Multiline Comments** The comment starts and ends with ''' i.e., three top commas. \n",
    " \n",
    " The more of it reperesents in following code."
   ]
  },
  {
   "cell_type": "code",
   "execution_count": 8,
   "id": "fd6a2ba9-3f31-4831-92c9-26bd97d35172",
   "metadata": {},
   "outputs": [
    {
     "name": "stdout",
     "output_type": "stream",
     "text": [
      "Single Line comment\n",
      "Multiline Comment\n"
     ]
    }
   ],
   "source": [
    "# Single line Commnet:\n",
    "print(\"Single Line comment\")  # This particular hash shows the commented line\n",
    "\n",
    "# Single line commnet 2\n",
    "# Single line comment 3\n",
    "\n",
    "\n",
    "''' Multiline Comment Multiline Comment\n",
    "Multiline Comment Multiline Comment\n",
    "Multiline Comment Multiline Comment '''\n",
    "\n",
    "print(\"Multiline Comment\") "
   ]
  },
  {
   "cell_type": "markdown",
   "id": "fcdd0548-386b-4311-b41b-8ff924cca024",
   "metadata": {},
   "source": [
    "Q2. What are variables in Python? How do you declare and assign values to variables?\n"
   ]
  },
  {
   "cell_type": "markdown",
   "id": "86851b1a-e97f-4236-8035-68a046e3dab5",
   "metadata": {},
   "source": [
    "A2. In Python, variables are used to store data values. We can assign values to variables and use those variables later in the program.\n",
    "\n",
    "To declare and assign a value to a variable in Python, we simply write the variable name followed by the assignment operator (=) and the desired value.  example:"
   ]
  },
  {
   "cell_type": "code",
   "execution_count": 9,
   "id": "2ebd002e-023c-4441-b3dd-6dd3aaebb6b6",
   "metadata": {},
   "outputs": [],
   "source": [
    "# Variable declaration and assignment\n",
    "message = \"Shubham Khera\" #string\n",
    "number = 65 #integer\n",
    "pi = 3.14 #float\n",
    "is_true = True #boolean\n",
    "vallist = [1, 2, 4, \"string\"] #lsit"
   ]
  },
  {
   "cell_type": "markdown",
   "id": "ac199253-2c2c-4172-9ce8-6f22bb4fbaae",
   "metadata": {},
   "source": [
    "Q3. How do you convert one data type to another in Python?\n"
   ]
  },
  {
   "cell_type": "markdown",
   "id": "bd50f866-620d-494c-8e13-2ef530504fe9",
   "metadata": {},
   "source": [
    "A3. We use type casting to convert one datatype to another in python for example:"
   ]
  },
  {
   "cell_type": "code",
   "execution_count": 11,
   "id": "d7a19738-6bfa-438a-9332-e59f96c5c00a",
   "metadata": {},
   "outputs": [
    {
     "name": "stdout",
     "output_type": "stream",
     "text": [
      "newFloat: 30.0 has type of <class 'float'>\n",
      "newInt: 20 has type of <class 'int'>\n",
      "newString: 10.112 has type of <class 'str'>\n"
     ]
    }
   ],
   "source": [
    "intValue = 30\n",
    "floatValue = 10.112\n",
    "stringValue = \"20\"\n",
    "\n",
    "#TypeCasting\n",
    "\n",
    "newFloat = float(intValue)\n",
    "newInt = int(stringValue)\n",
    "newString = str(floatValue)\n",
    "\n",
    "print(f\"newFloat: {newFloat} has type of {type(newFloat)}\")\n",
    "print(f\"newInt: {newInt} has type of {type(newInt)}\")\n",
    "print(f\"newString: {newString} has type of {type(newString)}\")"
   ]
  },
  {
   "cell_type": "markdown",
   "id": "91566c18-6093-495a-8c45-e056d0070f28",
   "metadata": {},
   "source": [
    "Q4. How do you write and execute a Python script from the command line?\n"
   ]
  },
  {
   "cell_type": "markdown",
   "id": "9d84b11d-36d7-4c38-aa41-b20b48d45ad6",
   "metadata": {},
   "source": [
    "A4. There are several methods to do so few of the commands are as following:\n",
    "- **python script.py** {This will execute the code present in the script.py file}\n",
    "- **python** hit enter and then write the code like **print(\"Hello!\")** this will also prints the word \"Hello!\""
   ]
  },
  {
   "cell_type": "markdown",
   "id": "44084a35-1f59-4668-8159-cdf4833a37f9",
   "metadata": {},
   "source": [
    "Q5. Given a list my_list = [1, 2, 3, 4, 5], write the code to slice the list and obtain the sub-list [2, 3].\n"
   ]
  },
  {
   "cell_type": "markdown",
   "id": "4741b09d-043d-4895-8e4b-c0256536ceab",
   "metadata": {},
   "source": [
    "A5. Refer to below code to obtain a sub list"
   ]
  },
  {
   "cell_type": "code",
   "execution_count": 12,
   "id": "3c17a001-13a6-44aa-a4ae-5385b1fbb5b6",
   "metadata": {},
   "outputs": [
    {
     "name": "stdout",
     "output_type": "stream",
     "text": [
      "[2, 3]\n"
     ]
    }
   ],
   "source": [
    "my_list = [1,2,3,4,5]\n",
    "sub_list = my_list[1:3]\n",
    "print(sub_list)"
   ]
  },
  {
   "cell_type": "markdown",
   "id": "038d838a-fce4-4985-81da-7910319329f7",
   "metadata": {},
   "source": [
    "Q6. What is a complex number in mathematics, and how is it represented in Python?\n"
   ]
  },
  {
   "cell_type": "markdown",
   "id": "97b05a2a-1458-418f-ad2e-0e6aefacd183",
   "metadata": {},
   "source": [
    "A6. In mathematics, a complex number is a number of the form a + bi, where a and b are real numbers, and i is the imaginary unit"
   ]
  },
  {
   "cell_type": "code",
   "execution_count": 13,
   "id": "03e244d4-ba5f-456d-8729-c33d0fd95233",
   "metadata": {},
   "outputs": [
    {
     "name": "stdout",
     "output_type": "stream",
     "text": [
      "(4+7j)\n",
      "(-7+17j)\n"
     ]
    }
   ],
   "source": [
    "z1 = 3 + 2j\n",
    "z2 = 1 + 5j\n",
    "\n",
    "# Addition\n",
    "result = z1 + z2\n",
    "print(result)  # Output: (4+7j)\n",
    "\n",
    "# Multiplication\n",
    "result = z1 * z2\n",
    "print(result)  # Output: (-7+17j)"
   ]
  },
  {
   "cell_type": "code",
   "execution_count": 14,
   "id": "479b37d7-c715-4443-856c-44197ba97c8a",
   "metadata": {},
   "outputs": [],
   "source": [
    "z1 = 3 + 2j\n",
    "z2 = -1.5 + 4j\n",
    "z3 = complex(2, -1)"
   ]
  },
  {
   "cell_type": "code",
   "execution_count": 15,
   "id": "e5565701-993e-4db0-8118-0da1467c84c8",
   "metadata": {},
   "outputs": [
    {
     "data": {
      "text/plain": [
       "(3+2j)"
      ]
     },
     "execution_count": 15,
     "metadata": {},
     "output_type": "execute_result"
    }
   ],
   "source": [
    "z1"
   ]
  },
  {
   "cell_type": "markdown",
   "id": "29fdbcd7-5387-499e-8072-de03c0f835e1",
   "metadata": {},
   "source": [
    "Q7. What is the correct way to declare a variable named age and assign the value 25 to it?\n"
   ]
  },
  {
   "cell_type": "code",
   "execution_count": 16,
   "id": "aca86981-7bf2-4b26-9beb-9aba7a12afc8",
   "metadata": {},
   "outputs": [],
   "source": [
    "#variable\n",
    "age = 25"
   ]
  },
  {
   "cell_type": "markdown",
   "id": "b00e1ecc-ec8f-4e63-aa16-47cb601d86db",
   "metadata": {},
   "source": [
    "Q8. Declare a variable named price and assign the value 9.99 to it. What data type does this variable\n",
    "belong to?\n"
   ]
  },
  {
   "cell_type": "code",
   "execution_count": 17,
   "id": "d983cb39-1830-4d2c-88c2-6ebe64f709a7",
   "metadata": {},
   "outputs": [],
   "source": [
    "#Variable named Price\n",
    "price = 9.99 # it belongs to float datatype"
   ]
  },
  {
   "cell_type": "markdown",
   "id": "3cdfb851-c5f5-40a7-b525-6a7a4d79c597",
   "metadata": {},
   "source": [
    "Q9. Create a variable named name and assign your full name to it as a string. How would you print the\n",
    "value of this variable?\n"
   ]
  },
  {
   "cell_type": "code",
   "execution_count": 18,
   "id": "248d7401-345e-458f-93a1-59d754823c21",
   "metadata": {},
   "outputs": [
    {
     "name": "stdout",
     "output_type": "stream",
     "text": [
      "Shubham Khera\n"
     ]
    }
   ],
   "source": [
    "# variable named name assigned a new full name\n",
    "name = \"Shubham Khera\"\n",
    "print(name)"
   ]
  },
  {
   "cell_type": "markdown",
   "id": "0c0f473f-7c98-4f6a-8143-551b2d4b6180",
   "metadata": {},
   "source": [
    "Q10. Given the string \"Hello, World!\", extract the substring \"World\".\n"
   ]
  },
  {
   "cell_type": "code",
   "execution_count": 27,
   "id": "76c6864f-cf0a-4ace-9a0b-709ca0aae9ae",
   "metadata": {},
   "outputs": [
    {
     "ename": "AttributeError",
     "evalue": "'list' object has no attribute 'split'",
     "output_type": "error",
     "traceback": [
      "\u001b[0;31m---------------------------------------------------------------------------\u001b[0m",
      "\u001b[0;31mAttributeError\u001b[0m                            Traceback (most recent call last)",
      "Cell \u001b[0;32mIn[27], line 2\u001b[0m\n\u001b[1;32m      1\u001b[0m word \u001b[38;5;241m=\u001b[39m \u001b[38;5;124m\"\u001b[39m\u001b[38;5;124mHello, World!\u001b[39m\u001b[38;5;124m\"\u001b[39m\n\u001b[0;32m----> 2\u001b[0m wordList \u001b[38;5;241m=\u001b[39m \u001b[43mword\u001b[49m\u001b[38;5;241;43m.\u001b[39;49m\u001b[43msplit\u001b[49m\u001b[43m(\u001b[49m\u001b[38;5;124;43m\"\u001b[39;49m\u001b[38;5;124;43m,\u001b[39;49m\u001b[38;5;124;43m\"\u001b[39;49m\u001b[43m)\u001b[49m\u001b[38;5;241;43m.\u001b[39;49m\u001b[43msplit\u001b[49m(\u001b[38;5;124m\"\u001b[39m\u001b[38;5;124m!\u001b[39m\u001b[38;5;124m\"\u001b[39m)\n",
      "\u001b[0;31mAttributeError\u001b[0m: 'list' object has no attribute 'split'"
     ]
    }
   ],
   "source": [
    "word = \"Hello, World!\"\n",
    "wordList = word.split(\",\").split(\"!\")"
   ]
  },
  {
   "cell_type": "code",
   "execution_count": 24,
   "id": "cad1ec86-a613-4c18-b013-92c407f7c32a",
   "metadata": {},
   "outputs": [
    {
     "data": {
      "text/plain": [
       "['World', '']"
      ]
     },
     "execution_count": 24,
     "metadata": {},
     "output_type": "execute_result"
    }
   ],
   "source": [
    "wordList[1].split('!')"
   ]
  },
  {
   "cell_type": "markdown",
   "id": "65b07920-e4a8-4df2-8fb9-b89b162255c3",
   "metadata": {},
   "source": [
    "Q11. Create a variable named \"is_student\" and assign it a boolean value indicating whether you are\n",
    "currently a student or not."
   ]
  },
  {
   "cell_type": "code",
   "execution_count": null,
   "id": "a2257a5b-8d73-4aaf-a5d5-cfad76860a99",
   "metadata": {},
   "outputs": [],
   "source": []
  }
 ],
 "metadata": {
  "kernelspec": {
   "display_name": "Python 3 (ipykernel)",
   "language": "python",
   "name": "python3"
  },
  "language_info": {
   "codemirror_mode": {
    "name": "ipython",
    "version": 3
   },
   "file_extension": ".py",
   "mimetype": "text/x-python",
   "name": "python",
   "nbconvert_exporter": "python",
   "pygments_lexer": "ipython3",
   "version": "3.10.8"
  }
 },
 "nbformat": 4,
 "nbformat_minor": 5
}
