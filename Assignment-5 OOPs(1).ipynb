{
 "cells": [
  {
   "cell_type": "markdown",
   "id": "d74c794d-a111-46ba-b51c-5cf1f0f09d7b",
   "metadata": {},
   "source": [
    "### Q1. Explain Class and Object with respect to Object-Oriented Programming. Give a suitable example."
   ]
  },
  {
   "cell_type": "markdown",
   "id": "41b56323-e223-46ae-861d-dc4592f16803",
   "metadata": {},
   "source": [
    "In object-oriented programming (OOP), a class is a blueprint or template for creating objects. It defines a set of attributes (properties) and methods (functions) that the objects instantiated from the class will have. A class acts as a blueprint for creating objects, and it encapsulates the data and behavior of those objects.\n",
    "\n",
    "An object, on the other hand, is an instance of a class. It represents a real-world entity and combines the data and functionality defined in the class. Objects are instances of classes, and each object has its own unique state (values of attributes) and behavior (methods).\n",
    "\n",
    "Here's a simple example in Python to illustrate the concepts of class and object:"
   ]
  },
  {
   "cell_type": "code",
   "execution_count": 1,
   "id": "a99b698e-c94f-4cfd-a1d0-0f4f84109f72",
   "metadata": {},
   "outputs": [
    {
     "name": "stdout",
     "output_type": "stream",
     "text": [
      "Make: Toyota, Model: Camry\n",
      "Make: Honda, Model: Civic\n",
      "Total number of cars: 2\n"
     ]
    }
   ],
   "source": [
    "# Define a class named 'Car'\n",
    "class Car:\n",
    "    # Class attribute\n",
    "    car_count = 0\n",
    "    \n",
    "    # Constructor method (initialize object)\n",
    "    def __init__(self, make, model):\n",
    "        # Instance attributes\n",
    "        self.make = make\n",
    "        self.model = model\n",
    "        # Increment the class attribute 'car_count' for each new object\n",
    "        Car.car_count += 1\n",
    "    \n",
    "    # Method to display information about the car\n",
    "    def display_info(self):\n",
    "        print(f\"Make: {self.make}, Model: {self.model}\")\n",
    "\n",
    "# Create instances (objects) of the 'Car' class\n",
    "car1 = Car(\"Toyota\", \"Camry\")\n",
    "car2 = Car(\"Honda\", \"Civic\")\n",
    "\n",
    "# Accessing attributes and methods of objects\n",
    "car1.display_info()  # Output: Make: Toyota, Model: Camry\n",
    "car2.display_info()  # Output: Make: Honda, Model: Civic\n",
    "\n",
    "# Accessing class attribute\n",
    "print(f\"Total number of cars: {Car.car_count}\")  # Output: Total number of cars: 2"
   ]
  },
  {
   "cell_type": "markdown",
   "id": "64c09c8f-b2b5-49e0-bd2e-e327fa369657",
   "metadata": {},
   "source": [
    "In this example, Car is a class that defines the blueprint for a car. The car1 and car2 objects are instances of the Car class, each representing a specific car with its make and model. The display_info method is a behavior associated with the Car class, allowing objects to display information about themselves. The car_count is a class attribute that keeps track of the total number of cars instantiated from the class."
   ]
  },
  {
   "cell_type": "code",
   "execution_count": null,
   "id": "34ff97d0-a7e1-4414-bb07-02b0750b900d",
   "metadata": {},
   "outputs": [],
   "source": []
  },
  {
   "cell_type": "markdown",
   "id": "e493d286-af50-497c-b071-9d61397dfb0d",
   "metadata": {},
   "source": [
    "### Q2. Name the four pillars of OOPs."
   ]
  },
  {
   "cell_type": "markdown",
   "id": "6176f58c-a343-47bd-bf23-9017d30a9278",
   "metadata": {},
   "source": [
    "1. Encapsulation\n",
    "2. Abstraction\n",
    "3. Polymorphism\n",
    "4. Inheritance"
   ]
  },
  {
   "cell_type": "code",
   "execution_count": null,
   "id": "468e658e-b7d6-4567-b50e-244d90f1c2d7",
   "metadata": {},
   "outputs": [],
   "source": []
  },
  {
   "cell_type": "markdown",
   "id": "580593cd-6ea1-469f-b1b5-b78ec2e15ea8",
   "metadata": {},
   "source": [
    "### Q3. Explain why the __init__() function is used. Give a suitable example."
   ]
  },
  {
   "cell_type": "markdown",
   "id": "565dd887-cbee-4ff3-95fc-81ba1e2c5f80",
   "metadata": {},
   "source": [
    "The __init__() function in Python is a special method that is automatically called when an object is created from a class. It stands for \"initialize\" and is used to initialize the attributes of the object with values provided as arguments during the object's instantiation. This method is commonly known as the constructor.\n",
    "\n",
    "Here's why the __init__() function is used:\n",
    "\n",
    "1. Initialization: It allows you to initialize the attributes of an object with default values or values provided during the object's creation. This helps set up the initial state of the object.\n",
    "\n",
    "2. Attribute Assignment: The __init__() method is where you assign values to the attributes of the object. This is essential for giving the object its initial properties.\n",
    "\n",
    "Here's a simple example to illustrate the use of the __init__() method:"
   ]
  },
  {
   "cell_type": "code",
   "execution_count": 7,
   "id": "a094d761-772b-488e-b3e6-5225ebb0b374",
   "metadata": {},
   "outputs": [
    {
     "name": "stdout",
     "output_type": "stream",
     "text": [
      " Name: Alice \n",
      " Age: 25\n"
     ]
    }
   ],
   "source": [
    "class Person:\n",
    "    # The __init__ method with two parameters: name and age\n",
    "    # Constructor method (initialize object)\n",
    "    def __init__(self, name, age):\n",
    "        # Assigning values to attributes\n",
    "        self.name = name\n",
    "        self.age = age\n",
    "\n",
    "    # A method to display information about the person\n",
    "    def display_info(self):\n",
    "        print(f\" Name: {self.name} \\n Age: {self.age}\")\n",
    "\n",
    "# Creating an instance (object) of the Person class\n",
    "person_obj = Person(\"Alice\", 25)\n",
    "\n",
    "# Accessing the attributes and method of the object\n",
    "person_obj.display_info()  # Output: Name: Alice, Age: 25"
   ]
  },
  {
   "cell_type": "code",
   "execution_count": null,
   "id": "91f07c7c-ddee-48c9-8f8f-ddb77cadc17c",
   "metadata": {},
   "outputs": [],
   "source": []
  },
  {
   "cell_type": "code",
   "execution_count": null,
   "id": "dff31292-5252-4fca-846b-b1593779cc80",
   "metadata": {},
   "outputs": [],
   "source": []
  },
  {
   "cell_type": "markdown",
   "id": "f79ad9ee-6b66-4c38-97e4-b5b7b0c68485",
   "metadata": {},
   "source": [
    "### Q4. Why self is used in OOPs?"
   ]
  },
  {
   "cell_type": "markdown",
   "id": "f94b773f-8995-48f5-b098-1405f91f12c4",
   "metadata": {},
   "source": [
    "In object-oriented programming (OOP), self is used as a reference to the instance of a class. It serves as the first parameter in instance methods, representing the object on which the method is called. This convention enables access to instance-specific attributes and ensures that methods operate on the correct object's data. By using self, OOP languages like Python maintain a clear association between the instance and its methods, promoting code readability, encapsulation, and the effective organization of object-oriented code."
   ]
  },
  {
   "cell_type": "code",
   "execution_count": null,
   "id": "a8d0d870-20c6-45e3-9c43-b228d026bf32",
   "metadata": {},
   "outputs": [],
   "source": []
  },
  {
   "cell_type": "markdown",
   "id": "1759aaa5-89f2-454a-bad5-746caa6d6730",
   "metadata": {},
   "source": [
    "### Q5. What is inheritance? Give an example for each type of inheritance."
   ]
  },
  {
   "cell_type": "markdown",
   "id": "4a3bcfa4-fea9-4ad8-9adb-9f37a26c0c2c",
   "metadata": {},
   "source": [
    "\n",
    "Inheritance is a fundamental concept in object-oriented programming (OOP) where a new class (subclass or derived class) inherits attributes and behaviors from an existing class (superclass or base class). This facilitates code reuse and the creation of a hierarchy of classes.\n",
    "\n",
    "There are different types of inheritance:"
   ]
  },
  {
   "cell_type": "markdown",
   "id": "301d020a-963b-4fc1-85d8-98b52275235a",
   "metadata": {},
   "source": [
    "1. Single Inheritance:"
   ]
  },
  {
   "cell_type": "code",
   "execution_count": 8,
   "id": "bf921c9e-73a1-41f0-a21f-77d606e028e3",
   "metadata": {},
   "outputs": [
    {
     "name": "stdout",
     "output_type": "stream",
     "text": [
      "Animal speaks\n",
      "Dog barks\n"
     ]
    }
   ],
   "source": [
    "class Animal:\n",
    "    def speak(self):\n",
    "        print(\"Animal speaks\")\n",
    "\n",
    "class Dog(Animal):\n",
    "    def bark(self):\n",
    "        print(\"Dog barks\")\n",
    "\n",
    "# Creating an instance of Dog\n",
    "my_dog = Dog()\n",
    "my_dog.speak()  # Output: Animal speaks\n",
    "my_dog.bark()   # Output: Dog barks"
   ]
  },
  {
   "cell_type": "markdown",
   "id": "61a3a90c-a228-42f3-917c-06241461c0a2",
   "metadata": {},
   "source": [
    "2. Multiple Inheritance:"
   ]
  },
  {
   "cell_type": "code",
   "execution_count": 9,
   "id": "06c9a204-db67-4d86-833f-65e05729042e",
   "metadata": {},
   "outputs": [
    {
     "name": "stdout",
     "output_type": "stream",
     "text": [
      "Method A from class A\n",
      "Method B from class B\n",
      "Method C from class C\n"
     ]
    }
   ],
   "source": [
    "class A:\n",
    "    def method_A(self):\n",
    "        print(\"Method A from class A\")\n",
    "\n",
    "class B:\n",
    "    def method_B(self):\n",
    "        print(\"Method B from class B\")\n",
    "\n",
    "class C(A, B):\n",
    "    def method_C(self):\n",
    "        print(\"Method C from class C\")\n",
    "\n",
    "# Creating an instance of C\n",
    "my_instance = C()\n",
    "my_instance.method_A()  # Output: Method A from class A\n",
    "my_instance.method_B()  # Output: Method B from class B\n",
    "my_instance.method_C()  # Output: Method C from class C"
   ]
  },
  {
   "cell_type": "markdown",
   "id": "07efcad6-a02d-48c1-9617-2eca03fb0aef",
   "metadata": {},
   "source": [
    "3. Multilevel Inheritance:"
   ]
  },
  {
   "cell_type": "code",
   "execution_count": 10,
   "id": "40736b80-259c-4d27-b942-9d881ed54765",
   "metadata": {},
   "outputs": [
    {
     "name": "stdout",
     "output_type": "stream",
     "text": [
      "Engine started\n",
      "Car is moving\n",
      "Sports car is racing\n"
     ]
    }
   ],
   "source": [
    "class Vehicle:\n",
    "    def start_engine(self):\n",
    "        print(\"Engine started\")\n",
    "\n",
    "class Car(Vehicle):\n",
    "    def drive(self):\n",
    "        print(\"Car is moving\")\n",
    "\n",
    "class SportsCar(Car):\n",
    "    def race(self):\n",
    "        print(\"Sports car is racing\")\n",
    "\n",
    "# Creating an instance of SportsCar\n",
    "my_sports_car = SportsCar()\n",
    "my_sports_car.start_engine()  # Output: Engine started\n",
    "my_sports_car.drive()        # Output: Car is moving\n",
    "my_sports_car.race()         # Output: Sports car is racing"
   ]
  },
  {
   "cell_type": "code",
   "execution_count": null,
   "id": "dcb2937c-2ec9-438d-9ce6-b069677b47a2",
   "metadata": {},
   "outputs": [],
   "source": []
  },
  {
   "cell_type": "code",
   "execution_count": null,
   "id": "456b9236-4285-40ee-9a42-bee0d3558937",
   "metadata": {},
   "outputs": [],
   "source": []
  }
 ],
 "metadata": {
  "kernelspec": {
   "display_name": "Python 3 (ipykernel)",
   "language": "python",
   "name": "python3"
  },
  "language_info": {
   "codemirror_mode": {
    "name": "ipython",
    "version": 3
   },
   "file_extension": ".py",
   "mimetype": "text/x-python",
   "name": "python",
   "nbconvert_exporter": "python",
   "pygments_lexer": "ipython3",
   "version": "3.10.8"
  }
 },
 "nbformat": 4,
 "nbformat_minor": 5
}
