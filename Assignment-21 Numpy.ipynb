{
 "cells": [
  {
   "cell_type": "markdown",
   "id": "35205e54-73b1-47b5-beca-2245d3eb4651",
   "metadata": {},
   "source": [
    "### Consider the below code to answer further questions:"
   ]
  },
  {
   "cell_type": "code",
   "execution_count": 16,
   "id": "73fc41f8-0988-4589-b851-59962e3f723d",
   "metadata": {},
   "outputs": [],
   "source": [
    "import numpy as np\n",
    "list_ = [ '1' , '2' , '3' , '4' , '5' ]\n",
    "array_list = np.array(object = list_)"
   ]
  },
  {
   "cell_type": "code",
   "execution_count": 17,
   "id": "3b3fde8f-7da6-4a5b-8b9d-c6d04a075f7a",
   "metadata": {},
   "outputs": [
    {
     "data": {
      "text/plain": [
       "array(['1', '2', '3', '4', '5'], dtype='<U1')"
      ]
     },
     "execution_count": 17,
     "metadata": {},
     "output_type": "execute_result"
    }
   ],
   "source": [
    "array_list"
   ]
  },
  {
   "cell_type": "markdown",
   "id": "f0ae4e67-de87-4f2e-9b6d-0c5b692548ef",
   "metadata": {},
   "source": [
    "### Q1. Is there any difference in the data type of variables list_ and array_list? If there is then write a code to print the data types of both the variables."
   ]
  },
  {
   "cell_type": "code",
   "execution_count": 18,
   "id": "c4e58adc-de3e-4e7a-9d7e-7b5d4d872ac9",
   "metadata": {},
   "outputs": [
    {
     "name": "stdout",
     "output_type": "stream",
     "text": [
      "<class 'str'>\n",
      "<class 'numpy.str_'>\n"
     ]
    }
   ],
   "source": [
    "print(type(list_[0]))\n",
    "print(type(array_list[0]))"
   ]
  },
  {
   "cell_type": "code",
   "execution_count": 19,
   "id": "c563d865-4274-4109-ab5d-77064e2d8851",
   "metadata": {},
   "outputs": [
    {
     "name": "stdout",
     "output_type": "stream",
     "text": [
      "<class 'list'>\n",
      "<class 'numpy.ndarray'>\n"
     ]
    }
   ],
   "source": [
    "print(type(list_))\n",
    "print(type(array_list))"
   ]
  },
  {
   "cell_type": "markdown",
   "id": "dd3f4733-12a0-4315-8730-c38c5715ed35",
   "metadata": {},
   "source": [
    "As we can see in above code the element in the list and the numpy array have the same datatype i.e., string where as the variables has different datatype i.e., list and numpy ndarray respectively."
   ]
  },
  {
   "cell_type": "markdown",
   "id": "fe4f6ae1-f84c-435b-8b2d-ea844ddfea95",
   "metadata": {},
   "source": [
    "### Q2. Write a code to print the data type of each and every element of both the variables list_ and array_list."
   ]
  },
  {
   "cell_type": "code",
   "execution_count": 20,
   "id": "41f2d166-ae05-4149-87ba-9781b19fd1f9",
   "metadata": {},
   "outputs": [
    {
     "name": "stdout",
     "output_type": "stream",
     "text": [
      "Data Type of 1: <class 'str'>\n",
      "Data Type of 2: <class 'str'>\n",
      "Data Type of 3: <class 'str'>\n",
      "Data Type of 4: <class 'str'>\n",
      "Data Type of 5: <class 'str'>\n"
     ]
    }
   ],
   "source": [
    "for i in list_:\n",
    "    print(f\"Data Type of {i}: {type(i)}\")"
   ]
  },
  {
   "cell_type": "code",
   "execution_count": 21,
   "id": "fad47308-f02a-4e00-993c-0d53998aaa48",
   "metadata": {},
   "outputs": [
    {
     "name": "stdout",
     "output_type": "stream",
     "text": [
      "Data Type of 1: <class 'numpy.str_'>\n",
      "Data Type of 2: <class 'numpy.str_'>\n",
      "Data Type of 3: <class 'numpy.str_'>\n",
      "Data Type of 4: <class 'numpy.str_'>\n",
      "Data Type of 5: <class 'numpy.str_'>\n"
     ]
    }
   ],
   "source": [
    "for i in array_list:\n",
    "    print(f\"Data Type of {i}: {type(i)}\")"
   ]
  },
  {
   "cell_type": "markdown",
   "id": "2effa0f3-6868-4924-b157-c978211d031d",
   "metadata": {},
   "source": [
    "- We define a list (list_) containing elements of different data types.\n",
    "- We also define an array (array_list) using NumPy's np.array() function with the same elements as the list.\n",
    "- We iterate over each element in both the list and the array using a for loop.\n",
    "- Inside the loop, we use the type() function to print the data type of each element."
   ]
  },
  {
   "cell_type": "markdown",
   "id": "7f60572f-5896-4303-8c2f-85f17913b296",
   "metadata": {},
   "source": [
    "### Q3. Considering the following changes in the variable, array_list:\n"
   ]
  },
  {
   "cell_type": "code",
   "execution_count": 29,
   "id": "48396a85-a3f0-4fe7-8531-ea0564900de1",
   "metadata": {},
   "outputs": [],
   "source": [
    "array_list = np.array(object = list_, dtype = int)"
   ]
  },
  {
   "cell_type": "markdown",
   "id": "3b2257e7-5e81-4c51-9192-535c2b6db5b6",
   "metadata": {},
   "source": [
    "### Will there be any difference in the data type of the elements present in both the variables, list_ and arra_list? If so then print the data types of each and every element present in both the variables, list_ and arra_list."
   ]
  },
  {
   "cell_type": "markdown",
   "id": "7a3a2959-4623-4048-9cb8-ad91903af29d",
   "metadata": {},
   "source": [
    "#### Yes, there will be a difference in the data types of the elements present in the variables list_ and array_list. This is because NumPy arrays can only hold elements of a single data type, while lists can hold elements of different data types."
   ]
  },
  {
   "cell_type": "code",
   "execution_count": 30,
   "id": "33dcd735-f945-4763-aa20-3e52ebe29e08",
   "metadata": {},
   "outputs": [
    {
     "name": "stdout",
     "output_type": "stream",
     "text": [
      "\n",
      "\n",
      "Data type of list_:\n",
      "Data Type of 1: <class 'str'>\n",
      "Data Type of 2: <class 'str'>\n",
      "Data Type of 3: <class 'str'>\n",
      "Data Type of 4: <class 'str'>\n",
      "Data Type of 5: <class 'str'>\n",
      "\n",
      "\n",
      "Data type of array_list:\n",
      "Data Type of 1: <class 'numpy.int64'>\n",
      "Data Type of 2: <class 'numpy.int64'>\n",
      "Data Type of 3: <class 'numpy.int64'>\n",
      "Data Type of 4: <class 'numpy.int64'>\n",
      "Data Type of 5: <class 'numpy.int64'>\n",
      "\n",
      "\n",
      "\n"
     ]
    }
   ],
   "source": [
    "print(\"\\n\\nData type of list_:\")\n",
    "for i in list_:\n",
    "    print(f\"Data Type of {i}: {type(i)}\")\n",
    "print(\"\\n\\nData type of array_list:\")\n",
    "for i in array_list:\n",
    "    print(f\"Data Type of {i}: {type(i)}\")\n",
    "print(\"\\n\\n\")"
   ]
  },
  {
   "cell_type": "markdown",
   "id": "c7c25b54-36a8-4734-84c5-3d512a6208bf",
   "metadata": {},
   "source": [
    "### Consider the below code to answer further questions:"
   ]
  },
  {
   "cell_type": "code",
   "execution_count": 31,
   "id": "74a5ecdc-0068-4699-948e-fa443f5735f8",
   "metadata": {},
   "outputs": [],
   "source": [
    "import numpy as np\n",
    "num_list = [ [ 1 , 2 , 3 ] , [ 4 , 5 , 6 ] ]\n",
    "num_array = np.array(object = num_list)"
   ]
  },
  {
   "cell_type": "markdown",
   "id": "873c8ab1-ff99-4219-ae33-98e026fd80b3",
   "metadata": {},
   "source": [
    "### Q4. Write a code to find the following characteristics of variable, num_array:\n",
    "### (i) shape\n",
    "### (ii) size"
   ]
  },
  {
   "cell_type": "code",
   "execution_count": 35,
   "id": "da8e44ba-2b4f-4da4-8338-069fa3ce208b",
   "metadata": {},
   "outputs": [
    {
     "data": {
      "text/plain": [
       "(2, 3)"
      ]
     },
     "execution_count": 35,
     "metadata": {},
     "output_type": "execute_result"
    }
   ],
   "source": [
    "# shape of num_array\n",
    "num_array.shape"
   ]
  },
  {
   "cell_type": "code",
   "execution_count": 36,
   "id": "0447b8be-fe69-4365-8c17-a0fd9de4d938",
   "metadata": {},
   "outputs": [
    {
     "data": {
      "text/plain": [
       "6"
      ]
     },
     "execution_count": 36,
     "metadata": {},
     "output_type": "execute_result"
    }
   ],
   "source": [
    "# size of num_array\n",
    "num_array.size"
   ]
  },
  {
   "cell_type": "markdown",
   "id": "837afc39-da59-4430-ad50-4388549e47d7",
   "metadata": {},
   "source": [
    "### Q5. Write a code to create numpy array of 3*3 matrix containing zeros only, using a numpy array creation function.\n",
    "#### [Hint: The size of the array will be 9 and the shape will be (3,3).]"
   ]
  },
  {
   "cell_type": "code",
   "execution_count": 49,
   "id": "a26b3e97-c6cd-4884-aae7-c4e2b845184d",
   "metadata": {},
   "outputs": [],
   "source": [
    "#Creating array with 9 and with shape 3*3 only with zeros \n",
    "zero_array = np.zeros((3,3), dtype=int)"
   ]
  },
  {
   "cell_type": "code",
   "execution_count": 50,
   "id": "eb3501ff-6205-4474-98bd-c0920517580e",
   "metadata": {},
   "outputs": [
    {
     "data": {
      "text/plain": [
       "array([[0, 0, 0],\n",
       "       [0, 0, 0],\n",
       "       [0, 0, 0]])"
      ]
     },
     "execution_count": 50,
     "metadata": {},
     "output_type": "execute_result"
    }
   ],
   "source": [
    "# array\n",
    "zero_array"
   ]
  },
  {
   "cell_type": "code",
   "execution_count": 51,
   "id": "b874fe61-05b7-4e9b-b8da-169d39e29a52",
   "metadata": {},
   "outputs": [
    {
     "data": {
      "text/plain": [
       "(3, 3)"
      ]
     },
     "execution_count": 51,
     "metadata": {},
     "output_type": "execute_result"
    }
   ],
   "source": [
    "# shape of array\n",
    "zero_array.shape"
   ]
  },
  {
   "cell_type": "code",
   "execution_count": 52,
   "id": "35e1b22a-2ceb-4e51-8cf7-9bec1c9a8efe",
   "metadata": {},
   "outputs": [
    {
     "data": {
      "text/plain": [
       "9"
      ]
     },
     "execution_count": 52,
     "metadata": {},
     "output_type": "execute_result"
    }
   ],
   "source": [
    "#size of array\n",
    "zero_array.size"
   ]
  },
  {
   "cell_type": "markdown",
   "id": "57ca30ea-5f72-4eec-a78b-923619e5f1d0",
   "metadata": {},
   "source": [
    "### Q6. Create an identity matrix of shape (5,5) using numpy functions?\n",
    "#### [Hint: An identity matrix is a matrix containing 1 diagonally and other elements will be 0.]"
   ]
  },
  {
   "cell_type": "code",
   "execution_count": null,
   "id": "e99b9bd3-49b3-4941-83d3-59296830475d",
   "metadata": {},
   "outputs": [],
   "source": []
  },
  {
   "cell_type": "code",
   "execution_count": null,
   "id": "12990dec-e714-4fc0-9166-9639ef646c2c",
   "metadata": {},
   "outputs": [],
   "source": []
  },
  {
   "cell_type": "code",
   "execution_count": null,
   "id": "1e5fdadf-873e-478e-9048-01698db9f6b2",
   "metadata": {},
   "outputs": [],
   "source": []
  }
 ],
 "metadata": {
  "kernelspec": {
   "display_name": "Python 3 (ipykernel)",
   "language": "python",
   "name": "python3"
  },
  "language_info": {
   "codemirror_mode": {
    "name": "ipython",
    "version": 3
   },
   "file_extension": ".py",
   "mimetype": "text/x-python",
   "name": "python",
   "nbconvert_exporter": "python",
   "pygments_lexer": "ipython3",
   "version": "3.10.8"
  }
 },
 "nbformat": 4,
 "nbformat_minor": 5
}
