{
 "cells": [
  {
   "cell_type": "markdown",
   "id": "ebf9c953-fa67-4ee9-b9a6-3dbbcfa7d7c4",
   "metadata": {},
   "source": [
    "### Q1. What is Abstraction in OOps? Explain with an example."
   ]
  },
  {
   "cell_type": "markdown",
   "id": "dd1a53e9-d353-492a-a467-c2bef997a7bb",
   "metadata": {},
   "source": [
    "Abstraction in object-oriented programming (OOP) is the process of simplifying complex systems by modeling classes based on essential properties and behaviors. It involves emphasizing relevant details while suppressing unnecessary information. Abstraction allows programmers to focus on what an object does rather than how it achieves its functionality.\n",
    "\n",
    "Example of Abstraction:\n",
    "\n",
    "Consider a Shape class representing various geometric shapes. We can create subclasses such as Circle and Rectangle that inherit from the Shape class. Each subclass can provide its own implementation of the area() method, encapsulating the specific logic for calculating the area of that shape."
   ]
  },
  {
   "cell_type": "code",
   "execution_count": 8,
   "id": "c915b382-1566-4f95-a529-7a49ff2978e0",
   "metadata": {},
   "outputs": [
    {
     "name": "stdout",
     "output_type": "stream",
     "text": [
      "Area of Circle: 78.5\n",
      "Area of Rectangle: 24\n"
     ]
    }
   ],
   "source": [
    "import abc\n",
    "\n",
    "class Shape():  # Abstract class\n",
    "    @abc.abstractmethod\n",
    "    def area(self):\n",
    "        pass\n",
    "\n",
    "class Circle(Shape):\n",
    "    def __init__(self, radius):\n",
    "        self.radius = radius\n",
    "    \n",
    "    def area(self):\n",
    "        return 3.14 * self.radius**2\n",
    "\n",
    "class Rectangle(Shape):\n",
    "    def __init__(self, length, width):\n",
    "        self.length = length\n",
    "        self.width = width\n",
    "    \n",
    "    def area(self):\n",
    "        return self.length * self.width\n",
    "\n",
    "# Creating instances and calculating areas\n",
    "cir_instance = Circle(5)\n",
    "rect_instance = Rectangle(4, 6)\n",
    "\n",
    "print(\"Area of Circle:\", cir_instance.area())       # Output: Area of Circle: 78.5\n",
    "print(\"Area of Rectangle:\", rect_instance.area())  # Output: Area of Rectangle: 24"
   ]
  },
  {
   "cell_type": "code",
   "execution_count": null,
   "id": "bf8f432c-2790-43d8-82a3-a9f731716426",
   "metadata": {},
   "outputs": [],
   "source": []
  },
  {
   "cell_type": "markdown",
   "id": "f8730d14-192c-4ced-bce2-b5956c0c157a",
   "metadata": {},
   "source": [
    "### Q2. Differentiate between Abstraction and Encapsulation. Explain with an example."
   ]
  },
  {
   "cell_type": "code",
   "execution_count": null,
   "id": "ce5cdaa7-0dfd-4631-9fad-f056afaa7b94",
   "metadata": {},
   "outputs": [],
   "source": []
  },
  {
   "cell_type": "code",
   "execution_count": null,
   "id": "9bf03c30-8597-4e12-b691-847e3e9fd624",
   "metadata": {},
   "outputs": [],
   "source": []
  },
  {
   "cell_type": "markdown",
   "id": "8e994b6c-5e67-4ae9-9e9a-b1f80ee66ec1",
   "metadata": {},
   "source": [
    "### Q3. What is abc module in python? Why is it used?"
   ]
  },
  {
   "cell_type": "markdown",
   "id": "52d3ef62-5d16-4d4a-adff-2fb25d08c2ea",
   "metadata": {},
   "source": [
    "The abc module in Python stands for \"Abstract Base Classes.\" It provides the ABC (Abstract Base Class) and abstractmethod decorators, allowing developers to define abstract classes and abstract methods, respectively.The ABC class allows you to create abstract classes, which are classes that cannot be instantiated directly. Abstract classes can have abstract methods (methods without a body) that must be implemented by concrete subclasses.And the abstractmethod decorator is used to declare abstract methods within abstract classes. Subclasses inheriting from these abstract classes must provide concrete implementations for these abstract methods."
   ]
  },
  {
   "cell_type": "code",
   "execution_count": null,
   "id": "64b2a542-ef7e-4386-a721-37d726354713",
   "metadata": {},
   "outputs": [],
   "source": []
  },
  {
   "cell_type": "markdown",
   "id": "e00e18b1-635f-4e1e-b905-ff34889ea22d",
   "metadata": {},
   "source": [
    "### Q4. How can we achieve data abstraction?"
   ]
  },
  {
   "cell_type": "markdown",
   "id": "89dcd086-0ecf-4483-b827-955cea8d72c3",
   "metadata": {},
   "source": [
    "Data abstraction in Python can be achieved through the use of classes and objects. Following are the steps to achieve data abstraction:\n",
    "1. Define a Class\n",
    "2. Use Access Modifiers\n",
    "3. Provide Methods for Interaction\n",
    "4. Create Instances and Interact\n",
    "\n",
    "By following these steps, you achieve data abstraction by encapsulating the data within a class, providing controlled access through methods, and potentially using properties for additional control. This promotes a clean separation between the internal representation of data and the external interface, enhancing the maintainability and flexibility of your code."
   ]
  },
  {
   "cell_type": "code",
   "execution_count": null,
   "id": "323ee0e6-17c5-4b93-b25d-0e27b0561564",
   "metadata": {},
   "outputs": [],
   "source": []
  },
  {
   "cell_type": "markdown",
   "id": "563ba768-a0a3-4fe4-a8eb-87ac3b3bcf19",
   "metadata": {},
   "source": [
    "### Q5. Can we create an instance of an abstract class? Explain your answer."
   ]
  },
  {
   "cell_type": "markdown",
   "id": "9ea4d678-ab79-4d50-866e-dbb1a2ff3bab",
   "metadata": {},
   "source": [
    "No, you cannot create an instance of an abstract class in Python. Abstract classes are meant to be incomplete and serve as blueprints for other classes. They may contain abstract methods (methods without a body) that must be implemented by concrete subclasses.\n",
    "\n",
    "In Python, abstract classes are created using the abc (Abstract Base Class) module and the abstractmethod decorator. An abstract class can have abstract methods that provide a common interface for all the concrete subclasses."
   ]
  },
  {
   "cell_type": "code",
   "execution_count": 13,
   "id": "f666274e-c980-4405-87eb-57348709c692",
   "metadata": {},
   "outputs": [],
   "source": [
    "import abc\n",
    "class MyAbstractClass():\n",
    "    @abc.abstractmethod\n",
    "    def my_abstract_method(self):\n",
    "        pass\n",
    "\n",
    "# Attempting to create an instance of an abstract class will result in an error\n",
    "# TypeError: Can't instantiate abstract class MyAbstractClass with abstract methods my_abstract_method\n",
    "my_instance = MyAbstractClass()"
   ]
  },
  {
   "cell_type": "code",
   "execution_count": null,
   "id": "8adf4f6b-c6be-4cd0-8ec0-eadce9188253",
   "metadata": {},
   "outputs": [],
   "source": []
  }
 ],
 "metadata": {
  "kernelspec": {
   "display_name": "Python 3 (ipykernel)",
   "language": "python",
   "name": "python3"
  },
  "language_info": {
   "codemirror_mode": {
    "name": "ipython",
    "version": 3
   },
   "file_extension": ".py",
   "mimetype": "text/x-python",
   "name": "python",
   "nbconvert_exporter": "python",
   "pygments_lexer": "ipython3",
   "version": "3.10.8"
  }
 },
 "nbformat": 4,
 "nbformat_minor": 5
}
