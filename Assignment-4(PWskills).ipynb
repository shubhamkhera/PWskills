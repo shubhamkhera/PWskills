{
 "cells": [
  {
   "cell_type": "markdown",
   "id": "b5b60268-6d23-426f-8c17-949b43dd453d",
   "metadata": {},
   "source": [
    "### Q1. Create a python program to sort the given list of tuples based on integer value using a lambda function.\n",
    "**[('Sachin Tendulkar', 34357), ('Ricky Ponting', 27483), ('Jack Kallis', 25534), ('Virat Kohli', 24936)]**"
   ]
  },
  {
   "cell_type": "code",
   "execution_count": 1,
   "id": "5f251004-3072-434c-ae38-ed0a101fc80f",
   "metadata": {},
   "outputs": [
    {
     "name": "stdout",
     "output_type": "stream",
     "text": [
      "Virat Kohli: 24936\n",
      "Jack Kallis: 25534\n",
      "Ricky Ponting: 27483\n",
      "Sachin Tendulkar: 34357\n"
     ]
    }
   ],
   "source": [
    "my_list = [('Sachin Tendulkar', 34357), ('Ricky Ponting', 27483), ('Jack Kallis', 25534), ('Virat Kohli', 24936)]\n",
    "\n",
    "sorted_list = sorted(my_list, key=lambda x: x[1])\n",
    "\n",
    "for name, value in sorted_list:\n",
    "    print(f'{name}: {value}')\n"
   ]
  },
  {
   "cell_type": "code",
   "execution_count": null,
   "id": "19401e44-783d-48c6-80fc-2a54ea272db2",
   "metadata": {},
   "outputs": [],
   "source": []
  },
  {
   "cell_type": "markdown",
   "id": "9c7022d1-e3ab-459a-94ee-cde7ce29503f",
   "metadata": {},
   "source": [
    "### Q2. Write a Python Program to find the squares of all the numbers in the given list of integers using lambda and map functions.\n",
    "**[1, 2, 3, 4, 5, 6, 7, 8, 9, 10]**"
   ]
  },
  {
   "cell_type": "code",
   "execution_count": 2,
   "id": "ccb79683-a215-462f-92f8-80d435d6b515",
   "metadata": {},
   "outputs": [
    {
     "data": {
      "text/plain": [
       "[1, 4, 9, 16, 25, 36, 49, 64, 81, 100]"
      ]
     },
     "execution_count": 2,
     "metadata": {},
     "output_type": "execute_result"
    }
   ],
   "source": [
    "my_list = [1, 2, 3, 4, 5, 6, 7, 8, 9, 10]\n",
    "\n",
    "square_list = list(map(lambda x: x ** 2, my_list))\n",
    "\n",
    "square_list"
   ]
  },
  {
   "cell_type": "code",
   "execution_count": null,
   "id": "4b1930f3-ee17-4d1e-961f-81d7900e9fdb",
   "metadata": {},
   "outputs": [],
   "source": []
  },
  {
   "cell_type": "markdown",
   "id": "a0b5dc7a-867b-4f67-a901-617f38ab5923",
   "metadata": {},
   "source": [
    "### Q3. Write a python program to convert the given list of integers into a tuple of strings. Use map and lambda functions\n",
    "**Given String: [1, 2, 3, 4, 5, 6, 7, 8, 9, 10]**\n",
    "**Expected output: ('1', '2', '3', '4', '5', '6', '7', '8', '9', '10')**"
   ]
  },
  {
   "cell_type": "code",
   "execution_count": 3,
   "id": "82f99874-90f3-4826-85d8-4b9bfa7c05af",
   "metadata": {},
   "outputs": [
    {
     "name": "stdout",
     "output_type": "stream",
     "text": [
      "('1', '2', '3', '4', '5', '6', '7', '8', '9', '10')\n"
     ]
    }
   ],
   "source": [
    "numbers = [1, 2, 3, 4, 5, 6, 7, 8, 9, 10]\n",
    "\n",
    "string_tuple = tuple(map(lambda x: str(x), numbers))\n",
    "\n",
    "print(string_tuple)"
   ]
  },
  {
   "cell_type": "markdown",
   "id": "82c207de-1108-47e4-80c4-752a9b3f045b",
   "metadata": {},
   "source": [
    "### Q4. Write a python program using reduce function to compute the product of a list containing numbers from 1 to 25."
   ]
  },
  {
   "cell_type": "code",
   "execution_count": 4,
   "id": "35c3f6d9-c4e3-4bb1-bf07-2f0d71a7bde1",
   "metadata": {},
   "outputs": [
    {
     "data": {
      "text/plain": [
       "15511210043330985984000000"
      ]
     },
     "execution_count": 4,
     "metadata": {},
     "output_type": "execute_result"
    }
   ],
   "source": [
    "from functools import reduce\n",
    "numbers = [1, 2, 3, 4, 5, 6, 7, 8, 9, 10, 11, 12, 13, 14, 15, 16, 17, 18, 19, 20, 21, 22, 23, 24, 25]\n",
    "reduce(lambda x,y: x*y , numbers)"
   ]
  },
  {
   "cell_type": "code",
   "execution_count": null,
   "id": "b4aa54a2-798e-416e-af8d-5a9cd979897b",
   "metadata": {},
   "outputs": [],
   "source": []
  },
  {
   "cell_type": "markdown",
   "id": "f849ef66-3dbf-469c-90dd-2b6da1e0cafa",
   "metadata": {},
   "source": [
    "### Q5. Write a python program to filter the numbers in a given list that are divisible by 2 and 3 using the filter function.\n",
    "**[2, 3, 6, 9, 27, 60, 90, 120, 55, 46]**"
   ]
  },
  {
   "cell_type": "code",
   "execution_count": 5,
   "id": "1d1caace-99e2-4254-a55d-6b0a148ab6c2",
   "metadata": {},
   "outputs": [],
   "source": [
    "list2 = [2, 3, 6, 9, 27, 60, 90, 120, 55, 46]\n",
    "div2 = list(filter(lambda x: x%2 == 0, list2))\n",
    "div3 = list(filter(lambda x: x%3 == 0, list2))"
   ]
  },
  {
   "cell_type": "code",
   "execution_count": 6,
   "id": "737d3ecb-b4ad-4719-9ab3-a8b856a23d9a",
   "metadata": {},
   "outputs": [
    {
     "name": "stdout",
     "output_type": "stream",
     "text": [
      "Lsit of numbers divisible by 2:  [2, 6, 60, 90, 120, 46]\n",
      "Lsit of numbers divisible by 3:  [3, 6, 9, 27, 60, 90, 120]\n"
     ]
    }
   ],
   "source": [
    "print(\"Lsit of numbers divisible by 2: \", div2)\n",
    "print(\"Lsit of numbers divisible by 3: \", div3)"
   ]
  },
  {
   "cell_type": "code",
   "execution_count": null,
   "id": "65396143-d3d9-4a42-bbf8-a917ab482f5e",
   "metadata": {},
   "outputs": [],
   "source": []
  },
  {
   "cell_type": "markdown",
   "id": "d4da68f6-2634-46e7-bfe0-157a9b59c11d",
   "metadata": {},
   "source": [
    "### Q6. Write a python program to find palindromes in the given list of strings using lambda and filter function.\n",
    "**['python', 'php', 'aba', 'radar', 'level']**"
   ]
  },
  {
   "cell_type": "code",
   "execution_count": 11,
   "id": "12b5adfc-eab0-4067-8e07-1e83e63ee608",
   "metadata": {},
   "outputs": [
    {
     "data": {
      "text/plain": [
       "['php', 'aba', 'radar', 'level']"
      ]
     },
     "execution_count": 11,
     "metadata": {},
     "output_type": "execute_result"
    }
   ],
   "source": [
    "string_list = ['python', 'php', 'aba', 'radar', 'level']\n",
    "list(filter(lambda x: x == x[::-1], string_list))"
   ]
  },
  {
   "cell_type": "code",
   "execution_count": null,
   "id": "553df3d9-cbed-4578-bcd7-006cea0a3028",
   "metadata": {},
   "outputs": [],
   "source": []
  }
 ],
 "metadata": {
  "kernelspec": {
   "display_name": "Python 3 (ipykernel)",
   "language": "python",
   "name": "python3"
  },
  "language_info": {
   "codemirror_mode": {
    "name": "ipython",
    "version": 3
   },
   "file_extension": ".py",
   "mimetype": "text/x-python",
   "name": "python",
   "nbconvert_exporter": "python",
   "pygments_lexer": "ipython3",
   "version": "3.10.8"
  }
 },
 "nbformat": 4,
 "nbformat_minor": 5
}
